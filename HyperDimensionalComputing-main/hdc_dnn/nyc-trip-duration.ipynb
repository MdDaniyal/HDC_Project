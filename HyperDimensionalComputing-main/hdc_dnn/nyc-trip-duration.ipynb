{
 "cells": [
  {
   "cell_type": "code",
   "execution_count": 1,
   "metadata": {
    "_cell_guid": "b1076dfc-b9ad-4769-8c92-a6c4dae69d19",
    "_uuid": "8f2839f25d086af736a60e9eeb907d3b93b6e0e5",
    "execution": {
     "iopub.execute_input": "2023-06-13T04:07:47.753789Z",
     "iopub.status.busy": "2023-06-13T04:07:47.753346Z",
     "iopub.status.idle": "2023-06-13T04:07:47.766177Z",
     "shell.execute_reply": "2023-06-13T04:07:47.764425Z",
     "shell.execute_reply.started": "2023-06-13T04:07:47.753756Z"
    }
   },
   "outputs": [],
   "source": [
    "# This Python 3 environment comes with many helpful analytics libraries installed\n",
    "# It is defined by the kaggle/python Docker image: https://github.com/kaggle/docker-python\n",
    "# For example, here's several helpful packages to load\n",
    "\n",
    "import numpy as np # linear algebra\n",
    "import pandas as pd # data processing, CSV file I/O (e.g. pd.read_csv)"
   ]
  },
  {
   "cell_type": "code",
   "execution_count": 2,
   "metadata": {
    "execution": {
     "iopub.execute_input": "2023-06-13T04:07:47.769925Z",
     "iopub.status.busy": "2023-06-13T04:07:47.769033Z",
     "iopub.status.idle": "2023-06-13T04:07:52.349113Z",
     "shell.execute_reply": "2023-06-13T04:07:52.347621Z",
     "shell.execute_reply.started": "2023-06-13T04:07:47.769881Z"
    }
   },
   "outputs": [],
   "source": [
    "import numpy as np\n",
    "import pandas as pd\n",
    "import matplotlib.pyplot as plt\n",
    "# import seaborn as sns\n",
    "from math import radians, sin, cos, sqrt, atan2\n",
    "# from geopy.distance import geodesic\n",
    "from sklearn.cluster import KMeans\n",
    "from haversine import haversine\n",
    "from sklearn.model_selection import train_test_split\n",
    "# import xgboost as xgb\n",
    "from sklearn.metrics import mean_squared_error\n",
    "from sklearn.ensemble import RandomForestRegressor, AdaBoostRegressor\n",
    "\n",
    "# \n",
    "# import folium\n",
    "import zipfile\n",
    "\n",
    "\n",
    "np.random.seed(42)"
   ]
  },
  {
   "cell_type": "code",
   "execution_count": 3,
   "metadata": {
    "execution": {
     "iopub.execute_input": "2023-06-13T04:07:55.006692Z",
     "iopub.status.busy": "2023-06-13T04:07:55.006096Z",
     "iopub.status.idle": "2023-06-13T04:08:00.982783Z",
     "shell.execute_reply": "2023-06-13T04:08:00.981614Z",
     "shell.execute_reply.started": "2023-06-13T04:07:55.006643Z"
    }
   },
   "outputs": [
    {
     "name": "stdout",
     "output_type": "stream",
     "text": [
      "CPU times: user 2.57 s, sys: 434 ms, total: 3.01 s\n",
      "Wall time: 3.01 s\n"
     ]
    },
    {
     "data": {
      "text/html": [
       "<div>\n",
       "<style scoped>\n",
       "    .dataframe tbody tr th:only-of-type {\n",
       "        vertical-align: middle;\n",
       "    }\n",
       "\n",
       "    .dataframe tbody tr th {\n",
       "        vertical-align: top;\n",
       "    }\n",
       "\n",
       "    .dataframe thead th {\n",
       "        text-align: right;\n",
       "    }\n",
       "</style>\n",
       "<table border=\"1\" class=\"dataframe\">\n",
       "  <thead>\n",
       "    <tr style=\"text-align: right;\">\n",
       "      <th></th>\n",
       "      <th>vendor_id</th>\n",
       "      <th>pickup_datetime</th>\n",
       "      <th>dropoff_datetime</th>\n",
       "      <th>passenger_count</th>\n",
       "      <th>pickup_longitude</th>\n",
       "      <th>pickup_latitude</th>\n",
       "      <th>dropoff_longitude</th>\n",
       "      <th>dropoff_latitude</th>\n",
       "      <th>store_and_fwd_flag</th>\n",
       "      <th>trip_duration</th>\n",
       "    </tr>\n",
       "    <tr>\n",
       "      <th>id</th>\n",
       "      <th></th>\n",
       "      <th></th>\n",
       "      <th></th>\n",
       "      <th></th>\n",
       "      <th></th>\n",
       "      <th></th>\n",
       "      <th></th>\n",
       "      <th></th>\n",
       "      <th></th>\n",
       "      <th></th>\n",
       "    </tr>\n",
       "  </thead>\n",
       "  <tbody>\n",
       "    <tr>\n",
       "      <th>id2875421</th>\n",
       "      <td>2</td>\n",
       "      <td>2016-03-14 17:24:55</td>\n",
       "      <td>2016-03-14 17:32:30</td>\n",
       "      <td>1</td>\n",
       "      <td>-73.982155</td>\n",
       "      <td>40.767937</td>\n",
       "      <td>-73.964630</td>\n",
       "      <td>40.765602</td>\n",
       "      <td>N</td>\n",
       "      <td>455</td>\n",
       "    </tr>\n",
       "    <tr>\n",
       "      <th>id2377394</th>\n",
       "      <td>1</td>\n",
       "      <td>2016-06-12 00:43:35</td>\n",
       "      <td>2016-06-12 00:54:38</td>\n",
       "      <td>1</td>\n",
       "      <td>-73.980415</td>\n",
       "      <td>40.738564</td>\n",
       "      <td>-73.999481</td>\n",
       "      <td>40.731152</td>\n",
       "      <td>N</td>\n",
       "      <td>663</td>\n",
       "    </tr>\n",
       "    <tr>\n",
       "      <th>id3858529</th>\n",
       "      <td>2</td>\n",
       "      <td>2016-01-19 11:35:24</td>\n",
       "      <td>2016-01-19 12:10:48</td>\n",
       "      <td>1</td>\n",
       "      <td>-73.979027</td>\n",
       "      <td>40.763939</td>\n",
       "      <td>-74.005333</td>\n",
       "      <td>40.710087</td>\n",
       "      <td>N</td>\n",
       "      <td>2124</td>\n",
       "    </tr>\n",
       "    <tr>\n",
       "      <th>id3504673</th>\n",
       "      <td>2</td>\n",
       "      <td>2016-04-06 19:32:31</td>\n",
       "      <td>2016-04-06 19:39:40</td>\n",
       "      <td>1</td>\n",
       "      <td>-74.010040</td>\n",
       "      <td>40.719971</td>\n",
       "      <td>-74.012268</td>\n",
       "      <td>40.706718</td>\n",
       "      <td>N</td>\n",
       "      <td>429</td>\n",
       "    </tr>\n",
       "    <tr>\n",
       "      <th>id2181028</th>\n",
       "      <td>2</td>\n",
       "      <td>2016-03-26 13:30:55</td>\n",
       "      <td>2016-03-26 13:38:10</td>\n",
       "      <td>1</td>\n",
       "      <td>-73.973053</td>\n",
       "      <td>40.793209</td>\n",
       "      <td>-73.972923</td>\n",
       "      <td>40.782520</td>\n",
       "      <td>N</td>\n",
       "      <td>435</td>\n",
       "    </tr>\n",
       "  </tbody>\n",
       "</table>\n",
       "</div>"
      ],
      "text/plain": [
       "           vendor_id      pickup_datetime     dropoff_datetime  \\\n",
       "id                                                               \n",
       "id2875421          2  2016-03-14 17:24:55  2016-03-14 17:32:30   \n",
       "id2377394          1  2016-06-12 00:43:35  2016-06-12 00:54:38   \n",
       "id3858529          2  2016-01-19 11:35:24  2016-01-19 12:10:48   \n",
       "id3504673          2  2016-04-06 19:32:31  2016-04-06 19:39:40   \n",
       "id2181028          2  2016-03-26 13:30:55  2016-03-26 13:38:10   \n",
       "\n",
       "           passenger_count  pickup_longitude  pickup_latitude  \\\n",
       "id                                                              \n",
       "id2875421                1        -73.982155        40.767937   \n",
       "id2377394                1        -73.980415        40.738564   \n",
       "id3858529                1        -73.979027        40.763939   \n",
       "id3504673                1        -74.010040        40.719971   \n",
       "id2181028                1        -73.973053        40.793209   \n",
       "\n",
       "           dropoff_longitude  dropoff_latitude store_and_fwd_flag  \\\n",
       "id                                                                  \n",
       "id2875421         -73.964630         40.765602                  N   \n",
       "id2377394         -73.999481         40.731152                  N   \n",
       "id3858529         -74.005333         40.710087                  N   \n",
       "id3504673         -74.012268         40.706718                  N   \n",
       "id2181028         -73.972923         40.782520                  N   \n",
       "\n",
       "           trip_duration  \n",
       "id                        \n",
       "id2875421            455  \n",
       "id2377394            663  \n",
       "id3858529           2124  \n",
       "id3504673            429  \n",
       "id2181028            435  "
      ]
     },
     "execution_count": 3,
     "metadata": {},
     "output_type": "execute_result"
    }
   ],
   "source": [
    "%%time\n",
    "data = pd.read_csv('data/NYC_Taxi/train.csv')\n",
    "data.set_index('id',inplace=True)\n",
    "data.head(5)"
   ]
  },
  {
   "cell_type": "code",
   "execution_count": 4,
   "metadata": {
    "execution": {
     "iopub.execute_input": "2023-06-13T04:08:00.985695Z",
     "iopub.status.busy": "2023-06-13T04:08:00.984403Z",
     "iopub.status.idle": "2023-06-13T04:08:00.995909Z",
     "shell.execute_reply": "2023-06-13T04:08:00.994146Z",
     "shell.execute_reply.started": "2023-06-13T04:08:00.985646Z"
    }
   },
   "outputs": [
    {
     "data": {
      "text/plain": [
       "(1458644, 10)"
      ]
     },
     "execution_count": 4,
     "metadata": {},
     "output_type": "execute_result"
    }
   ],
   "source": [
    "data.shape"
   ]
  },
  {
   "cell_type": "code",
   "execution_count": 5,
   "metadata": {
    "execution": {
     "iopub.execute_input": "2023-06-13T04:08:00.999557Z",
     "iopub.status.busy": "2023-06-13T04:08:00.998229Z",
     "iopub.status.idle": "2023-06-13T04:08:01.016164Z",
     "shell.execute_reply": "2023-06-13T04:08:01.015078Z",
     "shell.execute_reply.started": "2023-06-13T04:08:00.999502Z"
    }
   },
   "outputs": [
    {
     "data": {
      "text/plain": [
       "Index(['vendor_id', 'pickup_datetime', 'dropoff_datetime', 'passenger_count',\n",
       "       'pickup_longitude', 'pickup_latitude', 'dropoff_longitude',\n",
       "       'dropoff_latitude', 'store_and_fwd_flag', 'trip_duration'],\n",
       "      dtype='object')"
      ]
     },
     "execution_count": 5,
     "metadata": {},
     "output_type": "execute_result"
    }
   ],
   "source": [
    "data.columns"
   ]
  },
  {
   "cell_type": "code",
   "execution_count": 6,
   "metadata": {
    "execution": {
     "iopub.execute_input": "2023-06-13T04:08:01.018267Z",
     "iopub.status.busy": "2023-06-13T04:08:01.017869Z",
     "iopub.status.idle": "2023-06-13T04:08:01.531979Z",
     "shell.execute_reply": "2023-06-13T04:08:01.529236Z",
     "shell.execute_reply.started": "2023-06-13T04:08:01.018233Z"
    }
   },
   "outputs": [
    {
     "data": {
      "text/html": [
       "<div>\n",
       "<style scoped>\n",
       "    .dataframe tbody tr th:only-of-type {\n",
       "        vertical-align: middle;\n",
       "    }\n",
       "\n",
       "    .dataframe tbody tr th {\n",
       "        vertical-align: top;\n",
       "    }\n",
       "\n",
       "    .dataframe thead th {\n",
       "        text-align: right;\n",
       "    }\n",
       "</style>\n",
       "<table border=\"1\" class=\"dataframe\">\n",
       "  <thead>\n",
       "    <tr style=\"text-align: right;\">\n",
       "      <th></th>\n",
       "      <th>vendor_id</th>\n",
       "      <th>passenger_count</th>\n",
       "      <th>pickup_longitude</th>\n",
       "      <th>pickup_latitude</th>\n",
       "      <th>dropoff_longitude</th>\n",
       "      <th>dropoff_latitude</th>\n",
       "      <th>trip_duration</th>\n",
       "    </tr>\n",
       "  </thead>\n",
       "  <tbody>\n",
       "    <tr>\n",
       "      <th>count</th>\n",
       "      <td>1458644.00</td>\n",
       "      <td>1458644.00</td>\n",
       "      <td>1458644.00</td>\n",
       "      <td>1458644.00</td>\n",
       "      <td>1458644.00</td>\n",
       "      <td>1458644.00</td>\n",
       "      <td>1458644.00</td>\n",
       "    </tr>\n",
       "    <tr>\n",
       "      <th>mean</th>\n",
       "      <td>1.53</td>\n",
       "      <td>1.66</td>\n",
       "      <td>-73.97</td>\n",
       "      <td>40.75</td>\n",
       "      <td>-73.97</td>\n",
       "      <td>40.75</td>\n",
       "      <td>959.49</td>\n",
       "    </tr>\n",
       "    <tr>\n",
       "      <th>std</th>\n",
       "      <td>0.50</td>\n",
       "      <td>1.31</td>\n",
       "      <td>0.07</td>\n",
       "      <td>0.03</td>\n",
       "      <td>0.07</td>\n",
       "      <td>0.04</td>\n",
       "      <td>5237.43</td>\n",
       "    </tr>\n",
       "    <tr>\n",
       "      <th>min</th>\n",
       "      <td>1.00</td>\n",
       "      <td>0.00</td>\n",
       "      <td>-121.93</td>\n",
       "      <td>34.36</td>\n",
       "      <td>-121.93</td>\n",
       "      <td>32.18</td>\n",
       "      <td>1.00</td>\n",
       "    </tr>\n",
       "    <tr>\n",
       "      <th>25%</th>\n",
       "      <td>1.00</td>\n",
       "      <td>1.00</td>\n",
       "      <td>-73.99</td>\n",
       "      <td>40.74</td>\n",
       "      <td>-73.99</td>\n",
       "      <td>40.74</td>\n",
       "      <td>397.00</td>\n",
       "    </tr>\n",
       "    <tr>\n",
       "      <th>50%</th>\n",
       "      <td>2.00</td>\n",
       "      <td>1.00</td>\n",
       "      <td>-73.98</td>\n",
       "      <td>40.75</td>\n",
       "      <td>-73.98</td>\n",
       "      <td>40.75</td>\n",
       "      <td>662.00</td>\n",
       "    </tr>\n",
       "    <tr>\n",
       "      <th>75%</th>\n",
       "      <td>2.00</td>\n",
       "      <td>2.00</td>\n",
       "      <td>-73.97</td>\n",
       "      <td>40.77</td>\n",
       "      <td>-73.96</td>\n",
       "      <td>40.77</td>\n",
       "      <td>1075.00</td>\n",
       "    </tr>\n",
       "    <tr>\n",
       "      <th>max</th>\n",
       "      <td>2.00</td>\n",
       "      <td>9.00</td>\n",
       "      <td>-61.34</td>\n",
       "      <td>51.88</td>\n",
       "      <td>-61.34</td>\n",
       "      <td>43.92</td>\n",
       "      <td>3526282.00</td>\n",
       "    </tr>\n",
       "  </tbody>\n",
       "</table>\n",
       "</div>"
      ],
      "text/plain": [
       "       vendor_id  passenger_count  pickup_longitude  pickup_latitude  \\\n",
       "count 1458644.00       1458644.00        1458644.00       1458644.00   \n",
       "mean        1.53             1.66            -73.97            40.75   \n",
       "std         0.50             1.31              0.07             0.03   \n",
       "min         1.00             0.00           -121.93            34.36   \n",
       "25%         1.00             1.00            -73.99            40.74   \n",
       "50%         2.00             1.00            -73.98            40.75   \n",
       "75%         2.00             2.00            -73.97            40.77   \n",
       "max         2.00             9.00            -61.34            51.88   \n",
       "\n",
       "       dropoff_longitude  dropoff_latitude  trip_duration  \n",
       "count         1458644.00        1458644.00     1458644.00  \n",
       "mean              -73.97             40.75         959.49  \n",
       "std                 0.07              0.04        5237.43  \n",
       "min              -121.93             32.18           1.00  \n",
       "25%               -73.99             40.74         397.00  \n",
       "50%               -73.98             40.75         662.00  \n",
       "75%               -73.96             40.77        1075.00  \n",
       "max               -61.34             43.92     3526282.00  "
      ]
     },
     "execution_count": 6,
     "metadata": {},
     "output_type": "execute_result"
    }
   ],
   "source": [
    "pd.set_option(\"display.float_format\", \"{:.2f}\".format)\n",
    "data.describe()"
   ]
  },
  {
   "cell_type": "code",
   "execution_count": 7,
   "metadata": {
    "execution": {
     "iopub.execute_input": "2023-06-13T04:08:01.535539Z",
     "iopub.status.busy": "2023-06-13T04:08:01.534063Z",
     "iopub.status.idle": "2023-06-13T04:08:03.108668Z",
     "shell.execute_reply": "2023-06-13T04:08:03.107155Z",
     "shell.execute_reply.started": "2023-06-13T04:08:01.535479Z"
    }
   },
   "outputs": [
    {
     "name": "stdout",
     "output_type": "stream",
     "text": [
      "<class 'pandas.core.frame.DataFrame'>\n",
      "Index: 1458644 entries, id2875421 to id1209952\n",
      "Data columns (total 10 columns):\n",
      " #   Column              Non-Null Count    Dtype  \n",
      "---  ------              --------------    -----  \n",
      " 0   vendor_id           1458644 non-null  int64  \n",
      " 1   pickup_datetime     1458644 non-null  object \n",
      " 2   dropoff_datetime    1458644 non-null  object \n",
      " 3   passenger_count     1458644 non-null  int64  \n",
      " 4   pickup_longitude    1458644 non-null  float64\n",
      " 5   pickup_latitude     1458644 non-null  float64\n",
      " 6   dropoff_longitude   1458644 non-null  float64\n",
      " 7   dropoff_latitude    1458644 non-null  float64\n",
      " 8   store_and_fwd_flag  1458644 non-null  object \n",
      " 9   trip_duration       1458644 non-null  int64  \n",
      "dtypes: float64(4), int64(3), object(3)\n",
      "memory usage: 122.4+ MB\n"
     ]
    }
   ],
   "source": [
    "data.info()"
   ]
  },
  {
   "cell_type": "code",
   "execution_count": 8,
   "metadata": {
    "execution": {
     "iopub.execute_input": "2023-06-13T04:08:03.115492Z",
     "iopub.status.busy": "2023-06-13T04:08:03.114355Z",
     "iopub.status.idle": "2023-06-13T04:08:03.654981Z",
     "shell.execute_reply": "2023-06-13T04:08:03.653493Z",
     "shell.execute_reply.started": "2023-06-13T04:08:03.115429Z"
    }
   },
   "outputs": [],
   "source": [
    "data = data.loc[data['trip_duration']<20000]"
   ]
  },
  {
   "cell_type": "markdown",
   "metadata": {},
   "source": [
    "There are outliers here. This might not comply with our obervation. No one takes 2 million seconds in cab travelling."
   ]
  },
  {
   "cell_type": "code",
   "execution_count": 9,
   "metadata": {
    "execution": {
     "iopub.execute_input": "2023-06-13T04:08:09.420671Z",
     "iopub.status.busy": "2023-06-13T04:08:09.420263Z",
     "iopub.status.idle": "2023-06-13T04:08:10.630863Z",
     "shell.execute_reply": "2023-06-13T04:08:10.629547Z",
     "shell.execute_reply.started": "2023-06-13T04:08:09.420636Z"
    }
   },
   "outputs": [],
   "source": [
    "data['pickup_datetime'] = pd.to_datetime(data['pickup_datetime'],format='%Y-%m-%d %H:%M:%S')\n",
    "data['dropoff_datetime'] = pd.to_datetime(data['dropoff_datetime'],format='%Y-%m-%d %H:%M:%S')"
   ]
  },
  {
   "cell_type": "code",
   "execution_count": 10,
   "metadata": {
    "execution": {
     "iopub.execute_input": "2023-06-13T04:08:10.644269Z",
     "iopub.status.busy": "2023-06-13T04:08:10.642902Z",
     "iopub.status.idle": "2023-06-13T04:08:11.203476Z",
     "shell.execute_reply": "2023-06-13T04:08:11.201735Z",
     "shell.execute_reply.started": "2023-06-13T04:08:10.644224Z"
    }
   },
   "outputs": [
    {
     "data": {
      "text/plain": [
       "(1438064, 10)"
      ]
     },
     "execution_count": 10,
     "metadata": {},
     "output_type": "execute_result"
    }
   ],
   "source": [
    "data = data.loc[(data['pickup_latitude'] >= 40.637044) & (data['pickup_latitude'] <= 40.855256)]\n",
    "data = data.loc[(data['pickup_longitude'] >= -74.035735) & (data['pickup_longitude'] <= -73.770272)]\n",
    "data = data.loc[(data['dropoff_latitude'] >= 40.637044) & (data['dropoff_latitude'] <= 40.855256)]\n",
    "data = data.loc[(data['dropoff_longitude'] >= -74.035735) & (data['dropoff_longitude'] <= -73.770272)]\n",
    "data.shape"
   ]
  },
  {
   "cell_type": "markdown",
   "metadata": {},
   "source": [
    "If you obeserve the map, most of the pickups and dropoffs are downtown of manhattan. and you see something on the right bottom corner, its JFK airport. The dropoffs are scattered in manhattan and near manhattan. So if the dropoffs is manhattan or via manhattan then at peak time the duration will be a lot."
   ]
  },
  {
   "cell_type": "code",
   "execution_count": 11,
   "metadata": {
    "execution": {
     "iopub.execute_input": "2023-06-13T04:08:11.212215Z",
     "iopub.status.busy": "2023-06-13T04:08:11.211854Z",
     "iopub.status.idle": "2023-06-13T04:08:12.222616Z",
     "shell.execute_reply": "2023-06-13T04:08:12.221675Z",
     "shell.execute_reply.started": "2023-06-13T04:08:11.212172Z"
    }
   },
   "outputs": [
    {
     "data": {
      "text/plain": [
       "id\n",
       "id2875421       Monday\n",
       "id2377394       Sunday\n",
       "id3858529      Tuesday\n",
       "id3504673    Wednesday\n",
       "id2181028     Saturday\n",
       "               ...    \n",
       "id2376096       Friday\n",
       "id1049543       Sunday\n",
       "id2304944       Friday\n",
       "id2714485      Tuesday\n",
       "id1209952      Tuesday\n",
       "Name: day_of_week, Length: 1438064, dtype: object"
      ]
     },
     "execution_count": 11,
     "metadata": {},
     "output_type": "execute_result"
    }
   ],
   "source": [
    "data['day_of_week'] = data['pickup_datetime'].dt.dayofweek\n",
    "day_names = ['Monday', 'Tuesday', 'Wednesday', 'Thursday', 'Friday', 'Saturday', 'Sunday']\n",
    "data['day_of_week'] = data['day_of_week'].map(lambda x: day_names[x])\n",
    "data['day_of_week']"
   ]
  },
  {
   "cell_type": "code",
   "execution_count": 12,
   "metadata": {
    "execution": {
     "iopub.execute_input": "2023-06-13T04:08:14.004709Z",
     "iopub.status.busy": "2023-06-13T04:08:14.003422Z",
     "iopub.status.idle": "2023-06-13T04:08:15.797291Z",
     "shell.execute_reply": "2023-06-13T04:08:15.796332Z",
     "shell.execute_reply.started": "2023-06-13T04:08:14.004670Z"
    }
   },
   "outputs": [],
   "source": [
    "data['trip_in_minutes'] = data['trip_duration']/60\n",
    "# sns.boxplot(data=data,x='day_of_week',y='trip_in_minutes')\n",
    "# plt.ticklabel_format(style='plain', axis='y')\n",
    "# plt.show()"
   ]
  },
  {
   "cell_type": "markdown",
   "metadata": {},
   "source": [
    "There are outliers here. This might not comply with our obervation. No one takes 30000 minutes in cab travelling."
   ]
  },
  {
   "cell_type": "markdown",
   "metadata": {},
   "source": [
    "Lets see rushhour trips. Based on research\n",
    "\n",
    "**Morning hours: 6:00 AM to 11:00 AM\\\n",
    "Afternoon hours: 11:00 AM to 4:00 PM\\\n",
    "Evening hours: 4:00 PM to 8:00 PM \\\n",
    "Night hours: 8:00 PM to 2:00 AM**"
   ]
  },
  {
   "cell_type": "code",
   "execution_count": 13,
   "metadata": {
    "execution": {
     "iopub.execute_input": "2023-06-13T04:08:15.799952Z",
     "iopub.status.busy": "2023-06-13T04:08:15.798615Z",
     "iopub.status.idle": "2023-06-13T04:08:15.967800Z",
     "shell.execute_reply": "2023-06-13T04:08:15.966524Z",
     "shell.execute_reply.started": "2023-06-13T04:08:15.799908Z"
    }
   },
   "outputs": [
    {
     "data": {
      "text/plain": [
       "id\n",
       "id2875421    17\n",
       "id2377394     0\n",
       "id3858529    11\n",
       "id3504673    19\n",
       "id2181028    13\n",
       "Name: pickup_hour, dtype: int32"
      ]
     },
     "execution_count": 13,
     "metadata": {},
     "output_type": "execute_result"
    }
   ],
   "source": [
    "data['pickup_hour'] = data['pickup_datetime'].dt.hour\n",
    "data['pickup_hour'].head()"
   ]
  },
  {
   "cell_type": "code",
   "execution_count": 14,
   "metadata": {
    "execution": {
     "iopub.execute_input": "2023-06-13T04:08:16.886593Z",
     "iopub.status.busy": "2023-06-13T04:08:16.886056Z",
     "iopub.status.idle": "2023-06-13T04:08:17.618882Z",
     "shell.execute_reply": "2023-06-13T04:08:17.617324Z",
     "shell.execute_reply.started": "2023-06-13T04:08:16.886545Z"
    }
   },
   "outputs": [],
   "source": [
    "data['pickup_month'] = data['pickup_datetime'].dt.month\n",
    "\n",
    "# sns.countplot(data=data,x='pickup_month')"
   ]
  },
  {
   "cell_type": "markdown",
   "metadata": {},
   "source": [
    "Its strange to see but there is only 6 months of data and August is starting of tourist season but this data doesnt have next 6 months."
   ]
  },
  {
   "cell_type": "code",
   "execution_count": 15,
   "metadata": {
    "execution": {
     "iopub.execute_input": "2023-06-13T04:08:17.621909Z",
     "iopub.status.busy": "2023-06-13T04:08:17.621105Z",
     "iopub.status.idle": "2023-06-13T04:08:19.888630Z",
     "shell.execute_reply": "2023-06-13T04:08:19.887158Z",
     "shell.execute_reply.started": "2023-06-13T04:08:17.621864Z"
    }
   },
   "outputs": [],
   "source": [
    "data['date'] = data['pickup_datetime'].dt.day\n",
    "# plt.figure(figsize=(14,8))\n",
    "# sns.countplot(data=data,x='date',hue='vendor_id')"
   ]
  },
  {
   "cell_type": "markdown",
   "metadata": {},
   "source": [
    "There's not a lot to observe here."
   ]
  },
  {
   "cell_type": "markdown",
   "metadata": {},
   "source": [
    "Considerbly, weekends have more trips."
   ]
  },
  {
   "cell_type": "markdown",
   "metadata": {},
   "source": [
    "We have latitudes and longitudes which we cannot use directly in modeling. So I am going to experiment those into clusters."
   ]
  },
  {
   "cell_type": "code",
   "execution_count": 16,
   "metadata": {
    "execution": {
     "iopub.execute_input": "2023-06-13T04:08:25.006652Z",
     "iopub.status.busy": "2023-06-13T04:08:25.006235Z",
     "iopub.status.idle": "2023-06-13T04:08:39.548734Z",
     "shell.execute_reply": "2023-06-13T04:08:39.547549Z",
     "shell.execute_reply.started": "2023-06-13T04:08:25.006620Z"
    }
   },
   "outputs": [
    {
     "name": "stderr",
     "output_type": "stream",
     "text": [
      "/home/hpc/iwi3/iwi3083h/.conda/envs/hdc/lib/python3.8/site-packages/sklearn/cluster/_kmeans.py:870: FutureWarning: The default value of `n_init` will change from 10 to 'auto' in 1.4. Set the value of `n_init` explicitly to suppress the warning\n",
      "  warnings.warn(\n",
      "/home/hpc/iwi3/iwi3083h/.conda/envs/hdc/lib/python3.8/site-packages/sklearn/cluster/_kmeans.py:870: FutureWarning: The default value of `n_init` will change from 10 to 'auto' in 1.4. Set the value of `n_init` explicitly to suppress the warning\n",
      "  warnings.warn(\n"
     ]
    }
   ],
   "source": [
    "pickup_coordinates = data[['pickup_latitude','pickup_longitude']]\n",
    "dropoff_coordinates = data[['dropoff_latitude','dropoff_longitude']]\n",
    "\n",
    "n_clusters = 5\n",
    "\n",
    "pickup_kmeans = KMeans(n_clusters=n_clusters,random_state=42)\n",
    "data['pickup_cluster_label'] = pickup_kmeans.fit_predict(pickup_coordinates)\n",
    "\n",
    "dropoff_kmeans = KMeans(n_clusters=n_clusters,random_state=42)\n",
    "data['dropoff_cluster_label'] = dropoff_kmeans.fit_predict(dropoff_coordinates)"
   ]
  },
  {
   "cell_type": "code",
   "execution_count": 17,
   "metadata": {
    "execution": {
     "iopub.execute_input": "2023-06-13T04:08:41.465693Z",
     "iopub.status.busy": "2023-06-13T04:08:41.465253Z",
     "iopub.status.idle": "2023-06-13T04:09:36.674038Z",
     "shell.execute_reply": "2023-06-13T04:09:36.672678Z",
     "shell.execute_reply.started": "2023-06-13T04:08:41.465654Z"
    }
   },
   "outputs": [
    {
     "data": {
      "text/plain": [
       "id\n",
       "id2875421   1.50\n",
       "id2377394   1.81\n",
       "id3858529   6.39\n",
       "id3504673   1.49\n",
       "id2181028   1.19\n",
       "id0801584   1.10\n",
       "id1813257   1.33\n",
       "id1324603   5.71\n",
       "id1301050   1.31\n",
       "id0012891   5.12\n",
       "Name: haversine_distance, dtype: float64"
      ]
     },
     "execution_count": 17,
     "metadata": {},
     "output_type": "execute_result"
    }
   ],
   "source": [
    "data['haversine_distance'] = data.apply(lambda x: haversine((x['pickup_latitude'],x['pickup_longitude']),(x['dropoff_latitude'],x['dropoff_longitude'])),axis=1)\n",
    "data['haversine_distance'].head(10)"
   ]
  },
  {
   "cell_type": "markdown",
   "metadata": {},
   "source": [
    "Thats it for understanding the data, lets model it.\n",
    "\n",
    "## Data Modeling"
   ]
  },
  {
   "cell_type": "code",
   "execution_count": 18,
   "metadata": {
    "execution": {
     "iopub.execute_input": "2023-06-13T04:10:00.173792Z",
     "iopub.status.busy": "2023-06-13T04:10:00.173374Z",
     "iopub.status.idle": "2023-06-13T04:10:01.264962Z",
     "shell.execute_reply": "2023-06-13T04:10:01.263483Z",
     "shell.execute_reply.started": "2023-06-13T04:10:00.173759Z"
    }
   },
   "outputs": [
    {
     "data": {
      "text/plain": [
       "Index(['pickup_datetime', 'dropoff_datetime', 'passenger_count',\n",
       "       'pickup_longitude', 'pickup_latitude', 'dropoff_longitude',\n",
       "       'dropoff_latitude', 'trip_duration', 'trip_in_minutes', 'pickup_hour',\n",
       "       'pickup_month', 'date', 'pickup_cluster_label', 'dropoff_cluster_label',\n",
       "       'haversine_distance', 'vendor_id_1', 'vendor_id_2',\n",
       "       'store_and_fwd_flag_N', 'store_and_fwd_flag_Y', 'day_of_week_Friday',\n",
       "       'day_of_week_Monday', 'day_of_week_Saturday', 'day_of_week_Sunday',\n",
       "       'day_of_week_Thursday', 'day_of_week_Tuesday', 'day_of_week_Wednesday'],\n",
       "      dtype='object')"
      ]
     },
     "execution_count": 18,
     "metadata": {},
     "output_type": "execute_result"
    }
   ],
   "source": [
    "data = pd.get_dummies(data,columns=['vendor_id','store_and_fwd_flag','day_of_week'])\n",
    "data.columns"
   ]
  },
  {
   "cell_type": "code",
   "execution_count": 19,
   "metadata": {},
   "outputs": [],
   "source": [
    "data.drop(columns=[\"pickup_datetime\", \"dropoff_datetime\"], inplace = True)"
   ]
  },
  {
   "cell_type": "code",
   "execution_count": 21,
   "metadata": {},
   "outputs": [
    {
     "data": {
      "text/plain": [
       "count   1438064.00\n",
       "mean        824.70\n",
       "std         647.44\n",
       "min           1.00\n",
       "25%         394.00\n",
       "50%         655.00\n",
       "75%        1057.00\n",
       "max       18794.00\n",
       "Name: trip_duration, dtype: float64"
      ]
     },
     "execution_count": 21,
     "metadata": {},
     "output_type": "execute_result"
    }
   ],
   "source": [
    "data['trip_duration'].describe()"
   ]
  },
  {
   "cell_type": "code",
   "execution_count": 22,
   "metadata": {},
   "outputs": [],
   "source": [
    "data['trip_duration'] = pd.cut(data['trip_duration'], [0,400,660,1060,3000, 20000], labels = [1, 2, 3, 4, 5])"
   ]
  },
  {
   "cell_type": "code",
   "execution_count": 23,
   "metadata": {
    "scrolled": true
   },
   "outputs": [
    {
     "data": {
      "text/plain": [
       "trip_duration\n",
       "1    368898\n",
       "2    356504\n",
       "3    355521\n",
       "4    337232\n",
       "5     19909\n",
       "Name: count, dtype: int64"
      ]
     },
     "execution_count": 23,
     "metadata": {},
     "output_type": "execute_result"
    }
   ],
   "source": [
    "data['trip_duration'].value_counts()"
   ]
  },
  {
   "cell_type": "code",
   "execution_count": 24,
   "metadata": {
    "execution": {
     "iopub.execute_input": "2023-06-13T04:10:01.266728Z",
     "iopub.status.busy": "2023-06-13T04:10:01.266404Z",
     "iopub.status.idle": "2023-06-13T04:10:01.327395Z",
     "shell.execute_reply": "2023-06-13T04:10:01.326160Z",
     "shell.execute_reply.started": "2023-06-13T04:10:01.266700Z"
    }
   },
   "outputs": [],
   "source": [
    "y = data['trip_duration']\n",
    "X = data.drop(['trip_duration'],axis=1)"
   ]
  },
  {
   "cell_type": "code",
   "execution_count": 25,
   "metadata": {},
   "outputs": [],
   "source": [
    "data.to_csv(\"NYC_cleaned.csv\", index=False)"
   ]
  },
  {
   "cell_type": "code",
   "execution_count": null,
   "metadata": {
    "execution": {
     "iopub.execute_input": "2023-06-13T04:10:01.329867Z",
     "iopub.status.busy": "2023-06-13T04:10:01.329401Z",
     "iopub.status.idle": "2023-06-13T04:10:02.356947Z",
     "shell.execute_reply": "2023-06-13T04:10:02.355146Z",
     "shell.execute_reply.started": "2023-06-13T04:10:01.329827Z"
    }
   },
   "outputs": [],
   "source": [
    "X_train,X_test,y_train,y_test = train_test_split(X,y,random_state=42,test_size=0.3)\n",
    "X_train.shape,X_test.shape,y_train.shape,y_test.shape"
   ]
  },
  {
   "cell_type": "code",
   "execution_count": null,
   "metadata": {},
   "outputs": [],
   "source": [
    "model = RandomForestRegressor()\n",
    "\n",
    "model.fit(X_train,y_train)"
   ]
  },
  {
   "cell_type": "code",
   "execution_count": null,
   "metadata": {
    "execution": {
     "iopub.status.busy": "2023-06-13T04:19:54.814506Z",
     "iopub.status.idle": "2023-06-13T04:19:54.814974Z",
     "shell.execute_reply": "2023-06-13T04:19:54.814771Z",
     "shell.execute_reply.started": "2023-06-13T04:19:54.814752Z"
    }
   },
   "outputs": [],
   "source": [
    "importances = model.feature_importances_\n",
    "feature_names = X.columns\n",
    "indices = np.argsort(importances)[::-1]\n",
    "sorted_feature_names = [feature_names[i] for i in indices]\n",
    "sorted_importances = importances[indices]\n",
    "\n",
    "plt.figure(figsize=(10, 6))\n",
    "plt.bar(range(len(sorted_importances)), sorted_importances, align='center')\n",
    "plt.xticks(range(len(sorted_importances)), sorted_feature_names, rotation='vertical')\n",
    "plt.xlabel('Features')\n",
    "plt.ylabel('Importance')\n",
    "plt.title('Feature Importances')\n",
    "plt.tight_layout()"
   ]
  },
  {
   "cell_type": "code",
   "execution_count": null,
   "metadata": {
    "execution": {
     "iopub.status.busy": "2023-06-13T04:19:54.816421Z",
     "iopub.status.idle": "2023-06-13T04:19:54.816835Z",
     "shell.execute_reply": "2023-06-13T04:19:54.816648Z",
     "shell.execute_reply.started": "2023-06-13T04:19:54.816630Z"
    }
   },
   "outputs": [],
   "source": [
    "ypred = model.predict(X_test)\n",
    "\n",
    "print(\"MSE: \",mean_squared_error(y_test,ypred))"
   ]
  },
  {
   "cell_type": "code",
   "execution_count": null,
   "metadata": {
    "execution": {
     "iopub.status.busy": "2023-06-13T04:19:54.819259Z",
     "iopub.status.idle": "2023-06-13T04:19:54.819939Z",
     "shell.execute_reply": "2023-06-13T04:19:54.819708Z",
     "shell.execute_reply.started": "2023-06-13T04:19:54.819687Z"
    }
   },
   "outputs": [],
   "source": [
    "adamodel = AdaBoostRegressor()\n",
    "adamodel.fit(X_train,y_train)\n",
    "\n",
    "ypred = adamodel.predict(X_test)\n",
    "\n",
    "print(\"MSE: \",mean_squared_error(y_test,ypred))"
   ]
  },
  {
   "cell_type": "code",
   "execution_count": null,
   "metadata": {
    "execution": {
     "iopub.execute_input": "2023-06-13T04:52:52.357571Z",
     "iopub.status.busy": "2023-06-13T04:52:52.356874Z",
     "iopub.status.idle": "2023-06-13T05:22:09.700807Z",
     "shell.execute_reply": "2023-06-13T05:22:09.699728Z",
     "shell.execute_reply.started": "2023-06-13T04:52:52.357530Z"
    }
   },
   "outputs": [],
   "source": [
    "dtrain = xgb.DMatrix(X_train, label=y_train)\n",
    "dvalid = xgb.DMatrix(X_test, label=y_test)\n",
    "watchlist = [(dtrain, 'train'), (dvalid, 'valid')]\n",
    "\n",
    "xgb_pars = {'min_child_weight': 10, 'eta': 0.04, 'colsample_bytree': 0.8, 'max_depth': 15,\n",
    "            'subsample': 0.75, 'lambda': 2, 'nthread': -1, 'booster' : 'gbtree', 'silent': 1, 'gamma' : 0,\n",
    "            'eval_metric': 'rmse', 'objective': 'reg:squarederror'}    \n",
    "\n",
    "model = xgb.train(xgb_pars, dtrain, 500, watchlist, early_stopping_rounds=250,\n",
    "                  maximize=False, verbose_eval=15)"
   ]
  }
 ],
 "metadata": {
  "kernelspec": {
   "display_name": "Python 3 (ipykernel)",
   "language": "python",
   "name": "python3"
  },
  "language_info": {
   "codemirror_mode": {
    "name": "ipython",
    "version": 3
   },
   "file_extension": ".py",
   "mimetype": "text/x-python",
   "name": "python",
   "nbconvert_exporter": "python",
   "pygments_lexer": "ipython3",
   "version": "3.8.0"
  }
 },
 "nbformat": 4,
 "nbformat_minor": 4
}
