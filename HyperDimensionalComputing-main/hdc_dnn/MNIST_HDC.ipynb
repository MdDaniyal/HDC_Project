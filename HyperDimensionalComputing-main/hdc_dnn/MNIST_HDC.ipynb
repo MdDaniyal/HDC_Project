{
 "cells": [
  {
   "cell_type": "code",
   "execution_count": 1,
   "id": "5c0b37b9",
   "metadata": {},
   "outputs": [
    {
     "name": "stderr",
     "output_type": "stream",
     "text": [
      "/home/hpc/iwi3/iwi3083h/.local/lib/python3.8/site-packages/skcuda/cublas.py:284: UserWarning: creating CUBLAS context to get version number\n",
      "  warnings.warn('creating CUBLAS context to get version number')\n"
     ]
    }
   ],
   "source": [
    "\n",
    "import numpy as np\n",
    "import openhd as hd"
   ]
  },
  {
   "cell_type": "code",
   "execution_count": 2,
   "id": "ddc21482",
   "metadata": {},
   "outputs": [],
   "source": [
    "!rm -rf ~/.openhd"
   ]
  },
  {
   "cell_type": "code",
   "execution_count": 3,
   "id": "e7dcf926",
   "metadata": {},
   "outputs": [],
   "source": [
    "import torch\n",
    "from torchvision import datasets\n",
    "from torchvision.transforms import ToTensor\n",
    "train_data = datasets.MNIST(\n",
    "    root = 'data',\n",
    "    train = True,                         \n",
    "    transform = ToTensor(), \n",
    "    download = False,            \n",
    ")\n",
    "test_data = datasets.MNIST(\n",
    "    root = 'data', \n",
    "    train = False, \n",
    "    transform = ToTensor()\n",
    ")"
   ]
  },
  {
   "cell_type": "code",
   "execution_count": 4,
   "id": "d07e2e07",
   "metadata": {},
   "outputs": [],
   "source": [
    "from torch.utils.data import DataLoader\n",
    "train_loader = DataLoader(train_data, \n",
    "                         batch_size=10000, \n",
    "                         shuffle=True, \n",
    "                         num_workers=1)"
   ]
  },
  {
   "cell_type": "code",
   "execution_count": 5,
   "id": "672ec607",
   "metadata": {},
   "outputs": [],
   "source": [
    "test_loader = DataLoader(test_data, \n",
    "                         batch_size=50,\n",
    "                         shuffle=True, \n",
    "                         num_workers=1)"
   ]
  },
  {
   "cell_type": "code",
   "execution_count": 6,
   "id": "7ff6e45c",
   "metadata": {},
   "outputs": [],
   "source": [
    "import torch.nn as nn\n",
    "class CNN(nn.Module):\n",
    "    def __init__(self):\n",
    "        super(CNN, self).__init__()\n",
    "        self.conv1 = nn.Sequential(         \n",
    "            nn.Conv2d(\n",
    "                in_channels=1,              \n",
    "                out_channels=16,            \n",
    "                kernel_size=5,              \n",
    "                stride=1,                   \n",
    "                padding=2,                  \n",
    "            ),                              \n",
    "            nn.ReLU(),                      \n",
    "            nn.MaxPool2d(kernel_size=2),    \n",
    "        )\n",
    "        self.conv2 = nn.Sequential(         \n",
    "            nn.Conv2d(16, 32, 5, 1, 2),     \n",
    "            nn.ReLU(),                      \n",
    "            nn.MaxPool2d(2),                \n",
    "        )\n",
    "        # fully connected layer, output 10 classes\n",
    "        self.out = nn.Linear(32 * 7 * 7, 10)\n",
    "    def forward(self, x):\n",
    "        x = self.conv1(x)\n",
    "        x = self.conv2(x)\n",
    "        x = x.view(x.size(0), -1)       \n",
    "        output = self.out(x)\n",
    "        return output\n",
    "    \n",
    "    def extract_conv_features(self, x):\n",
    "        x = self.conv1(x)\n",
    "        x = self.conv2(x)\n",
    "        return x\n"
   ]
  },
  {
   "cell_type": "code",
   "execution_count": 7,
   "id": "edf4669e",
   "metadata": {},
   "outputs": [],
   "source": [
    "cnn = CNN()\n"
   ]
  },
  {
   "cell_type": "code",
   "execution_count": 8,
   "id": "a1704d70",
   "metadata": {},
   "outputs": [
    {
     "name": "stdout",
     "output_type": "stream",
     "text": [
      "Test Accuracy of the model on the 10000 test images: 0.88\n"
     ]
    }
   ],
   "source": [
    "\n",
    "\n",
    "\n",
    "\n",
    "loss_func = nn.CrossEntropyLoss()   \n",
    "\n",
    "\n",
    "from torch import optim\n",
    "optimizer = optim.Adam(cnn.parameters(), lr = 0.01)   \n",
    "\n",
    "from torch.autograd import Variable\n",
    "\n",
    "def train(num_epochs, cnn):\n",
    "    \n",
    "    cnn.train()\n",
    "    total_step = len(train_loader)\n",
    "        \n",
    "    for epoch in range(num_epochs):\n",
    "        for i, (images, labels) in enumerate(train_loader):\n",
    "            \n",
    "            # gives batch data, normalize x when iterate train_loader\n",
    "            b_x = Variable(images)   # batch x\n",
    "            b_y = Variable(labels)   # batch y\n",
    "\n",
    "            output = cnn(b_x)             \n",
    "            loss = loss_func(output, b_y)\n",
    "            \n",
    "            # clear gradients for this training step   \n",
    "            optimizer.zero_grad()           \n",
    "            \n",
    "            # backpropagation, compute gradients \n",
    "            loss.backward()    \n",
    "            # apply gradients             \n",
    "            optimizer.step()                \n",
    "            \n",
    "            if (i+1) % 100 == 0:\n",
    "                print ('Epoch [{}/{}], Step [{}/{}], Loss: {:.4f}' \n",
    "                       .format(epoch + 1, num_epochs, i + 1, total_step, loss.item()))\n",
    "\n",
    "num_epochs = 2\n",
    "train(num_epochs, cnn)\n",
    "\n",
    "\n",
    "def test():\n",
    "    # Test the model\n",
    "    cnn.eval()\n",
    "    with torch.no_grad():\n",
    "        correct = 0\n",
    "        total = 0\n",
    "        for images, labels in test_loader:\n",
    "            test_output = cnn(images)\n",
    "            pred_y = torch.max(test_output, 1)[1].data.squeeze()\n",
    "            accuracy = (pred_y == labels).sum().item() / float(labels.size(0))\n",
    "            pass\n",
    "        \n",
    "        print('Test Accuracy of the model on the 10000 test images: %.2f' % accuracy)\n",
    "    pass\n",
    "test()\n"
   ]
  },
  {
   "cell_type": "code",
   "execution_count": 9,
   "id": "1678a86b",
   "metadata": {},
   "outputs": [],
   "source": [
    "images, labels = next(iter(train_loader))\n",
    "\n",
    "# feature_matrix = feature_matrix.reshape((60000, 28*28))\n",
    "\n",
    "# feature_matrix = np.array(feature_matrix, dtype = np.float32)\n",
    "# labels = np.array(labels, dtype=np.int32)\n",
    "\n",
    "feature_matrix = cnn.extract_conv_features(images).detach().numpy()\n",
    "\n",
    "feature_matrix = feature_matrix.reshape((10000, 1568))\n",
    "\n",
    "feature_matrix = np.array(feature_matrix, dtype = np.float32)\n",
    "labels = np.array(labels, dtype=np.int32)"
   ]
  },
  {
   "cell_type": "code",
   "execution_count": 10,
   "id": "7d50b227",
   "metadata": {},
   "outputs": [],
   "source": [
    "n_classes = len(set(labels))"
   ]
  },
  {
   "cell_type": "code",
   "execution_count": 11,
   "id": "8d607809",
   "metadata": {},
   "outputs": [],
   "source": [
    "images_tst, labels_tst = next(iter(test_loader))"
   ]
  },
  {
   "cell_type": "code",
   "execution_count": 12,
   "id": "ebff9cb0",
   "metadata": {},
   "outputs": [
    {
     "data": {
      "text/plain": [
       "torch.Size([50, 1, 28, 28])"
      ]
     },
     "execution_count": 12,
     "metadata": {},
     "output_type": "execute_result"
    }
   ],
   "source": [
    "images_tst.shape"
   ]
  },
  {
   "cell_type": "code",
   "execution_count": 25,
   "id": "d2c27ff7",
   "metadata": {},
   "outputs": [
    {
     "name": "stdout",
     "output_type": "stream",
     "text": [
      "1.82 ms ± 3.81 µs per loop (mean ± std. dev. of 7 runs, 1,000 loops each)\n"
     ]
    }
   ],
   "source": [
    "%%timeit\n",
    "feature_matrix_tst = cnn.extract_conv_features(images_tst).detach().numpy()\n",
    "\n",
    "feature_matrix_tst = feature_matrix_tst.reshape((50, 1568))\n",
    "\n",
    "feature_matrix_tst = np.array(feature_matrix_tst, dtype = np.float32)\n",
    "# labels_tst = np.array(labels_tst, dtype=np.int32)"
   ]
  },
  {
   "cell_type": "code",
   "execution_count": 27,
   "id": "df789231",
   "metadata": {},
   "outputs": [
    {
     "data": {
      "text/plain": [
       "0.00182"
      ]
     },
     "execution_count": 27,
     "metadata": {},
     "output_type": "execute_result"
    }
   ],
   "source": [
    "1.82 / 1000"
   ]
  },
  {
   "cell_type": "code",
   "execution_count": 14,
   "id": "74fc34da",
   "metadata": {},
   "outputs": [],
   "source": [
    "Q = 10\n",
    "D = 10000\n",
    "hd.init(D=D, context=globals())"
   ]
  },
  {
   "cell_type": "code",
   "execution_count": 15,
   "id": "b6d99131",
   "metadata": {},
   "outputs": [
    {
     "data": {
      "text/plain": [
       "(10000, 1568)"
      ]
     },
     "execution_count": 15,
     "metadata": {},
     "output_type": "execute_result"
    }
   ],
   "source": [
    "N = feature_matrix.shape[0]\n",
    "F = feature_matrix.shape[1]\n",
    "n_classes = 10\n",
    "N, F"
   ]
  },
  {
   "cell_type": "code",
   "execution_count": 16,
   "id": "a66404c8",
   "metadata": {},
   "outputs": [],
   "source": [
    "@hd.run\n",
    "def create_random_bases():\n",
    "    id_base = hd.draw_random_hypervector()\n",
    "    level_base = hd.draw_random_hypervector()\n",
    "    return id_base, level_base\n",
    "\n",
    "\n",
    "@hd.run\n",
    "def create_ids(F, id_base):\n",
    "    id_hvs = hd.hypermatrix(F) # np.zeros(F, N) (not the empty list) \n",
    "    for f in range(F):\n",
    "        id_hvs[f] = hd.permute(id_base, f)\n",
    "\n",
    "    return id_hvs\n",
    "\n",
    "@hd.run\n",
    "def create_levels(Q, level_base):\n",
    "    level_hvs = hd.hypermatrix(Q+1) # np.zeros((Q+1), N) (not the empty list)\n",
    "    for q in range(Q+1):\n",
    "        idx = int(q/float(Q) * D) / 2\n",
    "        level_hvs[q] = hd.flip(level_base, idx)\n",
    "        level_hvs[q] = hd.shuffle(level_hvs[q], 0)\n",
    "\n",
    "    return level_hvs"
   ]
  },
  {
   "cell_type": "code",
   "execution_count": 17,
   "id": "6f85d0cb",
   "metadata": {},
   "outputs": [
    {
     "name": "stdout",
     "output_type": "stream",
     "text": [
      "\u001b[91m[ERROR]\tjit.date_type_mutator\t\n",
      "<class '_ast.Module'> : \n",
      "  <class '_ast.Assign'> :  [__ARG__id_base : __one__]\n",
      "  <class '_ast.Assign'> :  [__ARG__level_base : __one__]\n",
      "\n",
      "\u001b[0m{'id_base': 'hypervec_type', 'level_base': 'hypervec_type', '__ARG__level_base': 'float*', '__ARG__id_base': 'float*', 'id_base_22b19319': <class 'float'>, 'level_base_5541502b': <class 'float'>}\n",
      "\u001b[91m[ERROR]\tjit.date_type_mutator\t\n",
      "<class '_ast.Module'> : \n",
      "  <class '_ast.For'> :  <RPT: F>\n",
      "    <class '_ast.Assign'> :  [__ARG__id_hvs : __ARG__id_base]\n",
      "\n",
      "\u001b[0m{'f': <class 'int'>, 'F': <class 'int'>, 'id_hvs': 'hypermat_type', 'id_base': 'hypervec_type', '__ARG__id_base': 'float*', '__ARG__id_hvs': 'float*', 'id_base_f_16a56737': <class 'float'>, 'id_hvs_f_00177a23': <class 'float'>}\n",
      "\u001b[91m[ERROR]\tjit.date_type_mutator\t\n",
      "<class '_ast.Module'> : \n",
      "  <class '_ast.Assign'> :  [level_hvs_q_7acb546c : __ARG__level_base]\n",
      "  <class '_ast.Assign'> :  [__ARG__level_hvs : level_hvs_q_7acb546c]\n",
      "\n",
      "\u001b[0m{'idx': <class 'int'>, 'q': 'int', 'Q': <class 'int'>, 'D': <class 'int'>, 'level_hvs': 'hypermat_type', 'level_base': 'hypervec_type', '__ARG__level_base': 'float*', '__ARG__level_hvs': 'float*', 'level_base_5541502b': <class 'float'>, 'level_hvs_q_7acb546c': <class 'float'>}\n",
      "Base hypervectors\t1.0689222812652588\n"
     ]
    }
   ],
   "source": [
    "with hd.utils.timing(\"Base hypervectors\"):\n",
    "    id_base, level_base = create_random_bases()\n",
    "    id_hvs = create_ids(F, id_base)\n",
    "    level_hvs = create_levels(Q, level_base)\n"
   ]
  },
  {
   "cell_type": "code",
   "execution_count": 18,
   "id": "265f4619",
   "metadata": {},
   "outputs": [],
   "source": [
    "def preprocesser(\n",
    "        org_feature, cnv_feature, # Predefined argument (single feature)\n",
    "        Q, level_hvs, id_hvs): # arguments passed by args\n",
    "    cnv_feature = int(org_feature * Q)\n",
    "\n",
    "\n",
    "def encoder(\n",
    "        input_features, output_hypervector, # Predefined arguments\n",
    "        Q, level_hvs, id_hvs): # arguments passed by args\n",
    "    for f in range(F):\n",
    "        output_hypervector += level_hvs[input_features[f]] * id_hvs[f]"
   ]
  },
  {
   "cell_type": "code",
   "execution_count": 19,
   "id": "12aa9604",
   "metadata": {},
   "outputs": [
    {
     "name": "stdout",
     "output_type": "stream",
     "text": [
      "\u001b[91m[ERROR]\tjit.date_type_mutator\t\n",
      "<class '_ast.Module'> : \n",
      "  <class '_ast.Assign'> :  [output_hypervector___n_____base_n___2964e176 : __ARG__output_hypervector]\n",
      "  <class '_ast.For'> :  <RPT: F>\n",
      "    <class '_ast.Assign'> :  [output_hypervector___n_____base_n___2964e176 : __ARG__id_hvs*__ARG__level_hvs + output_hypervector___n_____base_n___2964e176]\n",
      "  <class '_ast.Assign'> :  [__ARG__output_hypervector : output_hypervector___n_____base_n___2964e176]\n",
      "\n",
      "\u001b[0m{'__n__': <class 'int'>, '__blockIdx_y__': <class 'int'>, '__base_n__': 'int', '__N__': <class 'int'>, '__blockDim_x__': <class 'int'>, '__F__': <class 'int'>, '__threadIdx_x__': <class 'int'>, 'F_PER_THREAD': <class 'int'>, 'sample_idx_in_stream': <class 'int'>, '__stream__': 'int', '__M__': <class 'int'>, '__f__': <class 'int'>, '__f_idx__': <class 'int'>, 'original_feature': <class 'float'>, 'input_features': 'np_float_array_type', 'preprocessed_feature': <class 'float'>, '__shared_features__': 'np_float_array_type', '__d__': <class 'int'>, '__blockIdx_x__': <class 'int'>, '__D__': <class 'int'>, 'f': <class 'int'>, 'F': <class 'int'>, 'output_hypervector': 'hypermat_type', 'level_hvs': 'hypermat_type', 'id_hvs': 'hypermat_type', '__ARG__id_hvs': 'float*', '__ARG__level_hvs': 'float*', '__ARG__output_hypervector': 'float*', '__shared_features___f_fb10dfcf': <class 'float'>, 'level_hvs_f___shared_features___7add4eda': <class 'float'>, 'id_hvs_f_00177a23': <class 'float'>, 'output_hypervector___n_____base_n___2964e176': <class 'float'>, 'input_features_sample_idx_in_stream___f_idx___dc384242': <class 'float'>, '__shared_features_____f_idx___112c42af': <class 'float'>}\n",
      "Encode training\t1.4007072448730469\n"
     ]
    }
   ],
   "source": [
    "with hd.utils.timing(\"Encode training\"):\n",
    "    hv_matrix = hd.encode(\n",
    "            encoder, extra_args = (Q, level_hvs, id_hvs),\n",
    "            feature_matrix = feature_matrix,\n",
    "#             preprocess_function = preprocesser # optional\n",
    "            )"
   ]
  },
  {
   "cell_type": "code",
   "execution_count": 20,
   "id": "e18dbee8",
   "metadata": {
    "scrolled": false
   },
   "outputs": [
    {
     "data": {
      "text/plain": [
       "(50, 1568)"
      ]
     },
     "execution_count": 20,
     "metadata": {},
     "output_type": "execute_result"
    }
   ],
   "source": [
    "feature_matrix_tst.shape"
   ]
  },
  {
   "cell_type": "code",
   "execution_count": 21,
   "id": "7cdb5062",
   "metadata": {},
   "outputs": [
    {
     "name": "stdout",
     "output_type": "stream",
     "text": [
      "\u001b[91m[ERROR]\tjit.date_type_mutator\t\n",
      "<class '_ast.Module'> : \n",
      "  <class '_ast.Assign'> :  [output_hypervector___n_____base_n___2964e176 : __ARG__output_hypervector]\n",
      "  <class '_ast.For'> :  <RPT: F>\n",
      "    <class '_ast.Assign'> :  [output_hypervector___n_____base_n___2964e176 : __ARG__id_hvs*__ARG__level_hvs + output_hypervector___n_____base_n___2964e176]\n",
      "  <class '_ast.Assign'> :  [__ARG__output_hypervector : output_hypervector___n_____base_n___2964e176]\n",
      "\n",
      "\u001b[0m{'__n__': <class 'int'>, '__blockIdx_y__': <class 'int'>, '__base_n__': 'int', '__N__': <class 'int'>, '__blockDim_x__': <class 'int'>, '__F__': <class 'int'>, '__threadIdx_x__': <class 'int'>, 'F_PER_THREAD': <class 'int'>, 'sample_idx_in_stream': <class 'int'>, '__stream__': 'int', '__M__': <class 'int'>, '__f__': <class 'int'>, '__f_idx__': <class 'int'>, 'org_feature': <class 'float'>, 'input_features': 'np_float_array_type', 'cnv_feature': <class 'int'>, 'Q': <class 'int'>, '__shared_features__': 'np_float_array_type', '__d__': <class 'int'>, '__blockIdx_x__': <class 'int'>, '__D__': <class 'int'>, 'f': <class 'int'>, 'F': <class 'int'>, 'output_hypervector': 'hypermat_type', 'level_hvs': 'hypermat_type', 'id_hvs': 'hypermat_type', '__ARG__id_hvs': 'float*', '__ARG__level_hvs': 'float*', '__ARG__output_hypervector': 'float*', '__shared_features___f_fb10dfcf': <class 'float'>, 'level_hvs_f___shared_features___7add4eda': <class 'float'>, 'id_hvs_f_00177a23': <class 'float'>, 'output_hypervector___n_____base_n___2964e176': <class 'float'>, 'input_features_sample_idx_in_stream___f_idx___dc384242': <class 'float'>, '__shared_features_____f_idx___112c42af': <class 'float'>}\n",
      "Encode testing\t0.5768606662750244\n"
     ]
    }
   ],
   "source": [
    "with hd.utils.timing(\"Encode testing\"):\n",
    "    hv_matrix_tst = hd.encode(\n",
    "            encoder, extra_args = (Q, level_hvs, id_hvs),\n",
    "            feature_matrix = feature_matrix_tst,\n",
    "            preprocess_function = preprocesser # optional\n",
    "            )\n"
   ]
  },
  {
   "cell_type": "code",
   "execution_count": 28,
   "id": "f172e771",
   "metadata": {},
   "outputs": [],
   "source": [
    "@hd.run\n",
    "def single_pass(hv_matrix, labels, N, n_classes):\n",
    "    class_hvs = hd.hypermatrix(n_classes)\n",
    "\n",
    "    for idx in range(N):\n",
    "        class_hvs[labels[idx]] += hv_matrix[idx]\n",
    "\n",
    "    return class_hvs"
   ]
  },
  {
   "cell_type": "code",
   "execution_count": null,
   "id": "52fb616a",
   "metadata": {},
   "outputs": [],
   "source": []
  },
  {
   "cell_type": "code",
   "execution_count": 29,
   "id": "50669e3c",
   "metadata": {},
   "outputs": [
    {
     "name": "stdout",
     "output_type": "stream",
     "text": [
      "\u001b[91m[ERROR]\tjit.date_type_mutator\t\n",
      "<class '_ast.Module'> : \n",
      "  <class '_ast.For'> :  <RPT: N>\n",
      "    <class '_ast.Assign'> :  [__ARG__class_hvs : __ARG__class_hvs + __ARG__hv_matrix]\n",
      "\n",
      "\u001b[0m{'idx': <class 'int'>, 'N': <class 'int'>, 'class_hvs': 'hypermat_type', 'labels': 'np_int_array_type', 'hv_matrix': 'hypermat_type', '__ARG__labels': 'int*', '__ARG__labels__STRIDE__': 'const int', '__ARG__class_hvs': 'float*', '__ARG__hv_matrix': 'float*', 'hv_matrix_idx_ead026f6': <class 'float'>, 'labels_idx_b9c77ce4': <class 'int'>, 'class_hvs_labels_idx_df62a0b1': <class 'float'>}\n",
      "Single pass\t0.5503640174865723\n"
     ]
    }
   ],
   "source": [
    "with hd.utils.timing(\"Single pass\"):\n",
    "    class_hvs = single_pass(hv_matrix, labels, N, n_classes)\n",
    "    class_hvs.debug_print_values()"
   ]
  },
  {
   "cell_type": "code",
   "execution_count": 30,
   "id": "4b49c020",
   "metadata": {},
   "outputs": [],
   "source": [
    "def validate(labels, pred_labels):\n",
    "    n_correct = (pred_labels == labels).sum()\n",
    "    n_labels = len(labels)\n",
    "    print(n_correct, n_labels, n_correct / float(n_labels) * 100)\n"
   ]
  },
  {
   "cell_type": "code",
   "execution_count": 31,
   "id": "55ff4e2f",
   "metadata": {},
   "outputs": [],
   "source": [
    "@hd.run\n",
    "def retrain(class_hvs, hv_matrix, labels, N, n_classes):\n",
    "    search_results = hd.search(class_hvs, hv_matrix)\n",
    "\n",
    "    for idx in range(N):\n",
    "        if search_results[idx] != labels[idx]:\n",
    "            class_hvs[labels[idx]] += hv_matrix[idx]\n",
    "            class_hvs[search_results[idx]] -= hv_matrix[idx]\n",
    "\n",
    "    return class_hvs\n"
   ]
  },
  {
   "cell_type": "code",
   "execution_count": 32,
   "id": "fc5c7033",
   "metadata": {
    "scrolled": true
   },
   "outputs": [
    {
     "name": "stdout",
     "output_type": "stream",
     "text": [
      "\u001b[91m[ERROR]\tjit.date_type_mutator\t\n",
      "<class '_ast.Module'> : \n",
      "  <class '_ast.For'> :  <RPT: N>\n",
      "    <class '_ast.Assign'> :  [hv_matrix_idx_ead026f6 : __ARG__hv_matrix]\n",
      "    <class '_ast.If'> : \n",
      "      then : \n",
      "        <class '_ast.Assign'> :  [__ARG__class_hvs : __ARG__class_hvs + hv_matrix_idx_ead026f6]\n",
      "        <class '_ast.Assign'> :  [__ARG__class_hvs : __ARG__class_hvs + hv_matrix_idx_ead026f6]\n",
      "      else : \n",
      "\n",
      "\u001b[0m{'idx': <class 'int'>, 'N': <class 'int'>, 'search_results': 'np_int_array_type', 'labels': 'np_int_array_type', 'class_hvs': 'hypermat_type', 'hv_matrix': 'hypermat_type', '__ARG__labels': 'int*', '__ARG__labels__STRIDE__': 'const int', '__ARG__search_results': 'int*', '__ARG__search_results__STRIDE__': 'const int', '__ARG__class_hvs': 'float*', '__ARG__hv_matrix': 'float*', 'search_results_idx_b85d35f6': <class 'int'>, 'labels_idx_b9c77ce4': <class 'int'>, 'hv_matrix_idx_ead026f6': <class 'float'>, 'class_hvs_labels_idx_df62a0b1': <class 'float'>, 'class_hvs_idx_search_results_572d847d': <class 'float'>}\n",
      "Retrain itereation: 0\t0.7767302989959717\n",
      "Retrain itereation: 1\t0.08751201629638672\n",
      "Retrain itereation: 2\t0.0839989185333252\n",
      "Retrain itereation: 3\t0.0837860107421875\n",
      "Retrain itereation: 4\t0.07868599891662598\n",
      "Retrain itereation: 5\t0.07624626159667969\n",
      "Retrain itereation: 6\t0.07588315010070801\n",
      "Retrain itereation: 7\t0.07618975639343262\n",
      "Retrain itereation: 8\t0.07599878311157227\n",
      "Retrain itereation: 9\t0.07622289657592773\n",
      "Retrain itereation: 10\t0.07677888870239258\n",
      "Retrain itereation: 11\t0.07605147361755371\n",
      "Retrain itereation: 12\t0.07648944854736328\n",
      "Retrain itereation: 13\t0.07685685157775879\n",
      "Retrain itereation: 14\t0.07594084739685059\n",
      "Retrain itereation: 15\t0.07604837417602539\n",
      "Retrain itereation: 16\t0.07621550559997559\n",
      "Retrain itereation: 17\t0.0760958194732666\n",
      "Retrain itereation: 18\t0.07591748237609863\n",
      "Retrain itereation: 19\t0.07608699798583984\n",
      "Retrain itereation: 20\t0.07625913619995117\n",
      "Retrain itereation: 21\t0.07620716094970703\n",
      "Retrain itereation: 22\t0.07634449005126953\n",
      "Retrain itereation: 23\t0.07621598243713379\n",
      "Retrain itereation: 24\t0.07597041130065918\n",
      "Retrain itereation: 25\t0.07613945007324219\n",
      "Retrain itereation: 26\t0.07705521583557129\n",
      "Retrain itereation: 27\t0.07615113258361816\n",
      "Retrain itereation: 28\t0.07618999481201172\n",
      "Retrain itereation: 29\t0.07611560821533203\n",
      "Retrain itereation: 30\t0.0762181282043457\n",
      "Retrain itereation: 31\t0.07640409469604492\n",
      "Retrain itereation: 32\t0.07679128646850586\n",
      "Retrain itereation: 33\t0.07673454284667969\n",
      "Retrain itereation: 34\t0.07660627365112305\n",
      "Retrain itereation: 35\t0.07600164413452148\n",
      "Retrain itereation: 36\t0.07629275321960449\n",
      "Retrain itereation: 37\t0.07698321342468262\n",
      "Retrain itereation: 38\t0.0762488842010498\n",
      "Retrain itereation: 39\t0.0762183666229248\n",
      "Retrain itereation: 40\t0.07621955871582031\n",
      "Retrain itereation: 41\t0.07627248764038086\n",
      "Retrain itereation: 42\t0.07600688934326172\n",
      "Retrain itereation: 43\t0.07649970054626465\n",
      "Retrain itereation: 44\t0.07596468925476074\n",
      "Retrain itereation: 45\t0.07614874839782715\n",
      "Retrain itereation: 46\t0.07626223564147949\n",
      "Retrain itereation: 47\t0.07610082626342773\n",
      "Retrain itereation: 48\t0.07588696479797363\n",
      "Retrain itereation: 49\t0.07594585418701172\n",
      "Retrain itereation: 50\t0.07615280151367188\n",
      "Retrain itereation: 51\t0.07628107070922852\n",
      "Retrain itereation: 52\t0.07616901397705078\n",
      "Retrain itereation: 53\t0.07617878913879395\n",
      "Retrain itereation: 54\t0.07591056823730469\n",
      "Retrain itereation: 55\t0.07662129402160645\n",
      "Retrain itereation: 56\t0.07598280906677246\n",
      "Retrain itereation: 57\t0.0760645866394043\n",
      "Retrain itereation: 58\t0.07625150680541992\n",
      "Retrain itereation: 59\t0.07656645774841309\n",
      "Retrain itereation: 60\t0.07601070404052734\n",
      "Retrain itereation: 61\t0.07606959342956543\n",
      "Retrain itereation: 62\t0.07593607902526855\n",
      "Retrain itereation: 63\t0.07611560821533203\n",
      "Retrain itereation: 64\t0.07617783546447754\n",
      "Retrain itereation: 65\t0.07638788223266602\n",
      "Retrain itereation: 66\t0.0759737491607666\n",
      "Retrain itereation: 67\t0.07634353637695312\n",
      "Retrain itereation: 68\t0.07631063461303711\n",
      "Retrain itereation: 69\t0.07629179954528809\n",
      "Retrain itereation: 70\t0.076171875\n",
      "Retrain itereation: 71\t0.07600188255310059\n",
      "Retrain itereation: 72\t0.07602429389953613\n",
      "Retrain itereation: 73\t0.07654118537902832\n",
      "Retrain itereation: 74\t0.07609724998474121\n",
      "Retrain itereation: 75\t0.07612299919128418\n",
      "Retrain itereation: 76\t0.07631301879882812\n",
      "Retrain itereation: 77\t0.07620811462402344\n",
      "Retrain itereation: 78\t0.07666754722595215\n",
      "Retrain itereation: 79\t0.07729721069335938\n",
      "Retrain itereation: 80\t0.07618474960327148\n",
      "Retrain itereation: 81\t0.07618975639343262\n",
      "Retrain itereation: 82\t0.07639551162719727\n",
      "Retrain itereation: 83\t0.07592344284057617\n",
      "Retrain itereation: 84\t0.07645654678344727\n",
      "Retrain itereation: 85\t0.07671689987182617\n",
      "Retrain itereation: 86\t0.07616496086120605\n",
      "Retrain itereation: 87\t0.07612299919128418\n",
      "Retrain itereation: 88\t0.07611680030822754\n",
      "Retrain itereation: 89\t0.07602977752685547\n",
      "Retrain itereation: 90\t0.07680678367614746\n",
      "Retrain itereation: 91\t0.07634973526000977\n",
      "Retrain itereation: 92\t0.07643866539001465\n",
      "Retrain itereation: 93\t0.07613682746887207\n",
      "Retrain itereation: 94\t0.07655715942382812\n",
      "Retrain itereation: 95\t0.07618832588195801\n",
      "Retrain itereation: 96\t0.07645821571350098\n",
      "Retrain itereation: 97\t0.07622933387756348\n",
      "Retrain itereation: 98\t0.0764005184173584\n",
      "Retrain itereation: 99\t0.07719945907592773\n"
     ]
    }
   ],
   "source": [
    "RETRAIN_ITERATIONS = 100\n",
    "SHOW_STEP_RESULT = False\n",
    "for it in range(RETRAIN_ITERATIONS):\n",
    "    with hd.utils.timing(\"Retrain itereation: %d\" % it):\n",
    "        class_hvs = retrain(class_hvs, hv_matrix, labels, N, n_classes)\n",
    "\n",
    "    if SHOW_STEP_RESULT and labels_tst is not None:\n",
    "        validate(labels_tst, hd.search(class_hvs, hv_matrix_tst).to_numpy())"
   ]
  },
  {
   "cell_type": "code",
   "execution_count": 33,
   "id": "8848b68b",
   "metadata": {},
   "outputs": [],
   "source": [
    "@hd.run\n",
    "def assoc_search(class_hvs, hv_matrix_tst):\n",
    "    ret = hd.search(class_hvs, hv_matrix_tst)\n",
    "    return ret"
   ]
  },
  {
   "cell_type": "code",
   "execution_count": 34,
   "id": "be56705a",
   "metadata": {},
   "outputs": [
    {
     "name": "stdout",
     "output_type": "stream",
     "text": [
      "Testing with class model\n",
      "\t0.020494461059570312\n"
     ]
    }
   ],
   "source": [
    "with hd.utils.timing(\"Testing with class model\\n\"):\n",
    "    search_results = assoc_search(class_hvs, hv_matrix)"
   ]
  },
  {
   "cell_type": "code",
   "execution_count": null,
   "id": "84c647b2",
   "metadata": {
    "scrolled": true
   },
   "outputs": [],
   "source": [
    "search_results.to_numpy() == labels_tst"
   ]
  },
  {
   "cell_type": "code",
   "execution_count": null,
   "id": "bef73be1",
   "metadata": {},
   "outputs": [],
   "source": []
  },
  {
   "cell_type": "code",
   "execution_count": null,
   "id": "9422bf08",
   "metadata": {},
   "outputs": [],
   "source": [
    "def validate(labels, pred_labels):\n",
    "    n_correct = (pred_labels == labels).sum()\n",
    "    n_labels = len(labels)\n",
    "    print(n_correct, n_labels, n_correct / float(n_labels) * 100)\n"
   ]
  },
  {
   "cell_type": "code",
   "execution_count": null,
   "id": "a039da08",
   "metadata": {},
   "outputs": [],
   "source": [
    "validate(labels, search_results.to_numpy())\n"
   ]
  },
  {
   "cell_type": "code",
   "execution_count": null,
   "id": "805e4b36",
   "metadata": {},
   "outputs": [],
   "source": [
    "feature_matrix.shape"
   ]
  },
  {
   "cell_type": "code",
   "execution_count": null,
   "id": "ac1d171c",
   "metadata": {},
   "outputs": [],
   "source": [
    "labels"
   ]
  },
  {
   "cell_type": "code",
   "execution_count": null,
   "id": "dec4f5d1",
   "metadata": {},
   "outputs": [],
   "source": [
    "search_results.to_numpy()"
   ]
  },
  {
   "cell_type": "code",
   "execution_count": null,
   "id": "2a95adf7",
   "metadata": {},
   "outputs": [],
   "source": []
  }
 ],
 "metadata": {
  "kernelspec": {
   "display_name": "Python 3 (ipykernel)",
   "language": "python",
   "name": "python3"
  },
  "language_info": {
   "codemirror_mode": {
    "name": "ipython",
    "version": 3
   },
   "file_extension": ".py",
   "mimetype": "text/x-python",
   "name": "python",
   "nbconvert_exporter": "python",
   "pygments_lexer": "ipython3",
   "version": "3.8.0"
  }
 },
 "nbformat": 4,
 "nbformat_minor": 5
}
