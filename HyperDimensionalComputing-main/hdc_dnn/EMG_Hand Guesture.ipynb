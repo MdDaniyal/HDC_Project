{
 "cells": [
  {
   "cell_type": "code",
   "execution_count": 9,
   "id": "ca52cfa1",
   "metadata": {},
   "outputs": [
    {
     "name": "stdout",
     "output_type": "stream",
     "text": [
      "Using cuda device\n",
      "List of subjects [0]\n",
      "Files already downloaded and verified\n"
     ]
    },
    {
     "name": "stderr",
     "output_type": "stream",
     "text": [
      "Training: 100%|███████████████████████████████████████████████████████| 368/368 [00:00<00:00, 1352.07it/s]\n",
      "Testing: 100%|█████████████████████████████████████████████████████████████| 1/1 [00:00<00:00, 167.96it/s]"
     ]
    },
    {
     "name": "stdout",
     "output_type": "stream",
     "text": [
      "Testing accuracy of 97.468%\n"
     ]
    },
    {
     "name": "stderr",
     "output_type": "stream",
     "text": [
      "\n"
     ]
    }
   ],
   "source": [
    "import torch\n",
    "import torch.nn as nn\n",
    "import torch.nn.functional as F\n",
    "import torch.utils.data as data\n",
    "\n",
    "# Note: this example requires the torchmetrics library: https://torchmetrics.readthedocs.io\n",
    "import torchmetrics\n",
    "from tqdm import tqdm\n",
    "\n",
    "import torchhd\n",
    "from torchhd import embeddings\n",
    "from torchhd.models import Centroid\n",
    "from torchhd.datasets import EMGHandGestures\n",
    "\n",
    "device = torch.device(\"cuda\" if torch.cuda.is_available() else \"cpu\")\n",
    "print(\"Using {} device\".format(device))\n",
    "\n",
    "DIMENSIONS = 10000  # number of hypervector dimensions\n",
    "NUM_LEVELS = 21\n",
    "BATCH_SIZE = 1  # for GPUs with enough memory we can process multiple images at ones\n",
    "WINDOW = 256\n",
    "N_GRAM_SIZE = 4\n",
    "DOWNSAMPLE = 5\n",
    "SUBSAMPLES = torch.arange(0, WINDOW, int(WINDOW / DOWNSAMPLE))\n",
    "\n",
    "\n",
    "def transform(x):\n",
    "    return x[SUBSAMPLES]\n",
    "\n",
    "\n",
    "class Encoder(nn.Module):\n",
    "    def __init__(self, out_features, timestamps, channels):\n",
    "        super(Encoder, self).__init__()\n",
    "\n",
    "        self.channels = embeddings.Random(channels, out_features)\n",
    "        self.signals = embeddings.Level(NUM_LEVELS, out_features, high=20)\n",
    "\n",
    "    def forward(self, input: torch.Tensor) -> torch.Tensor:\n",
    "        signal = self.signals(input)\n",
    "        samples = torchhd.bind(signal, self.channels.weight.unsqueeze(0))\n",
    "\n",
    "        samples = torchhd.multiset(samples)\n",
    "        sample_hv = torchhd.ngrams(samples, n=N_GRAM_SIZE)\n",
    "        return torchhd.hard_quantize(sample_hv)\n",
    "\n",
    "\n",
    "# def experiment(subjects=[0]):\n",
    "subjects=[0]\n",
    "print(\"List of subjects \" + str(subjects))\n",
    "ds = EMGHandGestures(\n",
    "    \"data/\", download=True, subjects=subjects, transform=transform\n",
    ")\n",
    "\n",
    "train_size = int(len(ds) * 0.7)\n",
    "test_size = len(ds) - train_size\n",
    "train_ds, test_ds = data.random_split(ds, [train_size, test_size])\n",
    "\n",
    "train_ld = data.DataLoader(train_ds, batch_size=BATCH_SIZE, shuffle=True)\n",
    "test_ld = data.DataLoader(test_ds, batch_size=test_size, shuffle=False)\n",
    "\n",
    "encode = Encoder(DIMENSIONS, ds[0][0].size(-2), ds[0][0].size(-1))\n",
    "encode = encode.to(device)\n",
    "\n",
    "num_classes = len(ds.classes)\n",
    "model = Centroid(DIMENSIONS, num_classes)\n",
    "model = model.to(device)\n",
    "\n",
    "with torch.no_grad():\n",
    "    for samples, targets in tqdm(train_ld, desc=\"Training\"):\n",
    "        samples = samples.to(device)\n",
    "        targets = targets.to(device)\n",
    "\n",
    "        sample_hv = encode(samples)\n",
    "        model.add(sample_hv, targets)\n",
    "\n",
    "accuracy = torchmetrics.Accuracy(\"multiclass\", num_classes=num_classes)\n",
    "\n",
    "with torch.no_grad():\n",
    "    model.normalize()\n",
    "\n",
    "    for samples, targets in tqdm(test_ld, desc=\"Testing\"):\n",
    "        samples = samples.to(device)\n",
    "\n",
    "        sample_hv = encode(samples)\n",
    "        output = model(sample_hv, dot=True)\n",
    "        accuracy.update(output.cpu(), targets)\n",
    "\n",
    "print(f\"Testing accuracy of {(accuracy.compute().item() * 100):.3f}%\")\n",
    "\n",
    "\n",
    "# Make a model for each subject\n",
    "# for i in range(5):\n",
    "#     experiment([i])"
   ]
  },
  {
   "cell_type": "code",
   "execution_count": null,
   "id": "ffe655de",
   "metadata": {},
   "outputs": [],
   "source": []
  },
  {
   "cell_type": "code",
   "execution_count": 10,
   "id": "3c546e52",
   "metadata": {},
   "outputs": [
    {
     "name": "stdout",
     "output_type": "stream",
     "text": [
      "4.44 ms ± 24.2 µs per loop (mean ± std. dev. of 7 runs, 100 loops each)\n"
     ]
    }
   ],
   "source": [
    "%%timeit\n",
    "samples, _ = next(iter(test_ld))\n",
    "samples = samples.to(device)\n",
    "samples_hv = encode(samples)\n",
    "outputs = model(samples_hv, dot=True)"
   ]
  },
  {
   "cell_type": "code",
   "execution_count": 12,
   "id": "1eb1e057",
   "metadata": {},
   "outputs": [
    {
     "data": {
      "text/plain": [
       "157.79999999999998"
      ]
     },
     "execution_count": 12,
     "metadata": {},
     "output_type": "execute_result"
    }
   ],
   "source": [
    "len(ds) * 0.3"
   ]
  },
  {
   "cell_type": "code",
   "execution_count": 13,
   "id": "73486ad9",
   "metadata": {},
   "outputs": [
    {
     "data": {
      "text/plain": [
       "torch.Size([158, 6, 4])"
      ]
     },
     "execution_count": 13,
     "metadata": {},
     "output_type": "execute_result"
    }
   ],
   "source": [
    "samples.shape"
   ]
  },
  {
   "cell_type": "code",
   "execution_count": 14,
   "id": "796878ec",
   "metadata": {},
   "outputs": [
    {
     "data": {
      "text/plain": [
       "5"
      ]
     },
     "execution_count": 14,
     "metadata": {},
     "output_type": "execute_result"
    }
   ],
   "source": [
    "num_classes"
   ]
  },
  {
   "cell_type": "code",
   "execution_count": null,
   "id": "efcd33f6",
   "metadata": {},
   "outputs": [],
   "source": []
  }
 ],
 "metadata": {
  "kernelspec": {
   "display_name": "Python 3 (ipykernel)",
   "language": "python",
   "name": "python3"
  },
  "language_info": {
   "codemirror_mode": {
    "name": "ipython",
    "version": 3
   },
   "file_extension": ".py",
   "mimetype": "text/x-python",
   "name": "python",
   "nbconvert_exporter": "python",
   "pygments_lexer": "ipython3",
   "version": "3.8.0"
  }
 },
 "nbformat": 4,
 "nbformat_minor": 5
}
