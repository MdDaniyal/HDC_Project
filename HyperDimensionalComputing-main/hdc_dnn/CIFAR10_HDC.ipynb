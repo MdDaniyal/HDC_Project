{
 "cells": [
  {
   "cell_type": "code",
   "execution_count": 1,
   "id": "b6776093",
   "metadata": {},
   "outputs": [
    {
     "name": "stderr",
     "output_type": "stream",
     "text": [
      "/home/hpc/iwi3/iwi3083h/.local/lib/python3.8/site-packages/skcuda/cublas.py:284: UserWarning: creating CUBLAS context to get version number\n",
      "  warnings.warn('creating CUBLAS context to get version number')\n"
     ]
    }
   ],
   "source": [
    "\n",
    "import numpy as np\n",
    "import openhd as hd\n",
    "import matplotlib.pyplot as plt"
   ]
  },
  {
   "cell_type": "code",
   "execution_count": 2,
   "id": "0b899a8f",
   "metadata": {},
   "outputs": [],
   "source": [
    "import torch\n",
    "from torchvision import datasets\n",
    "from torchvision import transforms\n",
    "from torchvision.transforms import ToTensor\n",
    "from torchvision.transforms import Grayscale\n",
    "from torchvision.transforms import ColorJitter\n",
    "train_data = datasets.CIFAR10(\n",
    "    root = 'data',\n",
    "    train = True,                         \n",
    "    transform = transforms.Compose([ToTensor()]), \n",
    "    download = False,            \n",
    ")\n",
    "test_data = datasets.CIFAR10(\n",
    "    root = 'data', \n",
    "    train = False, \n",
    "    transform = transforms.Compose([ToTensor()]), \n",
    ")"
   ]
  },
  {
   "cell_type": "code",
   "execution_count": 3,
   "id": "89282744",
   "metadata": {},
   "outputs": [],
   "source": [
    "!rm -rf ~/.openhd"
   ]
  },
  {
   "cell_type": "code",
   "execution_count": 4,
   "id": "34490b85",
   "metadata": {},
   "outputs": [],
   "source": [
    "# Q = 10\n",
    "D = 10000\n",
    "hd.init(D=D, context=globals())"
   ]
  },
  {
   "cell_type": "code",
   "execution_count": null,
   "id": "1f62cc53",
   "metadata": {},
   "outputs": [],
   "source": []
  },
  {
   "cell_type": "code",
   "execution_count": 5,
   "id": "1292f5e8",
   "metadata": {},
   "outputs": [],
   "source": [
    "@hd.run\n",
    "def create_random_bases():\n",
    "    position_base = hd.draw_random_hypervector()\n",
    "    red_intensity_base = hd.draw_random_hypervector()\n",
    "    green_intensity_base = hd.draw_random_hypervector()\n",
    "    blue_intensity_base = hd.draw_random_hypervector()\n",
    "    \n",
    "    return position_base, red_intensity_base, green_intensity_base, blue_intensity_base"
   ]
  },
  {
   "cell_type": "code",
   "execution_count": 6,
   "id": "c05822cb",
   "metadata": {},
   "outputs": [],
   "source": [
    "@hd.run\n",
    "def create_position_intensity_hvs(n_position, n_intensity,  position_base, red_intensity_base, green_intensity_base, blue_intensity_base):\n",
    "    position_hvs = hd.hypermatrix(n_position)\n",
    "    for i in range(n_position):\n",
    "        position_hvs[i] = hd.permute(position_base, i)\n",
    " \n",
    "    red_intensity_hvs = hd.hypermatrix(n_intensity)\n",
    "    for i in range(n_intensity):\n",
    "        red_intensity_hvs[i] = hd.permute(red_intensity_base, i)\n",
    "\n",
    "    green_intensity_hvs = hd.hypermatrix(n_intensity)\n",
    "    for i in range(n_intensity):\n",
    "        green_intensity_hvs[i] = hd.permute(green_intensity_base, i)\n",
    "    \n",
    "    blue_intensity_hvs = hd.hypermatrix(n_intensity)\n",
    "    for i in range(n_intensity):\n",
    "        blue_intensity_hvs[i] = hd.permute(blue_intensity_base, i)\n",
    "\n",
    "    return position_hvs, red_intensity_hvs, green_intensity_hvs, blue_intensity_hvs"
   ]
  },
  {
   "cell_type": "code",
   "execution_count": 7,
   "id": "04cad5fc",
   "metadata": {
    "scrolled": true
   },
   "outputs": [
    {
     "name": "stdout",
     "output_type": "stream",
     "text": [
      "\u001b[91m[ERROR]\tjit.date_type_mutator\t\n",
      "<class '_ast.Module'> : \n",
      "  <class '_ast.Assign'> :  [__ARG__position_base : __one__]\n",
      "  <class '_ast.Assign'> :  [__ARG__red_intensity_base : __one__]\n",
      "  <class '_ast.Assign'> :  [__ARG__green_intensity_base : __one__]\n",
      "  <class '_ast.Assign'> :  [__ARG__blue_intensity_base : __one__]\n",
      "\n",
      "\u001b[0m{'position_base': 'hypervec_type', 'red_intensity_base': 'hypervec_type', 'green_intensity_base': 'hypervec_type', 'blue_intensity_base': 'hypervec_type', '__ARG__green_intensity_base': 'float*', '__ARG__blue_intensity_base': 'float*', '__ARG__position_base': 'float*', '__ARG__red_intensity_base': 'float*', 'position_base_a9855c0b': <class 'float'>, 'red_intensity_base_5fe3806b': <class 'float'>, 'green_intensity_base_65c18751': <class 'float'>, 'blue_intensity_base_a194ba58': <class 'float'>}\n",
      "Base hypervectors\t0.29201674461364746\n"
     ]
    }
   ],
   "source": [
    "with hd.utils.timing(\"Base hypervectors\"):\n",
    "    position_base, red_intensity_base, green_intensity_base, blue_intensity_base = create_random_bases()\n",
    "#     image_hv = hd.hypervector()"
   ]
  },
  {
   "cell_type": "code",
   "execution_count": 8,
   "id": "a11b924c",
   "metadata": {},
   "outputs": [
    {
     "name": "stdout",
     "output_type": "stream",
     "text": [
      "\u001b[91m[ERROR]\tjit.date_type_mutator\t\n",
      "<class '_ast.Module'> : \n",
      "  <class '_ast.For'> :  <RPT: n_position>\n",
      "    <class '_ast.Assign'> :  [__ARG__position_hvs : __ARG__position_base]\n",
      "\n",
      "\u001b[0m{'i': <class 'int'>, 'n_position': <class 'int'>, 'position_hvs': 'hypermat_type', 'position_base': 'hypervec_type', '__ARG__position_base': 'float*', '__ARG__position_hvs': 'float*', 'position_base_i_9b8342e3': <class 'float'>, 'position_hvs_i_e80d2a15': <class 'float'>}\n",
      "\u001b[91m[ERROR]\tjit.date_type_mutator\t\n",
      "<class '_ast.Module'> : \n",
      "  <class '_ast.For'> :  <RPT: n_intensity>\n",
      "    <class '_ast.Assign'> :  [__ARG__red_intensity_hvs : __ARG__red_intensity_base]\n",
      "\n",
      "\u001b[0m{'i': <class 'int'>, 'n_intensity': <class 'int'>, 'red_intensity_hvs': 'hypermat_type', 'red_intensity_base': 'hypervec_type', '__ARG__red_intensity_base': 'float*', '__ARG__red_intensity_hvs': 'float*', 'red_intensity_base_i_582eb195': <class 'float'>, 'red_intensity_hvs_i_d4cd10f2': <class 'float'>}\n",
      "\u001b[91m[ERROR]\tjit.date_type_mutator\t\n",
      "<class '_ast.Module'> : \n",
      "  <class '_ast.For'> :  <RPT: n_intensity>\n",
      "    <class '_ast.Assign'> :  [__ARG__green_intensity_hvs : __ARG__green_intensity_base]\n",
      "\n",
      "\u001b[0m{'i': <class 'int'>, 'n_intensity': <class 'int'>, 'green_intensity_hvs': 'hypermat_type', 'green_intensity_base': 'hypervec_type', '__ARG__green_intensity_hvs': 'float*', '__ARG__green_intensity_base': 'float*', 'green_intensity_base_i_c05c1a29': <class 'float'>, 'green_intensity_hvs_i_e246507f': <class 'float'>}\n",
      "\u001b[91m[ERROR]\tjit.date_type_mutator\t\n",
      "<class '_ast.Module'> : \n",
      "  <class '_ast.For'> :  <RPT: n_intensity>\n",
      "    <class '_ast.Assign'> :  [__ARG__blue_intensity_hvs : __ARG__blue_intensity_base]\n",
      "\n",
      "\u001b[0m{'i': <class 'int'>, 'n_intensity': <class 'int'>, 'blue_intensity_hvs': 'hypermat_type', 'blue_intensity_base': 'hypervec_type', '__ARG__blue_intensity_base': 'float*', '__ARG__blue_intensity_hvs': 'float*', 'blue_intensity_base_i_6ed1f183': <class 'float'>, 'blue_intensity_hvs_i_f4cae790': <class 'float'>}\n",
      "Feature hypervectors\t0.6703910827636719\n"
     ]
    }
   ],
   "source": [
    "with hd.utils.timing(\"Feature hypervectors\"):\n",
    "    position_hvs, red_intensity_hvs, green_intensity_hvs, blue_intensity_hvs = create_position_intensity_hvs(1024, 255, position_base, red_intensity_base, green_intensity_base, blue_intensity_base)\n",
    "#     image_hv = hd.hypervector()"
   ]
  },
  {
   "cell_type": "code",
   "execution_count": 10,
   "id": "9488d940",
   "metadata": {
    "scrolled": false
   },
   "outputs": [
    {
     "data": {
      "text/plain": [
       "((1024, 10000), (255, 10000))"
      ]
     },
     "execution_count": 10,
     "metadata": {},
     "output_type": "execute_result"
    }
   ],
   "source": [
    "position_hvs.to_numpy().shape, red_intensity_hvs.to_numpy().shape"
   ]
  },
  {
   "cell_type": "code",
   "execution_count": 11,
   "id": "af8ce76e",
   "metadata": {},
   "outputs": [],
   "source": [
    "def encode_pixels(flattened_image, output_hypervector,\n",
    "                  position_hvs, red_intensity_hvs, green_intensity_hvs, blue_intensity_hvs, n_position = 1024, n_intensity = 255): # arguments passed by args\n",
    "    for pixel_idx in range(1024):\n",
    "        output_hypervector += position_hvs[pixel_idx] * red_intensity_hvs[flattened_image[pixel_idx]] * green_intensity_hvs[flattened_image[pixel_idx]] *green_intensity_hvs[flattened_image[pixel_idx]]\n",
    "        \n",
    "        "
   ]
  },
  {
   "cell_type": "code",
   "execution_count": 12,
   "id": "b3d63370",
   "metadata": {},
   "outputs": [],
   "source": [
    "def bipolarize(arr):\n",
    "    result = np.where(arr < 0, -1, np.where(arr > 0, 1, np.random.choice([-1, 1])))\n",
    "    return result"
   ]
  },
  {
   "cell_type": "code",
   "execution_count": 13,
   "id": "4354b698",
   "metadata": {},
   "outputs": [],
   "source": [
    "def validate(labels, pred_labels):\n",
    "    n_correct = (pred_labels == labels).sum()\n",
    "    n_labels = len(labels)\n",
    "    print(n_correct, n_labels, n_correct / float(n_labels) * 100)\n",
    "    return  n_correct / float(n_labels) * 100\n"
   ]
  },
  {
   "cell_type": "markdown",
   "id": "2b9adba9",
   "metadata": {},
   "source": [
    "# Epoch Based Training"
   ]
  },
  {
   "cell_type": "code",
   "execution_count": 14,
   "id": "e95076f3",
   "metadata": {},
   "outputs": [],
   "source": [
    "@hd.run\n",
    "def retrain(class_hvs, hv_matrix, labels, N):\n",
    "    for idx in range(N): # Iterate through each image\n",
    "        class_hvs[labels[idx]] += hv_matrix[idx]\n",
    "    return class_hvs\n"
   ]
  },
  {
   "cell_type": "code",
   "execution_count": 15,
   "id": "28d187da",
   "metadata": {},
   "outputs": [],
   "source": [
    "BATCH_SIZE = 9876\n",
    "from torch.utils.data import DataLoader\n",
    "train_loader = DataLoader(train_data, \n",
    "                         batch_size=BATCH_SIZE, \n",
    "                         shuffle=True, \n",
    "                         num_workers=1)\n",
    "test_loader = DataLoader(test_data, \n",
    "                         batch_size=50,\n",
    "                         shuffle=True, \n",
    "                         num_workers=1)"
   ]
  },
  {
   "cell_type": "code",
   "execution_count": 16,
   "id": "75d306c6",
   "metadata": {
    "scrolled": true
   },
   "outputs": [
    {
     "name": "stdout",
     "output_type": "stream",
     "text": [
      "\u001b[91m[ERROR]\tjit.date_type_mutator\t\n",
      "<class '_ast.Module'> : \n",
      "  <class '_ast.Assign'> :  [output_hypervector___n_____base_n___2964e176 : __ARG__output_hypervector]\n",
      "  <class '_ast.For'> : \n",
      "    OVERRIDING :  [output_hypervector___n_____base_n___2964e176 : __floatdmt__]\n",
      "    OVERRIDING :  [green_intensity_hvs_pixel_idx___shared_features___21dc9e9d : __floatdmt__]\n",
      "  <class '_ast.Assign'> :  [__ARG__output_hypervector : output_hypervector___n_____base_n___2964e176]\n",
      "\n",
      "\u001b[0m{'__n__': <class 'int'>, '__blockIdx_y__': <class 'int'>, '__base_n__': 'int', '__N__': <class 'int'>, '__blockDim_x__': <class 'int'>, '__F__': <class 'int'>, '__threadIdx_x__': <class 'int'>, 'F_PER_THREAD': <class 'int'>, 'sample_idx_in_stream': <class 'int'>, '__stream__': 'int', '__M__': <class 'int'>, '__f__': <class 'int'>, '__f_idx__': <class 'int'>, 'original_feature': <class 'float'>, 'flattened_image': 'np_float_array_type', 'preprocessed_feature': <class 'float'>, '__shared_features__': 'np_float_array_type', '__d__': <class 'int'>, '__blockIdx_x__': <class 'int'>, '__D__': <class 'int'>, 'pixel_idx': <class 'int'>, 'output_hypervector': 'hypermat_type', 'position_hvs': 'hypermat_type', 'red_intensity_hvs': 'hypermat_type', 'green_intensity_hvs': 'hypermat_type', '__ARG__position_hvs': 'float*', '__ARG__red_intensity_hvs': 'float*', '__ARG__green_intensity_hvs': 'float*', '__ARG__output_hypervector': 'float*', 'position_hvs_pixel_idx_a06f5629': <class 'float'>, '__shared_features___pixel_idx_9c0efb6a': <class 'float'>, 'red_intensity_hvs_pixel_idx___shared_features___a9d5995a': <class 'float'>, 'green_intensity_hvs_pixel_idx___shared_features___21dc9e9d': <class 'float'>, 'output_hypervector___n_____base_n___2964e176': <class 'float'>, 'flattened_image_sample_idx_in_stream___f_idx___6d55cc3f': <class 'float'>, '__shared_features_____f_idx___112c42af': <class 'float'>}\n",
      "\u001b[91m[ERROR]\tjit.date_type_mutator\t\n",
      "<class '_ast.Module'> : \n",
      "  <class '_ast.For'> :  <RPT: N>\n",
      "    <class '_ast.Assign'> :  [__ARG__class_hvs : __ARG__class_hvs + __ARG__hv_matrix]\n",
      "\n",
      "\u001b[0m{'idx': <class 'int'>, 'N': <class 'int'>, 'class_hvs': 'hypermat_type', 'labels': 'np_int_array_type', 'hv_matrix': 'hypermat_type', '__ARG__hv_matrix': 'float*', '__ARG__class_hvs': 'float*', '__ARG__labels': 'int*', '__ARG__labels__STRIDE__': 'const int', 'hv_matrix_idx_ead026f6': <class 'float'>, 'labels_idx_b9c77ce4': <class 'int'>, 'class_hvs_idx_labels_df62a0b1': <class 'float'>}\n",
      "6646 9876 67.29445119481572\n",
      "At epoch  0 :  67.29445119481572\n",
      "\u001b[91m[ERROR]\tjit.date_type_mutator\t\n",
      "<class '_ast.Module'> : \n",
      "  <class '_ast.For'> :  <RPT: N>\n",
      "    <class '_ast.Assign'> :  [__ARG__class_hvs : __ARG__class_hvs + __ARG__hv_matrix]\n",
      "\n",
      "\u001b[0m{'idx': <class 'int'>, 'N': <class 'int'>, 'class_hvs': 'hypermat_type', 'labels': 'np_int_array_type', 'hv_matrix': 'hypermat_type', '__ARG__hv_matrix': 'float*', '__ARG__class_hvs': 'float*', '__ARG__labels': 'int*', '__ARG__labels__STRIDE__': 'const int', 'hv_matrix_idx_ead026f6': <class 'float'>, 'labels_idx_b9c77ce4': <class 'int'>, 'class_hvs_idx_labels_df62a0b1': <class 'float'>}\n",
      "6700 9876 67.84123126771972\n",
      "At epoch  1 :  67.84123126771972\n"
     ]
    }
   ],
   "source": [
    "EPOCHS = 2\n",
    "n_classes = 10\n",
    "class_hvs = hd.hypermatrix(n_classes)\n",
    "train_performances = []\n",
    "for e in range(EPOCHS):\n",
    "    # Fetch Current Image batch\n",
    "    images, labels = next(iter(train_loader))\n",
    "    images = images.reshape(images.shape[0], images.shape[1]*images.shape[2]*images.shape[3]) * 255\n",
    "    labels = np.array(labels, dtype = np.int32)\n",
    "    # Encode the images of this batch\n",
    "    hv_matrix = hd.encode(\n",
    "            encode_pixels, extra_args = (position_hvs, red_intensity_hvs, green_intensity_hvs, blue_intensity_hvs, 1024, 255),\n",
    "            feature_matrix = images\n",
    "            )\n",
    "    # bipolarize\n",
    "    hv_numpy = hv_matrix.to_numpy()\n",
    "    hv_numpy = bipolarize(hv_numpy)\n",
    "    hv_matrix = hv_matrix.from_numpy(hv_numpy)\n",
    "    # add to class_hvs\n",
    "    class_hvs = retrain(class_hvs, hv_matrix, labels, BATCH_SIZE)\n",
    "    # bipolarize\n",
    "    class_hvs_np = class_hvs.to_numpy()\n",
    "    class_hvs_np = bipolarize(class_hvs_np)\n",
    "    class_hvs = class_hvs.from_numpy(class_hvs_np)\n",
    "    v = validate(labels, hd.search(class_hvs, hv_matrix).to_numpy())\n",
    "    train_performances.append(v)\n",
    "    print(\"At epoch \",e, \": \", v)"
   ]
  },
  {
   "cell_type": "markdown",
   "id": "0f9dcd8f",
   "metadata": {},
   "source": [
    "# Testing"
   ]
  },
  {
   "cell_type": "code",
   "execution_count": 17,
   "id": "f7b06874",
   "metadata": {},
   "outputs": [],
   "source": [
    "\n",
    "images_tst, labels_tst = next(iter(test_loader))\n",
    "images_tst = images_tst.reshape(images_tst.shape[0], images_tst.shape[1]*images_tst.shape[2]*images_tst.shape[3]) * 255\n",
    "labels_tst = np.array(labels_tst, dtype = np.int32)"
   ]
  },
  {
   "cell_type": "code",
   "execution_count": 18,
   "id": "a53c48a2",
   "metadata": {
    "scrolled": false
   },
   "outputs": [
    {
     "name": "stdout",
     "output_type": "stream",
     "text": [
      "\u001b[91m[ERROR]\tjit.date_type_mutator\t\n",
      "<class '_ast.Module'> : \n",
      "  <class '_ast.Assign'> :  [output_hypervector___n_____base_n___2964e176 : __ARG__output_hypervector]\n",
      "  <class '_ast.For'> : \n",
      "    OVERRIDING :  [output_hypervector___n_____base_n___2964e176 : __floatdmt__]\n",
      "    OVERRIDING :  [green_intensity_hvs_pixel_idx___shared_features___21dc9e9d : __floatdmt__]\n",
      "  <class '_ast.Assign'> :  [__ARG__output_hypervector : output_hypervector___n_____base_n___2964e176]\n",
      "\n",
      "\u001b[0m{'__n__': <class 'int'>, '__blockIdx_y__': <class 'int'>, '__base_n__': 'int', '__N__': <class 'int'>, '__blockDim_x__': <class 'int'>, '__F__': <class 'int'>, '__threadIdx_x__': <class 'int'>, 'F_PER_THREAD': <class 'int'>, 'sample_idx_in_stream': <class 'int'>, '__stream__': 'int', '__M__': <class 'int'>, '__f__': <class 'int'>, '__f_idx__': <class 'int'>, 'original_feature': <class 'float'>, 'flattened_image': 'np_float_array_type', 'preprocessed_feature': <class 'float'>, '__shared_features__': 'np_float_array_type', '__d__': <class 'int'>, '__blockIdx_x__': <class 'int'>, '__D__': <class 'int'>, 'pixel_idx': <class 'int'>, 'output_hypervector': 'hypermat_type', 'position_hvs': 'hypermat_type', 'red_intensity_hvs': 'hypermat_type', 'green_intensity_hvs': 'hypermat_type', '__ARG__position_hvs': 'float*', '__ARG__red_intensity_hvs': 'float*', '__ARG__green_intensity_hvs': 'float*', '__ARG__output_hypervector': 'float*', 'position_hvs_pixel_idx_a06f5629': <class 'float'>, '__shared_features___pixel_idx_9c0efb6a': <class 'float'>, 'red_intensity_hvs_pixel_idx___shared_features___a9d5995a': <class 'float'>, 'green_intensity_hvs_pixel_idx___shared_features___21dc9e9d': <class 'float'>, 'output_hypervector___n_____base_n___2964e176': <class 'float'>, 'flattened_image_sample_idx_in_stream___f_idx___6d55cc3f': <class 'float'>, '__shared_features_____f_idx___112c42af': <class 'float'>}\n",
      "Base hypervectors\t0.6058385372161865\n"
     ]
    }
   ],
   "source": [
    "with hd.utils.timing(\"Base hypervectors\"):\n",
    "    hv_matrix_tst = hd.encode(\n",
    "            encode_pixels, extra_args = (position_hvs, red_intensity_hvs, green_intensity_hvs, blue_intensity_hvs, 1024, 255),\n",
    "            feature_matrix = images_tst\n",
    "            )"
   ]
  },
  {
   "cell_type": "code",
   "execution_count": 18,
   "id": "5331bbfb",
   "metadata": {
    "scrolled": true
   },
   "outputs": [],
   "source": [
    "hv_numpy_tst = hv_matrix_tst.to_numpy()\n",
    "hv_numpy_tst = bipolarize(hv_numpy_tst)\n",
    "hv_matrix_tst = hv_matrix_tst.from_numpy(hv_numpy_tst)"
   ]
  },
  {
   "cell_type": "code",
   "execution_count": 19,
   "id": "8c8d98bf",
   "metadata": {},
   "outputs": [
    {
     "name": "stdout",
     "output_type": "stream",
     "text": [
      "Base hypervectors\t0.11174130439758301\n"
     ]
    }
   ],
   "source": [
    "with hd.utils.timing(\"Base hypervectors\"):\n",
    "    hd.search(class_hvs, hv_matrix).to_numpy()"
   ]
  },
  {
   "cell_type": "code",
   "execution_count": 19,
   "id": "d57b2a33",
   "metadata": {
    "scrolled": false
   },
   "outputs": [
    {
     "name": "stdout",
     "output_type": "stream",
     "text": [
      "6 50 12.0\n",
      "On Test Data 12.0\n"
     ]
    }
   ],
   "source": [
    "print(\"On Test Data\", validate(labels_tst, hd.search(class_hvs, hv_matrix_tst).to_numpy()))"
   ]
  },
  {
   "cell_type": "code",
   "execution_count": 20,
   "id": "cad61335",
   "metadata": {
    "scrolled": true
   },
   "outputs": [
    {
     "name": "stdout",
     "output_type": "stream",
     "text": [
      "6875 9876 69.61320372620494\n",
      "On Train Data 69.61320372620494\n"
     ]
    }
   ],
   "source": [
    "print(\"On Train Data\", validate(labels, hd.search(class_hvs, hv_matrix).to_numpy()))"
   ]
  },
  {
   "cell_type": "code",
   "execution_count": 21,
   "id": "d8437580",
   "metadata": {
    "scrolled": true
   },
   "outputs": [
    {
     "data": {
      "text/plain": [
       "[<matplotlib.lines.Line2D at 0x7f995c2d1e80>]"
      ]
     },
     "execution_count": 21,
     "metadata": {},
     "output_type": "execute_result"
    },
    {
     "data": {
      "image/png": "[encoded data removed]",
      "text/plain": [
       "<Figure size 640x480 with 1 Axes>"
      ]
     },
     "metadata": {},
     "output_type": "display_data"
    }
   ],
   "source": [
    "\n",
    "plt.plot(np.arange(len(train_performances)), train_performances)\n",
    "# plt.savefig(\"Training_performances_CIFAR100.png\")"
   ]
  },
  {
   "cell_type": "code",
   "execution_count": null,
   "id": "1ccf9581",
   "metadata": {},
   "outputs": [],
   "source": []
  },
  {
   "cell_type": "code",
   "execution_count": null,
   "id": "9aa4414c",
   "metadata": {},
   "outputs": [],
   "source": []
  },
  {
   "cell_type": "markdown",
   "id": "472b1ffe",
   "metadata": {},
   "source": [
    "# Guided Training\n",
    "### Only update the class vectors which are wrong"
   ]
  },
  {
   "cell_type": "code",
   "execution_count": 22,
   "id": "3cf063d4",
   "metadata": {},
   "outputs": [],
   "source": [
    "@hd.run\n",
    "def guided_retrain(class_hvs, hv_matrix, labels, N):\n",
    "    search_results = hd.search(class_hvs, hv_matrix)\n",
    "\n",
    "    for idx in range(N):\n",
    "        if search_results[idx] != labels[idx]:\n",
    "            class_hvs[labels[idx]] += hv_matrix[idx]\n",
    "            class_hvs[search_results[idx]] -= hv_matrix[idx]\n",
    "\n",
    "    return class_hvs\n"
   ]
  },
  {
   "cell_type": "code",
   "execution_count": 23,
   "id": "90f410e6",
   "metadata": {},
   "outputs": [
    {
     "name": "stdout",
     "output_type": "stream",
     "text": [
      "\u001b[91m[ERROR]\tjit.date_type_mutator\t\n",
      "<class '_ast.Module'> : \n",
      "  <class '_ast.For'> :  <RPT: N>\n",
      "    <class '_ast.Assign'> :  [hv_matrix_idx_ead026f6 : __ARG__hv_matrix]\n",
      "    <class '_ast.If'> : \n",
      "      then : \n",
      "        <class '_ast.Assign'> :  [__ARG__class_hvs : __ARG__class_hvs + hv_matrix_idx_ead026f6]\n",
      "        <class '_ast.Assign'> :  [__ARG__class_hvs : __ARG__class_hvs + hv_matrix_idx_ead026f6]\n",
      "      else : \n",
      "\n",
      "\u001b[0m{'idx': <class 'int'>, 'N': <class 'int'>, 'search_results': 'np_int_array_type', 'labels': 'np_int_array_type', 'class_hvs': 'hypermat_type', 'hv_matrix': 'hypermat_type', '__ARG__labels': 'int*', '__ARG__labels__STRIDE__': 'const int', '__ARG__search_results': 'int*', '__ARG__search_results__STRIDE__': 'const int', '__ARG__hv_matrix': 'float*', '__ARG__class_hvs': 'float*', 'search_results_idx_b85d35f6': <class 'int'>, 'labels_idx_b9c77ce4': <class 'int'>, 'hv_matrix_idx_ead026f6': <class 'float'>, 'class_hvs_labels_idx_df62a0b1': <class 'float'>, 'class_hvs_idx_search_results_572d847d': <class 'float'>}\n"
     ]
    },
    {
     "name": "stderr",
     "output_type": "stream",
     "text": [
      "PyCUDA WARNING: a clean-up operation failed (dead context maybe?)\n",
      "cuMemFree failed: an illegal memory access was encountered\n"
     ]
    },
    {
     "ename": "LogicError",
     "evalue": "cuMemcpyDtoH failed: an illegal memory access was encountered",
     "output_type": "error",
     "traceback": [
      "\u001b[0;31m---------------------------------------------------------------------------\u001b[0m",
      "\u001b[0;31mLogicError\u001b[0m                                Traceback (most recent call last)",
      "Input \u001b[0;32mIn [23]\u001b[0m, in \u001b[0;36m<cell line: 18>\u001b[0;34m()\u001b[0m\n\u001b[1;32m     20\u001b[0m class_hvs \u001b[38;5;241m=\u001b[39m guided_retrain(class_hvs, hv_matrix, labels, BATCH_SIZE)\n\u001b[1;32m     21\u001b[0m \u001b[38;5;66;03m# bipolarize\u001b[39;00m\n\u001b[0;32m---> 22\u001b[0m class_hvs_np \u001b[38;5;241m=\u001b[39m \u001b[43mclass_hvs\u001b[49m\u001b[38;5;241;43m.\u001b[39;49m\u001b[43mto_numpy\u001b[49m\u001b[43m(\u001b[49m\u001b[43m)\u001b[49m\n\u001b[1;32m     23\u001b[0m class_hvs_np \u001b[38;5;241m=\u001b[39m bipolarize(class_hvs_np)\n\u001b[1;32m     24\u001b[0m class_hvs \u001b[38;5;241m=\u001b[39m class_hvs\u001b[38;5;241m.\u001b[39mfrom_numpy(class_hvs_np)\n",
      "File \u001b[0;32m~/.local/lib/python3.8/site-packages/openhd/core/hypervector.py:121\u001b[0m, in \u001b[0;36mhypermatrix.to_numpy\u001b[0;34m(self)\u001b[0m\n\u001b[1;32m    119\u001b[0m \u001b[38;5;28;01mdef\u001b[39;00m \u001b[38;5;21mto_numpy\u001b[39m(\u001b[38;5;28mself\u001b[39m):\n\u001b[1;32m    120\u001b[0m     nparray \u001b[38;5;241m=\u001b[39m np\u001b[38;5;241m.\u001b[39mempty((\u001b[38;5;28mself\u001b[39m\u001b[38;5;241m.\u001b[39mN, core\u001b[38;5;241m.\u001b[39m_D), dtype\u001b[38;5;241m=\u001b[39m\u001b[38;5;28mself\u001b[39m\u001b[38;5;241m.\u001b[39mdtype)\n\u001b[0;32m--> 121\u001b[0m     \u001b[43mci\u001b[49m\u001b[38;5;241;43m.\u001b[39;49m\u001b[43mdrv\u001b[49m\u001b[38;5;241;43m.\u001b[39;49m\u001b[43mmemcpy_dtoh\u001b[49m\u001b[43m(\u001b[49m\u001b[43mnparray\u001b[49m\u001b[43m,\u001b[49m\u001b[43m \u001b[49m\u001b[38;5;28;43mself\u001b[39;49m\u001b[38;5;241;43m.\u001b[39;49m\u001b[43mmem\u001b[49m\u001b[43m)\u001b[49m\n\u001b[1;32m    122\u001b[0m     \u001b[38;5;28;01mreturn\u001b[39;00m nparray\n",
      "\u001b[0;31mLogicError\u001b[0m: cuMemcpyDtoH failed: an illegal memory access was encountered"
     ]
    }
   ],
   "source": [
    "ITERS = 2000\n",
    "n_classes = 10\n",
    "class_hvs = hd.hypermatrix(n_classes)\n",
    "train_performances = []\n",
    "# Fetch Current Image batch\n",
    "images, labels = next(iter(train_loader))\n",
    "images = images.reshape(images.shape[0], images.shape[1]*images.shape[2]*images.shape[3]) * 255\n",
    "labels = np.array(labels, dtype = np.int32)\n",
    "# Encode the images of this batch\n",
    "hv_matrix = hd.encode(\n",
    "        encode_pixels, extra_args = (position_hvs, red_intensity_hvs, green_intensity_hvs, blue_intensity_hvs, 1024, 255),\n",
    "        feature_matrix = images\n",
    "        )\n",
    "# bipolarize\n",
    "hv_numpy = hv_matrix.to_numpy()\n",
    "hv_numpy = bipolarize(hv_numpy)\n",
    "hv_matrix = hv_matrix.from_numpy(hv_numpy)\n",
    "for e in range(ITERS):\n",
    "    # add to class_hvs\n",
    "    class_hvs = guided_retrain(class_hvs, hv_matrix, labels, BATCH_SIZE)\n",
    "    # bipolarize\n",
    "    class_hvs_np = class_hvs.to_numpy()\n",
    "    class_hvs_np = bipolarize(class_hvs_np)\n",
    "    class_hvs = class_hvs.from_numpy(class_hvs_np)\n",
    "    v = validate(labels, hd.search(class_hvs, hv_matrix).to_numpy())\n",
    "    train_performances.append(v)\n",
    "    print(\"At epoch \",e, \": \", v)"
   ]
  },
  {
   "cell_type": "code",
   "execution_count": null,
   "id": "034a773f",
   "metadata": {},
   "outputs": [],
   "source": [
    "print(\"On Test Data\", validate(labels, hd.search(class_hvs, hv_matrix).to_numpy()))"
   ]
  },
  {
   "cell_type": "code",
   "execution_count": null,
   "id": "bd700acb",
   "metadata": {},
   "outputs": [],
   "source": [
    "print(\"On Test Data\", validate(labels_tst, hd.search(class_hvs, hv_matrix_tst).to_numpy()))"
   ]
  }
 ],
 "metadata": {
  "kernelspec": {
   "display_name": "Python 3 (ipykernel)",
   "language": "python",
   "name": "python3"
  },
  "language_info": {
   "codemirror_mode": {
    "name": "ipython",
    "version": 3
   },
   "file_extension": ".py",
   "mimetype": "text/x-python",
   "name": "python",
   "nbconvert_exporter": "python",
   "pygments_lexer": "ipython3",
   "version": "3.8.0"
  }
 },
 "nbformat": 4,
 "nbformat_minor": 5
}
