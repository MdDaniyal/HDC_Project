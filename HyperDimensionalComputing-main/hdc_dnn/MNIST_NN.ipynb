{
 "cells": [
  {
   "cell_type": "code",
   "execution_count": 27,
   "id": "6d5fa041",
   "metadata": {},
   "outputs": [],
   "source": [
    "import torch\n",
    "from torchvision import datasets\n",
    "from torchvision.transforms import ToTensor\n",
    "train_data = datasets.MNIST(\n",
    "    root = 'data',\n",
    "    train = True,                         \n",
    "    transform = ToTensor(), \n",
    "    download = False,            \n",
    ")\n",
    "test_data = datasets.MNIST(\n",
    "    root = 'data', \n",
    "    train = False, \n",
    "    transform = ToTensor()\n",
    ")"
   ]
  },
  {
   "cell_type": "code",
   "execution_count": 2,
   "id": "112f800d",
   "metadata": {},
   "outputs": [
    {
     "name": "stdout",
     "output_type": "stream",
     "text": [
      "Dataset MNIST\n",
      "    Number of datapoints: 60000\n",
      "    Root location: data\n",
      "    Split: Train\n",
      "    StandardTransform\n",
      "Transform: ToTensor()\n"
     ]
    }
   ],
   "source": [
    "print(train_data)\n"
   ]
  },
  {
   "cell_type": "code",
   "execution_count": 4,
   "id": "3d0dddc1",
   "metadata": {},
   "outputs": [
    {
     "data": {
      "text/plain": [
       "{'train': <torch.utils.data.dataloader.DataLoader at 0x7fe8fc961430>,\n",
       " 'test': <torch.utils.data.dataloader.DataLoader at 0x7fe8fc96f730>}"
      ]
     },
     "execution_count": 4,
     "metadata": {},
     "output_type": "execute_result"
    }
   ],
   "source": [
    "from torch.utils.data import DataLoader\n",
    "loaders = {\n",
    "    'train' : DataLoader(train_data, \n",
    "                         batch_size=100, \n",
    "                         shuffle=True, \n",
    "                         num_workers=1),\n",
    "    \n",
    "    'test'  : DataLoader(test_data, \n",
    "                         batch_size=100, \n",
    "                         shuffle=True, \n",
    "                         num_workers=1),\n",
    "}\n",
    "loaders"
   ]
  },
  {
   "cell_type": "code",
   "execution_count": 13,
   "id": "a9c9fb2a",
   "metadata": {},
   "outputs": [],
   "source": [
    "import torch.nn as nn\n",
    "class CNN(nn.Module):\n",
    "    def __init__(self):\n",
    "        super(CNN, self).__init__()\n",
    "        self.conv1 = nn.Sequential(         \n",
    "            nn.Conv2d(\n",
    "                in_channels=1,              \n",
    "                out_channels=16,            \n",
    "                kernel_size=5,              \n",
    "                stride=1,                   \n",
    "                padding=2,                  \n",
    "            ),                              \n",
    "            nn.ReLU(),                      \n",
    "            nn.MaxPool2d(kernel_size=2),    \n",
    "        )\n",
    "        self.conv2 = nn.Sequential(         \n",
    "            nn.Conv2d(16, 32, 5, 1, 2),     \n",
    "            nn.ReLU(),                      \n",
    "            nn.MaxPool2d(2),                \n",
    "        )\n",
    "        # fully connected layer, output 10 classes\n",
    "        self.out = nn.Linear(32 * 7 * 7, 10)\n",
    "    def forward(self, x):\n",
    "        x = self.conv1(x)\n",
    "        x = self.conv2(x)\n",
    "        x = x.view(x.size(0), -1)       \n",
    "        output = self.out(x)\n",
    "        return output\n",
    "    \n",
    "    def extract_first_conv_features(self, x):\n",
    "        x = self.conv1(x)\n",
    "        return x"
   ]
  },
  {
   "cell_type": "code",
   "execution_count": 14,
   "id": "97ec1360",
   "metadata": {},
   "outputs": [],
   "source": [
    "cnn = CNN()\n"
   ]
  },
  {
   "cell_type": "code",
   "execution_count": 15,
   "id": "ee9b911c",
   "metadata": {},
   "outputs": [],
   "source": [
    "loss_func = nn.CrossEntropyLoss()   \n"
   ]
  },
  {
   "cell_type": "code",
   "execution_count": 16,
   "id": "11031948",
   "metadata": {},
   "outputs": [],
   "source": [
    "from torch import optim\n",
    "optimizer = optim.Adam(cnn.parameters(), lr = 0.01)   "
   ]
  },
  {
   "cell_type": "code",
   "execution_count": 21,
   "id": "dff1fe62",
   "metadata": {},
   "outputs": [],
   "source": [
    "from torch.autograd import Variable\n",
    "\n",
    "def train(num_epochs, cnn, loaders):\n",
    "    \n",
    "    cnn.train()\n",
    "    total_step = len(loaders['train'])\n",
    "        \n",
    "    for epoch in range(num_epochs):\n",
    "        for i, (images, labels) in enumerate(loaders['train']):\n",
    "            \n",
    "            # gives batch data, normalize x when iterate train_loader\n",
    "            b_x = Variable(images)   # batch x\n",
    "            b_y = Variable(labels)   # batch y\n",
    "\n",
    "            output = cnn(b_x)             \n",
    "            loss = loss_func(output, b_y)\n",
    "            \n",
    "            # clear gradients for this training step   \n",
    "            optimizer.zero_grad()           \n",
    "            \n",
    "            # backpropagation, compute gradients \n",
    "            loss.backward()    \n",
    "            # apply gradients             \n",
    "            optimizer.step()                \n",
    "            \n",
    "            if (i+1) % 100 == 0:\n",
    "                print ('Epoch [{}/{}], Step [{}/{}], Loss: {:.4f}' \n",
    "                       .format(epoch + 1, num_epochs, i + 1, total_step, loss.item()))"
   ]
  },
  {
   "cell_type": "code",
   "execution_count": 22,
   "id": "765b7330",
   "metadata": {
    "collapsed": true
   },
   "outputs": [
    {
     "name": "stdout",
     "output_type": "stream",
     "text": [
      "Epoch [1/10], Step [100/600], Loss: 0.1729\n",
      "Epoch [1/10], Step [200/600], Loss: 0.1250\n",
      "Epoch [1/10], Step [300/600], Loss: 0.0422\n",
      "Epoch [1/10], Step [400/600], Loss: 0.1042\n",
      "Epoch [1/10], Step [500/600], Loss: 0.0682\n",
      "Epoch [1/10], Step [600/600], Loss: 0.1200\n",
      "Epoch [2/10], Step [100/600], Loss: 0.0192\n",
      "Epoch [2/10], Step [200/600], Loss: 0.0608\n",
      "Epoch [2/10], Step [300/600], Loss: 0.1017\n",
      "Epoch [2/10], Step [400/600], Loss: 0.1011\n",
      "Epoch [2/10], Step [500/600], Loss: 0.0186\n",
      "Epoch [2/10], Step [600/600], Loss: 0.1486\n",
      "Epoch [3/10], Step [100/600], Loss: 0.0862\n",
      "Epoch [3/10], Step [200/600], Loss: 0.0500\n",
      "Epoch [3/10], Step [300/600], Loss: 0.0436\n",
      "Epoch [3/10], Step [400/600], Loss: 0.0307\n",
      "Epoch [3/10], Step [500/600], Loss: 0.0636\n",
      "Epoch [3/10], Step [600/600], Loss: 0.0058\n",
      "Epoch [4/10], Step [100/600], Loss: 0.0187\n",
      "Epoch [4/10], Step [200/600], Loss: 0.0729\n",
      "Epoch [4/10], Step [300/600], Loss: 0.0570\n",
      "Epoch [4/10], Step [400/600], Loss: 0.0713\n",
      "Epoch [4/10], Step [500/600], Loss: 0.1252\n",
      "Epoch [4/10], Step [600/600], Loss: 0.0257\n",
      "Epoch [5/10], Step [100/600], Loss: 0.0364\n",
      "Epoch [5/10], Step [200/600], Loss: 0.0557\n",
      "Epoch [5/10], Step [300/600], Loss: 0.0250\n",
      "Epoch [5/10], Step [400/600], Loss: 0.0131\n",
      "Epoch [5/10], Step [500/600], Loss: 0.0597\n",
      "Epoch [5/10], Step [600/600], Loss: 0.0257\n",
      "Epoch [6/10], Step [100/600], Loss: 0.0635\n",
      "Epoch [6/10], Step [200/600], Loss: 0.1350\n",
      "Epoch [6/10], Step [300/600], Loss: 0.1123\n",
      "Epoch [6/10], Step [400/600], Loss: 0.0276\n",
      "Epoch [6/10], Step [500/600], Loss: 0.0721\n",
      "Epoch [6/10], Step [600/600], Loss: 0.0038\n",
      "Epoch [7/10], Step [100/600], Loss: 0.0356\n",
      "Epoch [7/10], Step [200/600], Loss: 0.2888\n",
      "Epoch [7/10], Step [300/600], Loss: 0.0045\n",
      "Epoch [7/10], Step [400/600], Loss: 0.0279\n",
      "Epoch [7/10], Step [500/600], Loss: 0.0556\n",
      "Epoch [7/10], Step [600/600], Loss: 0.0572\n",
      "Epoch [8/10], Step [100/600], Loss: 0.0395\n",
      "Epoch [8/10], Step [200/600], Loss: 0.0532\n",
      "Epoch [8/10], Step [300/600], Loss: 0.0407\n",
      "Epoch [8/10], Step [400/600], Loss: 0.0304\n",
      "Epoch [8/10], Step [500/600], Loss: 0.0039\n",
      "Epoch [8/10], Step [600/600], Loss: 0.0086\n",
      "Epoch [9/10], Step [100/600], Loss: 0.0029\n",
      "Epoch [9/10], Step [200/600], Loss: 0.2044\n",
      "Epoch [9/10], Step [300/600], Loss: 0.0296\n",
      "Epoch [9/10], Step [400/600], Loss: 0.0098\n",
      "Epoch [9/10], Step [500/600], Loss: 0.0666\n",
      "Epoch [9/10], Step [600/600], Loss: 0.0343\n",
      "Epoch [10/10], Step [100/600], Loss: 0.0989\n",
      "Epoch [10/10], Step [200/600], Loss: 0.0107\n",
      "Epoch [10/10], Step [300/600], Loss: 0.1065\n",
      "Epoch [10/10], Step [400/600], Loss: 0.1453\n",
      "Epoch [10/10], Step [500/600], Loss: 0.1266\n",
      "Epoch [10/10], Step [600/600], Loss: 0.1287\n"
     ]
    }
   ],
   "source": [
    "num_epochs = 10\n",
    "train(num_epochs, cnn, loaders)\n"
   ]
  },
  {
   "cell_type": "code",
   "execution_count": 85,
   "id": "eb1ae88d",
   "metadata": {},
   "outputs": [
    {
     "name": "stdout",
     "output_type": "stream",
     "text": [
      "Test Accuracy of the model on the 10000 test images: 0.98\n"
     ]
    }
   ],
   "source": [
    "def test():\n",
    "    # Test the model\n",
    "    cnn.eval()\n",
    "    with torch.no_grad():\n",
    "        correct = 0\n",
    "        total = 0\n",
    "        for images, labels in loaders['test']:\n",
    "            test_output = cnn(images)\n",
    "            pred_y = torch.max(test_output, 1)[1].data.squeeze()\n",
    "            accuracy = (pred_y == labels).sum().item() / float(labels.size(0))\n",
    "            pass\n",
    "        \n",
    "        print('Test Accuracy of the model on the 10000 test images: %.2f' % accuracy)\n",
    "    pass\n",
    "test()"
   ]
  },
  {
   "cell_type": "code",
   "execution_count": null,
   "id": "a4843387",
   "metadata": {},
   "outputs": [],
   "source": []
  }
 ],
 "metadata": {
  "kernelspec": {
   "display_name": "Python 3 (ipykernel)",
   "language": "python",
   "name": "python3"
  },
  "language_info": {
   "codemirror_mode": {
    "name": "ipython",
    "version": 3
   },
   "file_extension": ".py",
   "mimetype": "text/x-python",
   "name": "python",
   "nbconvert_exporter": "python",
   "pygments_lexer": "ipython3",
   "version": "3.8.0"
  }
 },
 "nbformat": 4,
 "nbformat_minor": 5
}
