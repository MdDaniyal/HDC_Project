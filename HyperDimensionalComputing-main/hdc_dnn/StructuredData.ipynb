{
 "cells": [
  {
   "cell_type": "code",
   "execution_count": 1,
   "id": "e9f4b3eb",
   "metadata": {},
   "outputs": [
    {
     "name": "stderr",
     "output_type": "stream",
     "text": [
      "/home/hpc/iwi3/iwi3083h/.local/lib/python3.8/site-packages/skcuda/cublas.py:284: UserWarning: creating CUBLAS context to get version number\n",
      "  warnings.warn('creating CUBLAS context to get version number')\n"
     ]
    }
   ],
   "source": [
    "import sys\n",
    "import struct\n",
    "import argparse\n",
    "\n",
    "import numpy as np\n",
    "import openhd as hd"
   ]
  },
  {
   "cell_type": "code",
   "execution_count": null,
   "id": "f424bc60",
   "metadata": {},
   "outputs": [],
   "source": []
  },
  {
   "cell_type": "code",
   "execution_count": 2,
   "id": "c7cf3414",
   "metadata": {},
   "outputs": [],
   "source": [
    "!rm -rf ~/.openhd"
   ]
  },
  {
   "cell_type": "markdown",
   "id": "094f9166",
   "metadata": {},
   "source": [
    "# Iris"
   ]
  },
  {
   "cell_type": "code",
   "execution_count": 3,
   "id": "2b73cc9e",
   "metadata": {},
   "outputs": [],
   "source": [
    "from sklearn import datasets\n",
    "\n",
    "iris = datasets.load_iris()"
   ]
  },
  {
   "cell_type": "code",
   "execution_count": 4,
   "id": "fbe8ca24",
   "metadata": {},
   "outputs": [],
   "source": [
    "X = iris.data\n",
    "y = iris.target\n"
   ]
  },
  {
   "cell_type": "code",
   "execution_count": 5,
   "id": "c73c08ed",
   "metadata": {},
   "outputs": [
    {
     "data": {
      "text/plain": [
       "(150, 4)"
      ]
     },
     "execution_count": 5,
     "metadata": {},
     "output_type": "execute_result"
    }
   ],
   "source": [
    "X.shape"
   ]
  },
  {
   "cell_type": "code",
   "execution_count": 6,
   "id": "96e8ca3c",
   "metadata": {},
   "outputs": [],
   "source": [
    "from sklearn.preprocessing import MinMaxScaler\n",
    "scaler = MinMaxScaler()\n",
    "X = scaler.fit_transform(X)\n",
    "# X.dtype = np.float32"
   ]
  },
  {
   "cell_type": "code",
   "execution_count": 7,
   "id": "26a40197",
   "metadata": {},
   "outputs": [
    {
     "data": {
      "text/plain": [
       "(150, 4)"
      ]
     },
     "execution_count": 7,
     "metadata": {},
     "output_type": "execute_result"
    }
   ],
   "source": [
    "X.shape"
   ]
  },
  {
   "cell_type": "code",
   "execution_count": 8,
   "id": "8ef6989f",
   "metadata": {},
   "outputs": [],
   "source": [
    "from sklearn.model_selection import train_test_split\n",
    "X_train, X_test, y_train, y_test = train_test_split(X, y, test_size=0.10, random_state=42)"
   ]
  },
  {
   "cell_type": "code",
   "execution_count": 9,
   "id": "8d91b4b6",
   "metadata": {},
   "outputs": [
    {
     "data": {
      "text/plain": [
       "(135, 4)"
      ]
     },
     "execution_count": 9,
     "metadata": {},
     "output_type": "execute_result"
    }
   ],
   "source": [
    "X_train.shape"
   ]
  },
  {
   "cell_type": "code",
   "execution_count": 10,
   "id": "d7bddf08",
   "metadata": {},
   "outputs": [
    {
     "data": {
      "text/plain": [
       "array([0.55555556, 0.54166667, 0.62711864, 0.625     ])"
      ]
     },
     "execution_count": 10,
     "metadata": {},
     "output_type": "execute_result"
    }
   ],
   "source": [
    "X_train[0]"
   ]
  },
  {
   "cell_type": "code",
   "execution_count": 11,
   "id": "c89fcb04",
   "metadata": {},
   "outputs": [
    {
     "data": {
      "text/plain": [
       "(135, 4)"
      ]
     },
     "execution_count": 11,
     "metadata": {},
     "output_type": "execute_result"
    }
   ],
   "source": [
    "N = X_train.shape[0]\n",
    "F = X_train.shape[1]\n",
    "N, F"
   ]
  },
  {
   "cell_type": "code",
   "execution_count": 12,
   "id": "faf20601",
   "metadata": {},
   "outputs": [],
   "source": [
    "Q = 100\n",
    "D = 10000\n",
    "hd.init(D=D, context=globals())\n"
   ]
  },
  {
   "cell_type": "code",
   "execution_count": 13,
   "id": "f60a1fbe",
   "metadata": {},
   "outputs": [],
   "source": [
    "@hd.run\n",
    "def create_random_bases():\n",
    "    id_base = hd.draw_random_hypervector()\n",
    "    level_base = hd.draw_random_hypervector()\n",
    "    return id_base, level_base\n",
    "\n",
    "\n",
    "@hd.run\n",
    "def create_ids(F, id_base):\n",
    "    id_hvs = hd.hypermatrix(F) # np.zeros(F, N) (not the empty list) \n",
    "    for f in range(F):\n",
    "        id_hvs[f] = hd.permute(id_base, f)\n",
    "\n",
    "    return id_hvs\n",
    "\n",
    "@hd.run\n",
    "def create_levels(Q, level_base):\n",
    "    level_hvs = hd.hypermatrix(Q+1) # np.zeros((Q+1), N) (not the empty list)\n",
    "    for q in range(Q+1):\n",
    "        idx = int(q/float(Q) * D) / 2\n",
    "        level_hvs[q] = hd.flip(level_base, idx)\n",
    "        level_hvs[q] = hd.shuffle(level_hvs[q], 0)\n",
    "\n",
    "    return level_hvs\n",
    "\n",
    "@hd.run\n",
    "def assoc_search(class_hvs, hv_matrix_tst):\n",
    "    ret = hd.search(class_hvs, hv_matrix_tst)\n",
    "    return ret\n",
    "\n",
    "def validate(labels, pred_labels):\n",
    "    n_correct = (pred_labels == labels).sum()\n",
    "    n_labels = len(labels)\n",
    "    print(n_correct, n_labels, n_correct / float(n_labels) * 100)\n"
   ]
  },
  {
   "cell_type": "code",
   "execution_count": 14,
   "id": "7c473864",
   "metadata": {},
   "outputs": [
    {
     "name": "stdout",
     "output_type": "stream",
     "text": [
      "\u001b[91m[ERROR]\tjit.date_type_mutator\t\n",
      "<class '_ast.Module'> : \n",
      "  <class '_ast.Assign'> :  [__ARG__id_base : __one__]\n",
      "  <class '_ast.Assign'> :  [__ARG__level_base : __one__]\n",
      "\n",
      "\u001b[0m{'id_base': 'hypervec_type', 'level_base': 'hypervec_type', '__ARG__id_base': 'float*', '__ARG__level_base': 'float*', 'id_base_22b19319': <class 'float'>, 'level_base_5541502b': <class 'float'>}\n",
      "\u001b[91m[ERROR]\tjit.date_type_mutator\t\n",
      "<class '_ast.Module'> : \n",
      "  <class '_ast.For'> :  <RPT: F>\n",
      "    <class '_ast.Assign'> :  [__ARG__id_hvs : __ARG__id_base]\n",
      "\n",
      "\u001b[0m{'f': <class 'int'>, 'F': <class 'int'>, 'id_hvs': 'hypermat_type', 'id_base': 'hypervec_type', '__ARG__id_base': 'float*', '__ARG__id_hvs': 'float*', 'id_base_f_16a56737': <class 'float'>, 'id_hvs_f_00177a23': <class 'float'>}\n",
      "\u001b[91m[ERROR]\tjit.date_type_mutator\t\n",
      "<class '_ast.Module'> : \n",
      "  <class '_ast.Assign'> :  [level_hvs_q_7acb546c : __ARG__level_base]\n",
      "  <class '_ast.Assign'> :  [__ARG__level_hvs : level_hvs_q_7acb546c]\n",
      "\n",
      "\u001b[0m{'idx': <class 'int'>, 'q': 'int', 'Q': <class 'int'>, 'D': <class 'int'>, 'level_hvs': 'hypermat_type', 'level_base': 'hypervec_type', '__ARG__level_base': 'float*', '__ARG__level_hvs': 'float*', 'level_base_5541502b': <class 'float'>, 'level_hvs_q_7acb546c': <class 'float'>}\n",
      "Base hypervectors\t0.7373542785644531\n"
     ]
    }
   ],
   "source": [
    "with hd.utils.timing(\"Base hypervectors\"):\n",
    "    id_base, level_base = create_random_bases()\n",
    "    id_hvs = create_ids(F, id_base)\n",
    "    level_hvs = create_levels(Q, level_base)\n"
   ]
  },
  {
   "cell_type": "code",
   "execution_count": 15,
   "id": "cbed206a",
   "metadata": {},
   "outputs": [],
   "source": [
    "def preprocesser(\n",
    "        org_feature, cnv_feature, # Predefined argument (single feature)\n",
    "        Q, level_hvs, id_hvs): # arguments passed by args\n",
    "    cnv_feature = int(org_feature * Q)\n",
    "\n",
    "\n",
    "def encoder(\n",
    "        input_features, output_hypervector, # Predefined arguments\n",
    "        Q, level_hvs, id_hvs): # arguments passed by args\n",
    "    for f in range(F):\n",
    "        output_hypervector += level_hvs[input_features[f]] * id_hvs[f]"
   ]
  },
  {
   "cell_type": "code",
   "execution_count": 16,
   "id": "d2c583df",
   "metadata": {},
   "outputs": [
    {
     "name": "stdout",
     "output_type": "stream",
     "text": [
      "\u001b[91m[ERROR]\tjit.date_type_mutator\t\n",
      "<class '_ast.Module'> : \n",
      "  <class '_ast.Assign'> :  [output_hypervector___n_____base_n___2964e176 : __ARG__output_hypervector]\n",
      "  <class '_ast.For'> :  <RPT: F>\n",
      "    <class '_ast.Assign'> :  [output_hypervector___n_____base_n___2964e176 : __ARG__id_hvs*__ARG__level_hvs + output_hypervector___n_____base_n___2964e176]\n",
      "  <class '_ast.Assign'> :  [__ARG__output_hypervector : output_hypervector___n_____base_n___2964e176]\n",
      "\n",
      "\u001b[0m{'__n__': <class 'int'>, '__blockIdx_y__': <class 'int'>, '__base_n__': 'int', '__N__': <class 'int'>, '__blockDim_x__': <class 'int'>, '__F__': <class 'int'>, '__threadIdx_x__': <class 'int'>, 'F_PER_THREAD': <class 'int'>, 'sample_idx_in_stream': <class 'int'>, '__stream__': 'int', '__M__': <class 'int'>, '__f__': <class 'int'>, '__f_idx__': <class 'int'>, 'original_feature': <class 'float'>, 'input_features': 'np_float_array_type', 'preprocessed_feature': <class 'float'>, '__shared_features__': 'np_float_array_type', '__d__': <class 'int'>, '__blockIdx_x__': <class 'int'>, '__D__': <class 'int'>, 'f': <class 'int'>, 'F': <class 'int'>, 'output_hypervector': 'hypermat_type', 'level_hvs': 'hypermat_type', 'id_hvs': 'hypermat_type', '__ARG__id_hvs': 'float*', '__ARG__level_hvs': 'float*', '__ARG__output_hypervector': 'float*', '__shared_features___f_fb10dfcf': <class 'float'>, 'level_hvs___shared_features___f_7add4eda': <class 'float'>, 'id_hvs_f_00177a23': <class 'float'>, 'output_hypervector___n_____base_n___2964e176': <class 'float'>, 'input_features___f_idx___sample_idx_in_stream_dc384242': <class 'float'>, '__shared_features_____f_idx___112c42af': <class 'float'>}\n",
      "Encode training\t0.2608191967010498\n"
     ]
    }
   ],
   "source": [
    "with hd.utils.timing(\"Encode training\"):\n",
    "    hv_matrix = hd.encode(\n",
    "            encoder, extra_args = (Q, level_hvs, id_hvs),\n",
    "            feature_matrix = X_train,\n",
    "#             preprocess_function = preprocesser # optional\n",
    "            )"
   ]
  },
  {
   "cell_type": "code",
   "execution_count": 17,
   "id": "cd5113b1",
   "metadata": {},
   "outputs": [
    {
     "name": "stdout",
     "output_type": "stream",
     "text": [
      "\u001b[91m[ERROR]\tjit.date_type_mutator\t\n",
      "<class '_ast.Module'> : \n",
      "  <class '_ast.Assign'> :  [output_hypervector___n_____base_n___2964e176 : __ARG__output_hypervector]\n",
      "  <class '_ast.For'> :  <RPT: F>\n",
      "    <class '_ast.Assign'> :  [output_hypervector___n_____base_n___2964e176 : __ARG__id_hvs*__ARG__level_hvs + output_hypervector___n_____base_n___2964e176]\n",
      "  <class '_ast.Assign'> :  [__ARG__output_hypervector : output_hypervector___n_____base_n___2964e176]\n",
      "\n",
      "\u001b[0m{'__n__': <class 'int'>, '__blockIdx_y__': <class 'int'>, '__base_n__': 'int', '__N__': <class 'int'>, '__blockDim_x__': <class 'int'>, '__F__': <class 'int'>, '__threadIdx_x__': <class 'int'>, 'F_PER_THREAD': <class 'int'>, 'sample_idx_in_stream': <class 'int'>, '__stream__': 'int', '__M__': <class 'int'>, '__f__': <class 'int'>, '__f_idx__': <class 'int'>, 'original_feature': <class 'float'>, 'input_features': 'np_float_array_type', 'preprocessed_feature': <class 'float'>, '__shared_features__': 'np_float_array_type', '__d__': <class 'int'>, '__blockIdx_x__': <class 'int'>, '__D__': <class 'int'>, 'f': <class 'int'>, 'F': <class 'int'>, 'output_hypervector': 'hypermat_type', 'level_hvs': 'hypermat_type', 'id_hvs': 'hypermat_type', '__ARG__id_hvs': 'float*', '__ARG__level_hvs': 'float*', '__ARG__output_hypervector': 'float*', '__shared_features___f_fb10dfcf': <class 'float'>, 'level_hvs___shared_features___f_7add4eda': <class 'float'>, 'id_hvs_f_00177a23': <class 'float'>, 'output_hypervector___n_____base_n___2964e176': <class 'float'>, 'input_features___f_idx___sample_idx_in_stream_dc384242': <class 'float'>, '__shared_features_____f_idx___112c42af': <class 'float'>}\n",
      "Encode testing\t0.2544388771057129\n"
     ]
    }
   ],
   "source": [
    "with hd.utils.timing(\"Encode testing\"):\n",
    "    hv_matrix_test = hd.encode(\n",
    "            encoder, extra_args = (Q, level_hvs, id_hvs),\n",
    "            feature_matrix = X_test,\n",
    "#             preprocess_function = preprocesser # optional\n",
    "            )"
   ]
  },
  {
   "cell_type": "code",
   "execution_count": 18,
   "id": "36e4ebdd",
   "metadata": {
    "scrolled": true
   },
   "outputs": [
    {
     "data": {
      "text/plain": [
       "3"
      ]
     },
     "execution_count": 18,
     "metadata": {},
     "output_type": "execute_result"
    }
   ],
   "source": [
    "n_classes = len(set(y))\n",
    "n_classes"
   ]
  },
  {
   "cell_type": "code",
   "execution_count": 19,
   "id": "881ced51",
   "metadata": {},
   "outputs": [],
   "source": [
    "@hd.run\n",
    "def train(class_hvs, hv_matrix, labels, N):\n",
    "    for idx in range(N): # Iterate through each image\n",
    "        class_hvs[labels[idx]] += hv_matrix[idx]\n",
    "    return class_hvs"
   ]
  },
  {
   "cell_type": "code",
   "execution_count": 20,
   "id": "7aad7dcb",
   "metadata": {},
   "outputs": [],
   "source": [
    "class_hvs = hd.hypermatrix(n_classes)"
   ]
  },
  {
   "cell_type": "code",
   "execution_count": 21,
   "id": "a1ed0715",
   "metadata": {},
   "outputs": [
    {
     "data": {
      "text/plain": [
       "(3, 10000)"
      ]
     },
     "execution_count": 21,
     "metadata": {},
     "output_type": "execute_result"
    }
   ],
   "source": [
    "class_hvs.to_numpy().shape"
   ]
  },
  {
   "cell_type": "code",
   "execution_count": 22,
   "id": "7b107aff",
   "metadata": {},
   "outputs": [
    {
     "data": {
      "text/plain": [
       "array([1, 2, 1, 1, 2, 0, 2, 0, 2, 2, 2, 2, 2, 0, 0, 0, 0, 1, 0, 0, 2, 1,\n",
       "       0, 0, 0, 2, 1, 1, 0, 0, 1, 2, 2, 1, 2, 1, 2, 1, 0, 2, 1, 0, 0, 0,\n",
       "       1, 2, 0, 0, 0, 1, 0, 1, 2, 0, 1, 2, 0, 2, 2, 1, 1, 2, 1, 0, 1, 2,\n",
       "       0, 0, 1, 1, 0, 2, 0, 0, 1, 1, 2, 1, 2, 2, 1, 0, 0, 2, 2, 0, 0, 0,\n",
       "       1, 2, 0, 2, 2, 0, 1, 1, 2, 1, 2, 0, 2, 1, 2, 1, 1, 1, 0, 1, 1, 0,\n",
       "       1, 2, 2, 0, 1, 2, 2, 0, 2, 0, 1, 2, 2, 1, 2, 1, 1, 2, 2, 0, 1, 2,\n",
       "       0, 1, 2])"
      ]
     },
     "execution_count": 22,
     "metadata": {},
     "output_type": "execute_result"
    }
   ],
   "source": [
    "y_train"
   ]
  },
  {
   "cell_type": "code",
   "execution_count": 23,
   "id": "b0065cae",
   "metadata": {
    "scrolled": true
   },
   "outputs": [
    {
     "data": {
      "text/plain": [
       "(135, 10000)"
      ]
     },
     "execution_count": 23,
     "metadata": {},
     "output_type": "execute_result"
    }
   ],
   "source": [
    "hv_matrix.to_numpy().shape"
   ]
  },
  {
   "cell_type": "code",
   "execution_count": 24,
   "id": "f457d779",
   "metadata": {},
   "outputs": [],
   "source": [
    "y_train = np.array(y_train, dtype = np.int32)\n",
    "y_test = np.array(y_test, dtype = np.int32)"
   ]
  },
  {
   "cell_type": "markdown",
   "id": "423b3cac",
   "metadata": {},
   "source": [
    "# One Shot Learning"
   ]
  },
  {
   "cell_type": "code",
   "execution_count": 25,
   "id": "309e1cb3",
   "metadata": {},
   "outputs": [],
   "source": [
    "@hd.run\n",
    "def one_shot_train(class_hvs, hv_matrix, labels, N):\n",
    "    for idx in range(N): # Iterate through each image\n",
    "        class_hvs[labels[idx]] += hv_matrix[idx]\n",
    "    return class_hvs"
   ]
  },
  {
   "cell_type": "code",
   "execution_count": 26,
   "id": "e6f50aba",
   "metadata": {},
   "outputs": [
    {
     "name": "stdout",
     "output_type": "stream",
     "text": [
      "\u001b[91m[ERROR]\tjit.date_type_mutator\t\n",
      "<class '_ast.Module'> : \n",
      "  <class '_ast.For'> :  <RPT: N>\n",
      "    <class '_ast.Assign'> :  [__ARG__class_hvs : __ARG__class_hvs + __ARG__hv_matrix]\n",
      "\n",
      "\u001b[0m{'idx': <class 'int'>, 'N': <class 'int'>, 'class_hvs': 'hypermat_type', 'labels': 'np_int_array_type', 'hv_matrix': 'hypermat_type', '__ARG__hv_matrix': 'float*', '__ARG__labels': 'int*', '__ARG__labels__STRIDE__': 'const int', '__ARG__class_hvs': 'float*', 'hv_matrix_idx_ead026f6': <class 'float'>, 'labels_idx_b9c77ce4': <class 'int'>, 'class_hvs_idx_labels_df62a0b1': <class 'float'>}\n",
      "2 15 13.333333333333334\n"
     ]
    }
   ],
   "source": [
    "\n",
    "class_hvs = hd.hypermatrix(n_classes)\n",
    "\n",
    "class_hvs = one_shot_train(class_hvs, hv_matrix, y_train, N)\n",
    "\n",
    "validate(y_test, hd.search(class_hvs, hv_matrix_test).to_numpy())\n"
   ]
  },
  {
   "cell_type": "code",
   "execution_count": 27,
   "id": "26240c58",
   "metadata": {},
   "outputs": [],
   "source": [
    "@hd.run\n",
    "def single_pass(hv_matrix, labels, N, n_classes):\n",
    "    class_hvss = hd.hypermatrix(n_classes)\n",
    "\n",
    "    for idx in range(N):\n",
    "        class_hvss[labels[idx]] += hv_matrix[idx]\n",
    "\n",
    "    return class_hvss"
   ]
  },
  {
   "cell_type": "code",
   "execution_count": 28,
   "id": "8663e247",
   "metadata": {
    "scrolled": true
   },
   "outputs": [
    {
     "name": "stdout",
     "output_type": "stream",
     "text": [
      "\u001b[91m[ERROR]\tjit.date_type_mutator\t\n",
      "<class '_ast.Module'> : \n",
      "  <class '_ast.For'> :  <RPT: N>\n",
      "    <class '_ast.Assign'> :  [__ARG__class_hvss : __ARG__class_hvss + __ARG__hv_matrix]\n",
      "\n",
      "\u001b[0m{'idx': <class 'int'>, 'N': <class 'int'>, 'class_hvss': 'hypermat_type', 'labels': 'np_int_array_type', 'hv_matrix': 'hypermat_type', '__ARG__hv_matrix': 'float*', '__ARG__labels': 'int*', '__ARG__labels__STRIDE__': 'const int', '__ARG__class_hvss': 'float*', 'hv_matrix_idx_ead026f6': <class 'float'>, 'labels_idx_b9c77ce4': <class 'int'>, 'class_hvss_idx_labels_1b9b16ff': <class 'float'>}\n"
     ]
    }
   ],
   "source": [
    "# with hd.utils.timing(\"Single pass\"):\n",
    "class_hvss = single_pass(hv_matrix, y_train, N, n_classes)\n",
    "#     class_hvs.debug_print_values()"
   ]
  },
  {
   "cell_type": "code",
   "execution_count": 29,
   "id": "cf4ca298",
   "metadata": {},
   "outputs": [],
   "source": [
    "def validate(labels, pred_labels):\n",
    "    n_correct = (pred_labels == labels).sum()\n",
    "    n_labels = len(labels)\n",
    "    print(n_correct, n_labels, n_correct / float(n_labels) * 100)\n"
   ]
  },
  {
   "cell_type": "code",
   "execution_count": 30,
   "id": "ca314b63",
   "metadata": {},
   "outputs": [],
   "source": [
    "@hd.run\n",
    "def retrain(class_hvss, hv_matrix, labels, N, n_classes):\n",
    "    search_results = hd.search(class_hvss, hv_matrix)\n",
    "\n",
    "    for idx in range(N):\n",
    "        if search_results[idx] != labels[idx]:\n",
    "            class_hvss[labels[idx]] += hv_matrix[idx]\n",
    "            class_hvss[search_results[idx]] -= hv_matrix[idx]\n",
    "\n",
    "    return class_hvss\n"
   ]
  },
  {
   "cell_type": "code",
   "execution_count": 31,
   "id": "ef7a68eb",
   "metadata": {},
   "outputs": [
    {
     "name": "stdout",
     "output_type": "stream",
     "text": [
      "\u001b[91m[ERROR]\tjit.date_type_mutator\t\n",
      "<class '_ast.Module'> : \n",
      "  <class '_ast.For'> :  <RPT: N>\n",
      "    <class '_ast.Assign'> :  [hv_matrix_idx_ead026f6 : __ARG__hv_matrix]\n",
      "    <class '_ast.If'> : \n",
      "      then : \n",
      "        <class '_ast.Assign'> :  [__ARG__class_hvss : __ARG__class_hvss + hv_matrix_idx_ead026f6]\n",
      "        <class '_ast.Assign'> :  [__ARG__class_hvss : __ARG__class_hvss + hv_matrix_idx_ead026f6]\n",
      "      else : \n",
      "\n",
      "\u001b[0m{'idx': <class 'int'>, 'N': <class 'int'>, 'search_results': 'np_int_array_type', 'labels': 'np_int_array_type', 'class_hvss': 'hypermat_type', 'hv_matrix': 'hypermat_type', '__ARG__hv_matrix': 'float*', '__ARG__labels': 'int*', '__ARG__labels__STRIDE__': 'const int', '__ARG__search_results': 'int*', '__ARG__search_results__STRIDE__': 'const int', '__ARG__class_hvss': 'float*', 'search_results_idx_b85d35f6': <class 'int'>, 'labels_idx_b9c77ce4': <class 'int'>, 'hv_matrix_idx_ead026f6': <class 'float'>, 'class_hvss_idx_labels_1b9b16ff': <class 'float'>, 'class_hvss_idx_search_results_855edd5c': <class 'float'>}\n",
      "Retrain itereation: 0\t0.4036235809326172\n",
      "6 15 40.0\n",
      "Retrain itereation: 1\t0.023361921310424805\n",
      "6 15 40.0\n",
      "Retrain itereation: 2\t0.017301082611083984\n",
      "6 15 40.0\n",
      "Retrain itereation: 3\t0.016866445541381836\n",
      "6 15 40.0\n",
      "Retrain itereation: 4\t0.016373395919799805\n",
      "3 15 20.0\n",
      "Retrain itereation: 5\t0.016080856323242188\n",
      "6 15 40.0\n",
      "Retrain itereation: 6\t0.017243146896362305\n",
      "6 15 40.0\n",
      "Retrain itereation: 7\t0.016618728637695312\n",
      "3 15 20.0\n",
      "Retrain itereation: 8\t0.017188310623168945\n",
      "6 15 40.0\n",
      "Retrain itereation: 9\t0.0169217586517334\n",
      "6 15 40.0\n",
      "Retrain itereation: 10\t0.017830610275268555\n",
      "3 15 20.0\n",
      "Retrain itereation: 11\t0.01737213134765625\n",
      "6 15 40.0\n",
      "Retrain itereation: 12\t0.018475055694580078\n",
      "6 15 40.0\n",
      "Retrain itereation: 13\t0.018442153930664062\n",
      "2 15 13.333333333333334\n",
      "Retrain itereation: 14\t0.01835012435913086\n",
      "6 15 40.0\n",
      "Retrain itereation: 15\t0.018955707550048828\n",
      "6 15 40.0\n",
      "Retrain itereation: 16\t0.018405437469482422\n",
      "2 15 13.333333333333334\n",
      "Retrain itereation: 17\t0.018225908279418945\n",
      "6 15 40.0\n",
      "Retrain itereation: 18\t0.01879429817199707\n",
      "7 15 46.666666666666664\n",
      "Retrain itereation: 19\t0.01843714714050293\n",
      "2 15 13.333333333333334\n",
      "Retrain itereation: 20\t0.018591880798339844\n",
      "6 15 40.0\n",
      "Retrain itereation: 21\t0.01906752586364746\n",
      "7 15 46.666666666666664\n",
      "Retrain itereation: 22\t0.02001500129699707\n",
      "2 15 13.333333333333334\n",
      "Retrain itereation: 23\t0.01449275016784668\n",
      "6 15 40.0\n",
      "Retrain itereation: 24\t0.013994693756103516\n",
      "7 15 46.666666666666664\n",
      "Retrain itereation: 25\t0.014716863632202148\n",
      "2 15 13.333333333333334\n",
      "Retrain itereation: 26\t0.013905763626098633\n",
      "6 15 40.0\n",
      "Retrain itereation: 27\t0.014439105987548828\n",
      "7 15 46.666666666666664\n",
      "Retrain itereation: 28\t0.015749692916870117\n",
      "3 15 20.0\n",
      "Retrain itereation: 29\t0.015496492385864258\n",
      "6 15 40.0\n",
      "Retrain itereation: 30\t0.015532732009887695\n",
      "3 15 20.0\n",
      "Retrain itereation: 31\t0.015830278396606445\n",
      "6 15 40.0\n",
      "Retrain itereation: 32\t0.015998125076293945\n",
      "6 15 40.0\n",
      "Retrain itereation: 33\t0.01628279685974121\n",
      "7 15 46.666666666666664\n",
      "Retrain itereation: 34\t0.016224384307861328\n",
      "2 15 13.333333333333334\n",
      "Retrain itereation: 35\t0.01578235626220703\n",
      "6 15 40.0\n",
      "Retrain itereation: 36\t0.016054391860961914\n",
      "7 15 46.666666666666664\n",
      "Retrain itereation: 37\t0.01598501205444336\n",
      "2 15 13.333333333333334\n",
      "Retrain itereation: 38\t0.016331911087036133\n",
      "6 15 40.0\n",
      "Retrain itereation: 39\t0.016806840896606445\n",
      "7 15 46.666666666666664\n",
      "Retrain itereation: 40\t0.016095399856567383\n",
      "2 15 13.333333333333334\n",
      "Retrain itereation: 41\t0.016529321670532227\n",
      "6 15 40.0\n",
      "Retrain itereation: 42\t0.01605820655822754\n",
      "7 15 46.666666666666664\n",
      "Retrain itereation: 43\t0.016112089157104492\n",
      "2 15 13.333333333333334\n",
      "Retrain itereation: 44\t0.01784348487854004\n",
      "6 15 40.0\n",
      "Retrain itereation: 45\t0.013623237609863281\n",
      "7 15 46.666666666666664\n",
      "Retrain itereation: 46\t0.0139007568359375\n",
      "2 15 13.333333333333334\n",
      "Retrain itereation: 47\t0.013736248016357422\n",
      "6 15 40.0\n",
      "Retrain itereation: 48\t0.013806819915771484\n",
      "7 15 46.666666666666664\n",
      "Retrain itereation: 49\t0.013330698013305664\n",
      "2 15 13.333333333333334\n",
      "Retrain itereation: 50\t0.013924837112426758\n",
      "6 15 40.0\n",
      "Retrain itereation: 51\t0.013802528381347656\n",
      "7 15 46.666666666666664\n",
      "Retrain itereation: 52\t0.013916969299316406\n",
      "2 15 13.333333333333334\n",
      "Retrain itereation: 53\t0.01434469223022461\n",
      "6 15 40.0\n",
      "Retrain itereation: 54\t0.015144586563110352\n",
      "7 15 46.666666666666664\n",
      "Retrain itereation: 55\t0.015410661697387695\n",
      "2 15 13.333333333333334\n",
      "Retrain itereation: 56\t0.014945745468139648\n",
      "6 15 40.0\n",
      "Retrain itereation: 57\t0.01622629165649414\n",
      "7 15 46.666666666666664\n",
      "Retrain itereation: 58\t0.015935659408569336\n",
      "2 15 13.333333333333334\n",
      "Retrain itereation: 59\t0.016149044036865234\n",
      "6 15 40.0\n",
      "Retrain itereation: 60\t0.017288684844970703\n",
      "7 15 46.666666666666664\n",
      "Retrain itereation: 61\t0.01595902442932129\n",
      "2 15 13.333333333333334\n",
      "Retrain itereation: 62\t0.01660776138305664\n",
      "6 15 40.0\n",
      "Retrain itereation: 63\t0.016602754592895508\n",
      "7 15 46.666666666666664\n",
      "Retrain itereation: 64\t0.01700592041015625\n",
      "3 15 20.0\n",
      "Retrain itereation: 65\t0.0161135196685791\n",
      "6 15 40.0\n",
      "Retrain itereation: 66\t0.016515254974365234\n",
      "7 15 46.666666666666664\n",
      "Retrain itereation: 67\t0.016070842742919922\n",
      "3 15 20.0\n",
      "Retrain itereation: 68\t0.0172269344329834\n",
      "6 15 40.0\n",
      "Retrain itereation: 69\t0.017031431198120117\n",
      "7 15 46.666666666666664\n",
      "Retrain itereation: 70\t0.01754450798034668\n",
      "3 15 20.0\n",
      "Retrain itereation: 71\t0.01653432846069336\n",
      "6 15 40.0\n",
      "Retrain itereation: 72\t0.006711721420288086\n",
      "7 15 46.666666666666664\n",
      "Retrain itereation: 73\t0.00579524040222168\n",
      "3 15 20.0\n",
      "Retrain itereation: 74\t0.005355119705200195\n",
      "6 15 40.0\n",
      "Retrain itereation: 75\t0.0053615570068359375\n",
      "7 15 46.666666666666664\n",
      "Retrain itereation: 76\t0.005366325378417969\n",
      "3 15 20.0\n",
      "Retrain itereation: 77\t0.005602121353149414\n",
      "6 15 40.0\n",
      "Retrain itereation: 78\t0.005349874496459961\n",
      "7 15 46.666666666666664\n",
      "Retrain itereation: 79\t0.005372524261474609\n",
      "3 15 20.0\n",
      "Retrain itereation: 80\t0.005321502685546875\n",
      "6 15 40.0\n",
      "Retrain itereation: 81\t0.005334377288818359\n",
      "7 15 46.666666666666664\n",
      "Retrain itereation: 82\t0.005269765853881836\n",
      "3 15 20.0\n",
      "Retrain itereation: 83\t0.00525975227355957\n",
      "6 15 40.0\n",
      "Retrain itereation: 84\t0.005327701568603516\n",
      "7 15 46.666666666666664\n",
      "Retrain itereation: 85\t0.005355119705200195\n",
      "3 15 20.0\n",
      "Retrain itereation: 86\t0.005307674407958984\n",
      "6 15 40.0\n",
      "Retrain itereation: 87\t0.005318164825439453\n",
      "7 15 46.666666666666664\n",
      "Retrain itereation: 88\t0.005397796630859375\n",
      "3 15 20.0\n",
      "Retrain itereation: 89\t0.005364656448364258\n",
      "6 15 40.0\n",
      "Retrain itereation: 90\t0.005289793014526367\n",
      "7 15 46.666666666666664\n",
      "Retrain itereation: 91\t0.005345821380615234\n",
      "3 15 20.0\n",
      "Retrain itereation: 92\t0.005418062210083008\n",
      "6 15 40.0\n",
      "Retrain itereation: 93\t0.005545616149902344\n",
      "6 15 40.0\n",
      "Retrain itereation: 94\t0.005616903305053711\n",
      "3 15 20.0\n",
      "Retrain itereation: 95\t0.005442142486572266\n",
      "6 15 40.0\n",
      "Retrain itereation: 96\t0.005402326583862305\n",
      "7 15 46.666666666666664\n",
      "Retrain itereation: 97\t0.005353212356567383\n",
      "3 15 20.0\n",
      "Retrain itereation: 98\t0.00438690185546875\n",
      "6 15 40.0\n",
      "Retrain itereation: 99\t0.004521369934082031\n",
      "6 15 40.0\n"
     ]
    }
   ],
   "source": [
    "RETRAIN_ITERATIONS = 100\n",
    "SHOW_STEP_RESULT = True\n",
    "for it in range(RETRAIN_ITERATIONS):\n",
    "    with hd.utils.timing(\"Retrain itereation: %d\" % it):\n",
    "        class_hvss = retrain(class_hvss, hv_matrix, y_train, N, n_classes)\n",
    "\n",
    "    if SHOW_STEP_RESULT and y_test is not None:\n",
    "        validate(y_test, hd.search(class_hvss, hv_matrix_test).to_numpy())"
   ]
  },
  {
   "cell_type": "code",
   "execution_count": 32,
   "id": "11f21b95",
   "metadata": {},
   "outputs": [
    {
     "name": "stdout",
     "output_type": "stream",
     "text": [
      "48 135 35.55555555555556\n"
     ]
    }
   ],
   "source": [
    "validate(y_train, hd.search(class_hvss, hv_matrix).to_numpy())"
   ]
  },
  {
   "cell_type": "code",
   "execution_count": 33,
   "id": "0f89fe9f",
   "metadata": {
    "scrolled": true
   },
   "outputs": [
    {
     "name": "stdout",
     "output_type": "stream",
     "text": [
      "48 135 35.55555555555556\n"
     ]
    }
   ],
   "source": [
    "validate(y_train, hd.search(class_hvs, hv_matrix).to_numpy())"
   ]
  },
  {
   "cell_type": "code",
   "execution_count": 32,
   "id": "deb9b0e9",
   "metadata": {},
   "outputs": [
    {
     "name": "stdout",
     "output_type": "stream",
     "text": [
      "Single pass\t0.018413782119750977\n"
     ]
    }
   ],
   "source": [
    "with hd.utils.timing(\"Single pass\"):\n",
    "    hd.search(class_hvss, hv_matrix_test).to_numpy()"
   ]
  },
  {
   "cell_type": "code",
   "execution_count": 34,
   "id": "d0f03ddb",
   "metadata": {},
   "outputs": [
    {
     "name": "stdout",
     "output_type": "stream",
     "text": [
      "3 15 20.0\n"
     ]
    }
   ],
   "source": [
    "validate(y_test, hd.search(class_hvss, hv_matrix_test).to_numpy())"
   ]
  },
  {
   "cell_type": "code",
   "execution_count": null,
   "id": "2fb31d61",
   "metadata": {},
   "outputs": [],
   "source": []
  }
 ],
 "metadata": {
  "kernelspec": {
   "display_name": "Python 3 (ipykernel)",
   "language": "python",
   "name": "python3"
  },
  "language_info": {
   "codemirror_mode": {
    "name": "ipython",
    "version": 3
   },
   "file_extension": ".py",
   "mimetype": "text/x-python",
   "name": "python",
   "nbconvert_exporter": "python",
   "pygments_lexer": "ipython3",
   "version": "3.8.0"
  }
 },
 "nbformat": 4,
 "nbformat_minor": 5
}
