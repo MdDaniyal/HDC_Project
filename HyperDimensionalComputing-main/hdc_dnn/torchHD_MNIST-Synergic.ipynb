{
 "cells": [
  {
   "cell_type": "code",
   "execution_count": 1,
   "id": "1fffb705",
   "metadata": {},
   "outputs": [],
   "source": [
    "import torch\n",
    "import torch.nn as nn\n",
    "import torch.nn.functional as F\n",
    "import torchvision\n",
    "from torchvision.datasets import MNIST\n",
    "import torchmetrics\n",
    "\n",
    "from torchhd import functional\n",
    "from torchhd import embeddings"
   ]
  },
  {
   "cell_type": "code",
   "execution_count": 2,
   "id": "29a944d5",
   "metadata": {},
   "outputs": [],
   "source": [
    "BATCH_SIZE=1\n",
    "NUM_LEVELS=10\n",
    "DIMENSIONS=10000\n",
    "IMG_SIZE = 28"
   ]
  },
  {
   "cell_type": "code",
   "execution_count": 3,
   "id": "55c3df83",
   "metadata": {},
   "outputs": [
    {
     "data": {
      "text/plain": [
       "device(type='cuda', index=0)"
      ]
     },
     "execution_count": 3,
     "metadata": {},
     "output_type": "execute_result"
    }
   ],
   "source": [
    "device = torch.device('cuda:0' if torch.cuda.is_available() else 'cpu')\n",
    "device"
   ]
  },
  {
   "cell_type": "code",
   "execution_count": 4,
   "id": "88d9c013",
   "metadata": {},
   "outputs": [],
   "source": [
    "transform = torchvision.transforms.ToTensor()\n",
    "\n",
    "train_ds = MNIST(\"data\", train=True, transform=transform, download=False)\n",
    "train_ld = torch.utils.data.DataLoader(train_ds, batch_size=BATCH_SIZE, shuffle=True)\n",
    "\n",
    "test_ds = MNIST(\"data\", train=False, transform=transform, download=False)\n",
    "test_ld = torch.utils.data.DataLoader(test_ds, batch_size=BATCH_SIZE, shuffle=False)"
   ]
  },
  {
   "cell_type": "code",
   "execution_count": 5,
   "id": "9405d0d9",
   "metadata": {},
   "outputs": [],
   "source": [
    "class Model(nn.Module):\n",
    "    def __init__(self, num_classes, size):\n",
    "        super(Model, self).__init__()\n",
    "\n",
    "        self.flatten = torch.nn.Flatten()\n",
    "\n",
    "        self.position = embeddings.Random(size * size, DIMENSIONS)\n",
    "        self.value = embeddings.Level(NUM_LEVELS, DIMENSIONS)\n",
    "\n",
    "        self.classify = nn.Linear(DIMENSIONS, num_classes, bias=False)\n",
    "        self.classify.weight.data.fill_(0.0)\n",
    "\n",
    "    def encode(self, x):\n",
    "        x = self.flatten(x)\n",
    "        sample_hv = functional.bind(self.position.weight, self.value(x))\n",
    "        sample_hv = functional.multiset(sample_hv)\n",
    "        return functional.hard_quantize(sample_hv)\n",
    "\n",
    "    def forward(self, x):\n",
    "        enc = self.encode(x)\n",
    "        logit = self.classify(enc)\n",
    "        return logit\n"
   ]
  },
  {
   "cell_type": "code",
   "execution_count": 6,
   "id": "804049c2",
   "metadata": {},
   "outputs": [],
   "source": [
    "\n",
    "\n",
    "model = Model(len(train_ds.classes), IMG_SIZE)\n",
    "model = model.to(device)"
   ]
  },
  {
   "cell_type": "code",
   "execution_count": 1,
   "id": "0fe5095d",
   "metadata": {},
   "outputs": [
    {
     "ename": "NameError",
     "evalue": "name 'torch' is not defined",
     "output_type": "error",
     "traceback": [
      "\u001b[0;31m---------------------------------------------------------------------------\u001b[0m",
      "\u001b[0;31mNameError\u001b[0m                                 Traceback (most recent call last)",
      "Input \u001b[0;32mIn [1]\u001b[0m, in \u001b[0;36m<cell line: 1>\u001b[0;34m()\u001b[0m\n\u001b[0;32m----> 1\u001b[0m \u001b[38;5;28;01mwith\u001b[39;00m \u001b[43mtorch\u001b[49m\u001b[38;5;241m.\u001b[39mno_grad():\n\u001b[1;32m      2\u001b[0m     \u001b[38;5;28;01mfor\u001b[39;00m samples, labels \u001b[38;5;129;01min\u001b[39;00m train_ld:\n\u001b[1;32m      3\u001b[0m         samples \u001b[38;5;241m=\u001b[39m samples\u001b[38;5;241m.\u001b[39mto(device)\n",
      "\u001b[0;31mNameError\u001b[0m: name 'torch' is not defined"
     ]
    }
   ],
   "source": [
    "with torch.no_grad():\n",
    "    for samples, labels in train_ld:\n",
    "        samples = samples.to(device)\n",
    "        labels = labels.to(device)\n",
    "\n",
    "        samples_hv = model.encode(samples)\n",
    "        model.classify.weight[labels] += samples_hv\n",
    "\n",
    "    model.classify.weight[:] = F.normalize(model.classify.weight)"
   ]
  },
  {
   "cell_type": "code",
   "execution_count": 8,
   "id": "06e5b80b",
   "metadata": {},
   "outputs": [],
   "source": [
    "accuracy = torchmetrics.Accuracy(\"multiclass\", num_classes=10)"
   ]
  },
  {
   "cell_type": "code",
   "execution_count": 9,
   "id": "99f180af",
   "metadata": {},
   "outputs": [],
   "source": [
    "with torch.no_grad():\n",
    "    for samples, labels in test_ld:\n",
    "        samples = samples.to(device)\n",
    "\n",
    "        outputs = model(samples)\n",
    "        predictions = torch.argmax(outputs, dim=-1)\n",
    "        accuracy.update(predictions.cpu(), labels)"
   ]
  },
  {
   "cell_type": "code",
   "execution_count": 10,
   "id": "00c9f125",
   "metadata": {},
   "outputs": [
    {
     "name": "stdout",
     "output_type": "stream",
     "text": [
      "Testing accuracy of 82.990%\n"
     ]
    }
   ],
   "source": [
    "print(f\"Testing accuracy of {(accuracy.compute().item() * 100):.3f}%\")"
   ]
  },
  {
   "cell_type": "code",
   "execution_count": null,
   "id": "099fe94e",
   "metadata": {},
   "outputs": [],
   "source": []
  }
 ],
 "metadata": {
  "kernelspec": {
   "display_name": "Python 3 (ipykernel)",
   "language": "python",
   "name": "python3"
  },
  "language_info": {
   "codemirror_mode": {
    "name": "ipython",
    "version": 3
   },
   "file_extension": ".py",
   "mimetype": "text/x-python",
   "name": "python",
   "nbconvert_exporter": "python",
   "pygments_lexer": "ipython3",
   "version": "3.8.0"
  }
 },
 "nbformat": 4,
 "nbformat_minor": 5
}
