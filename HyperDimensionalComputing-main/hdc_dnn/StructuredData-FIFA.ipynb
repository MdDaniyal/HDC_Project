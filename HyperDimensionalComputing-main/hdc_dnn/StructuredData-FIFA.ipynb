{
 "cells": [
  {
   "cell_type": "code",
   "execution_count": 1,
   "id": "e9f4b3eb",
   "metadata": {},
   "outputs": [
    {
     "name": "stderr",
     "output_type": "stream",
     "text": [
      "/home/hpc/iwi3/iwi3083h/.local/lib/python3.8/site-packages/skcuda/cublas.py:284: UserWarning: creating CUBLAS context to get version number\n",
      "  warnings.warn('creating CUBLAS context to get version number')\n"
     ]
    }
   ],
   "source": [
    "import sys\n",
    "import struct\n",
    "import argparse\n",
    "\n",
    "import numpy as np\n",
    "import openhd as hd"
   ]
  },
  {
   "cell_type": "code",
   "execution_count": null,
   "id": "f424bc60",
   "metadata": {},
   "outputs": [],
   "source": []
  },
  {
   "cell_type": "code",
   "execution_count": 2,
   "id": "c7cf3414",
   "metadata": {},
   "outputs": [],
   "source": [
    "!rm -rf ~/.openhd"
   ]
  },
  {
   "cell_type": "markdown",
   "id": "094f9166",
   "metadata": {},
   "source": [
    "# Diabetes"
   ]
  },
  {
   "cell_type": "code",
   "execution_count": 3,
   "id": "2b73cc9e",
   "metadata": {},
   "outputs": [],
   "source": [
    "from sklearn import datasets\n",
    "\n",
    "diab = datasets.load_breast_cancer()"
   ]
  },
  {
   "cell_type": "code",
   "execution_count": 4,
   "id": "fbe8ca24",
   "metadata": {},
   "outputs": [],
   "source": [
    "X = diab.data\n",
    "y = diab.target\n"
   ]
  },
  {
   "cell_type": "code",
   "execution_count": 5,
   "id": "c73c08ed",
   "metadata": {},
   "outputs": [
    {
     "data": {
      "text/plain": [
       "(569, 30)"
      ]
     },
     "execution_count": 5,
     "metadata": {},
     "output_type": "execute_result"
    }
   ],
   "source": [
    "X.shape"
   ]
  },
  {
   "cell_type": "code",
   "execution_count": 6,
   "id": "96e8ca3c",
   "metadata": {},
   "outputs": [],
   "source": [
    "from sklearn.preprocessing import MinMaxScaler\n",
    "scaler = MinMaxScaler()\n",
    "X = scaler.fit_transform(X)\n",
    "# X.dtype = np.float32"
   ]
  },
  {
   "cell_type": "code",
   "execution_count": 7,
   "id": "26a40197",
   "metadata": {},
   "outputs": [
    {
     "data": {
      "text/plain": [
       "(569, 30)"
      ]
     },
     "execution_count": 7,
     "metadata": {},
     "output_type": "execute_result"
    }
   ],
   "source": [
    "X.shape"
   ]
  },
  {
   "cell_type": "code",
   "execution_count": 8,
   "id": "8ef6989f",
   "metadata": {},
   "outputs": [],
   "source": [
    "from sklearn.model_selection import train_test_split\n",
    "X_train, X_test, y_train, y_test = train_test_split(X, y, test_size=0.10, random_state=42)"
   ]
  },
  {
   "cell_type": "code",
   "execution_count": 9,
   "id": "8d91b4b6",
   "metadata": {},
   "outputs": [
    {
     "data": {
      "text/plain": [
       "(512, 30)"
      ]
     },
     "execution_count": 9,
     "metadata": {},
     "output_type": "execute_result"
    }
   ],
   "source": [
    "X_train.shape"
   ]
  },
  {
   "cell_type": "code",
   "execution_count": 10,
   "id": "d7bddf08",
   "metadata": {},
   "outputs": [
    {
     "data": {
      "text/plain": [
       "array([0.86322117, 0.51403449, 0.88252367, 0.73573701, 0.48451747,\n",
       "       0.75799031, 0.78233365, 0.91699801, 0.38838384, 0.37615838,\n",
       "       0.2845555 , 0.24615453, 0.31216133, 0.21142776, 0.21936295,\n",
       "       0.41065581, 0.14469697, 0.38454253, 0.03894861, 0.17267803,\n",
       "       0.78512985, 0.57569296, 0.80327706, 0.58415258, 0.56877765,\n",
       "       0.56301967, 0.5172524 , 0.98522337, 0.15572639, 0.32834842])"
      ]
     },
     "execution_count": 10,
     "metadata": {},
     "output_type": "execute_result"
    }
   ],
   "source": [
    "X_train[0]"
   ]
  },
  {
   "cell_type": "code",
   "execution_count": 11,
   "id": "c89fcb04",
   "metadata": {},
   "outputs": [
    {
     "data": {
      "text/plain": [
       "(512, 30)"
      ]
     },
     "execution_count": 11,
     "metadata": {},
     "output_type": "execute_result"
    }
   ],
   "source": [
    "N = X_train.shape[0]\n",
    "F = X_train.shape[1]\n",
    "N, F"
   ]
  },
  {
   "cell_type": "code",
   "execution_count": 12,
   "id": "faf20601",
   "metadata": {},
   "outputs": [],
   "source": [
    "Q = 100\n",
    "D = 10000\n",
    "hd.init(D=D, context=globals())\n"
   ]
  },
  {
   "cell_type": "code",
   "execution_count": 13,
   "id": "f60a1fbe",
   "metadata": {},
   "outputs": [],
   "source": [
    "@hd.run\n",
    "def create_random_bases():\n",
    "    id_base = hd.draw_random_hypervector()\n",
    "    level_base = hd.draw_random_hypervector()\n",
    "    return id_base, level_base\n",
    "\n",
    "\n",
    "@hd.run\n",
    "def create_ids(F, id_base):\n",
    "    id_hvs = hd.hypermatrix(F) # np.zeros(F, N) (not the empty list) \n",
    "    for f in range(F):\n",
    "        id_hvs[f] = hd.permute(id_base, f)\n",
    "\n",
    "    return id_hvs\n",
    "\n",
    "@hd.run\n",
    "def create_levels(Q, level_base):\n",
    "    level_hvs = hd.hypermatrix(Q+1) # np.zeros((Q+1), N) (not the empty list)\n",
    "    for q in range(Q+1):\n",
    "        idx = int(q/float(Q) * D) / 2\n",
    "        level_hvs[q] = hd.flip(level_base, idx)\n",
    "        level_hvs[q] = hd.shuffle(level_hvs[q], 0)\n",
    "\n",
    "    return level_hvs\n",
    "\n",
    "@hd.run\n",
    "def assoc_search(class_hvs, hv_matrix_tst):\n",
    "    ret = hd.search(class_hvs, hv_matrix_tst)\n",
    "    return ret\n",
    "\n",
    "def validate(labels, pred_labels):\n",
    "    n_correct = (pred_labels == labels).sum()\n",
    "    n_labels = len(labels)\n",
    "    print(n_correct, n_labels, n_correct / float(n_labels) * 100)\n"
   ]
  },
  {
   "cell_type": "code",
   "execution_count": 14,
   "id": "7c473864",
   "metadata": {},
   "outputs": [
    {
     "name": "stdout",
     "output_type": "stream",
     "text": [
      "\u001b[91m[ERROR]\tjit.date_type_mutator\t\n",
      "<class '_ast.Module'> : \n",
      "  <class '_ast.Assign'> :  [__ARG__id_base : __one__]\n",
      "  <class '_ast.Assign'> :  [__ARG__level_base : __one__]\n",
      "\n",
      "\u001b[0m{'id_base': 'hypervec_type', 'level_base': 'hypervec_type', '__ARG__level_base': 'float*', '__ARG__id_base': 'float*', 'id_base_22b19319': <class 'float'>, 'level_base_5541502b': <class 'float'>}\n",
      "\u001b[91m[ERROR]\tjit.date_type_mutator\t\n",
      "<class '_ast.Module'> : \n",
      "  <class '_ast.For'> :  <RPT: F>\n",
      "    <class '_ast.Assign'> :  [__ARG__id_hvs : __ARG__id_base]\n",
      "\n",
      "\u001b[0m{'f': <class 'int'>, 'F': <class 'int'>, 'id_hvs': 'hypermat_type', 'id_base': 'hypervec_type', '__ARG__id_base': 'float*', '__ARG__id_hvs': 'float*', 'id_base_f_16a56737': <class 'float'>, 'id_hvs_f_00177a23': <class 'float'>}\n",
      "\u001b[91m[ERROR]\tjit.date_type_mutator\t\n",
      "<class '_ast.Module'> : \n",
      "  <class '_ast.Assign'> :  [level_hvs_q_7acb546c : __ARG__level_base]\n",
      "  <class '_ast.Assign'> :  [__ARG__level_hvs : level_hvs_q_7acb546c]\n",
      "\n",
      "\u001b[0m{'idx': <class 'int'>, 'q': 'int', 'Q': <class 'int'>, 'D': <class 'int'>, 'level_hvs': 'hypermat_type', 'level_base': 'hypervec_type', '__ARG__level_base': 'float*', '__ARG__level_hvs': 'float*', 'level_base_5541502b': <class 'float'>, 'level_hvs_q_7acb546c': <class 'float'>}\n",
      "Base hypervectors\t0.900181770324707\n"
     ]
    }
   ],
   "source": [
    "with hd.utils.timing(\"Base hypervectors\"):\n",
    "    id_base, level_base = create_random_bases()\n",
    "    id_hvs = create_ids(F, id_base)\n",
    "    level_hvs = create_levels(Q, level_base)\n"
   ]
  },
  {
   "cell_type": "code",
   "execution_count": 15,
   "id": "cbed206a",
   "metadata": {},
   "outputs": [],
   "source": [
    "def preprocesser(\n",
    "        org_feature, cnv_feature, # Predefined argument (single feature)\n",
    "        Q, level_hvs, id_hvs): # arguments passed by args\n",
    "    cnv_feature = int(org_feature * Q)\n",
    "\n",
    "\n",
    "def encoder(\n",
    "        input_features, output_hypervector, # Predefined arguments\n",
    "        Q, level_hvs, id_hvs): # arguments passed by args\n",
    "    for f in range(F):\n",
    "        output_hypervector += level_hvs[input_features[f]] * id_hvs[f]"
   ]
  },
  {
   "cell_type": "code",
   "execution_count": 16,
   "id": "d2c583df",
   "metadata": {},
   "outputs": [
    {
     "name": "stdout",
     "output_type": "stream",
     "text": [
      "\u001b[91m[ERROR]\tjit.date_type_mutator\t\n",
      "<class '_ast.Module'> : \n",
      "  <class '_ast.Assign'> :  [output_hypervector___base_n_____n___2964e176 : __ARG__output_hypervector]\n",
      "  <class '_ast.For'> :  <RPT: F>\n",
      "    <class '_ast.Assign'> :  [output_hypervector___base_n_____n___2964e176 : __ARG__id_hvs*__ARG__level_hvs + output_hypervector___base_n_____n___2964e176]\n",
      "  <class '_ast.Assign'> :  [__ARG__output_hypervector : output_hypervector___base_n_____n___2964e176]\n",
      "\n",
      "\u001b[0m{'__n__': <class 'int'>, '__blockIdx_y__': <class 'int'>, '__base_n__': 'int', '__N__': <class 'int'>, '__blockDim_x__': <class 'int'>, '__F__': <class 'int'>, '__threadIdx_x__': <class 'int'>, 'F_PER_THREAD': <class 'int'>, 'sample_idx_in_stream': <class 'int'>, '__stream__': 'int', '__M__': <class 'int'>, '__f__': <class 'int'>, '__f_idx__': <class 'int'>, 'original_feature': <class 'float'>, 'input_features': 'np_float_array_type', 'preprocessed_feature': <class 'float'>, '__shared_features__': 'np_float_array_type', '__d__': <class 'int'>, '__blockIdx_x__': <class 'int'>, '__D__': <class 'int'>, 'f': <class 'int'>, 'F': <class 'int'>, 'output_hypervector': 'hypermat_type', 'level_hvs': 'hypermat_type', 'id_hvs': 'hypermat_type', '__ARG__output_hypervector': 'float*', '__ARG__level_hvs': 'float*', '__ARG__id_hvs': 'float*', '__shared_features___f_fb10dfcf': <class 'float'>, 'level_hvs_f___shared_features___7add4eda': <class 'float'>, 'id_hvs_f_00177a23': <class 'float'>, 'output_hypervector___base_n_____n___2964e176': <class 'float'>, 'input_features___f_idx___sample_idx_in_stream_dc384242': <class 'float'>, '__shared_features_____f_idx___112c42af': <class 'float'>}\n",
      "Encode training\t0.5378036499023438\n"
     ]
    }
   ],
   "source": [
    "with hd.utils.timing(\"Encode training\"):\n",
    "    hv_matrix = hd.encode(\n",
    "            encoder, extra_args = (Q, level_hvs, id_hvs),\n",
    "            feature_matrix = X_train,\n",
    "#             preprocess_function = preprocesser # optional\n",
    "            )"
   ]
  },
  {
   "cell_type": "code",
   "execution_count": 17,
   "id": "cd5113b1",
   "metadata": {},
   "outputs": [
    {
     "name": "stdout",
     "output_type": "stream",
     "text": [
      "\u001b[91m[ERROR]\tjit.date_type_mutator\t\n",
      "<class '_ast.Module'> : \n",
      "  <class '_ast.Assign'> :  [output_hypervector___base_n_____n___2964e176 : __ARG__output_hypervector]\n",
      "  <class '_ast.For'> :  <RPT: F>\n",
      "    <class '_ast.Assign'> :  [output_hypervector___base_n_____n___2964e176 : __ARG__id_hvs*__ARG__level_hvs + output_hypervector___base_n_____n___2964e176]\n",
      "  <class '_ast.Assign'> :  [__ARG__output_hypervector : output_hypervector___base_n_____n___2964e176]\n",
      "\n",
      "\u001b[0m{'__n__': <class 'int'>, '__blockIdx_y__': <class 'int'>, '__base_n__': 'int', '__N__': <class 'int'>, '__blockDim_x__': <class 'int'>, '__F__': <class 'int'>, '__threadIdx_x__': <class 'int'>, 'F_PER_THREAD': <class 'int'>, 'sample_idx_in_stream': <class 'int'>, '__stream__': 'int', '__M__': <class 'int'>, '__f__': <class 'int'>, '__f_idx__': <class 'int'>, 'original_feature': <class 'float'>, 'input_features': 'np_float_array_type', 'preprocessed_feature': <class 'float'>, '__shared_features__': 'np_float_array_type', '__d__': <class 'int'>, '__blockIdx_x__': <class 'int'>, '__D__': <class 'int'>, 'f': <class 'int'>, 'F': <class 'int'>, 'output_hypervector': 'hypermat_type', 'level_hvs': 'hypermat_type', 'id_hvs': 'hypermat_type', '__ARG__output_hypervector': 'float*', '__ARG__level_hvs': 'float*', '__ARG__id_hvs': 'float*', '__shared_features___f_fb10dfcf': <class 'float'>, 'level_hvs_f___shared_features___7add4eda': <class 'float'>, 'id_hvs_f_00177a23': <class 'float'>, 'output_hypervector___base_n_____n___2964e176': <class 'float'>, 'input_features___f_idx___sample_idx_in_stream_dc384242': <class 'float'>, '__shared_features_____f_idx___112c42af': <class 'float'>}\n",
      "Encode testing\t0.5396575927734375\n"
     ]
    }
   ],
   "source": [
    "with hd.utils.timing(\"Encode testing\"):\n",
    "    hv_matrix_test = hd.encode(\n",
    "            encoder, extra_args = (Q, level_hvs, id_hvs),\n",
    "            feature_matrix = X_test,\n",
    "#             preprocess_function = preprocesser # optional\n",
    "            )"
   ]
  },
  {
   "cell_type": "code",
   "execution_count": 18,
   "id": "36e4ebdd",
   "metadata": {
    "scrolled": true
   },
   "outputs": [
    {
     "data": {
      "text/plain": [
       "2"
      ]
     },
     "execution_count": 18,
     "metadata": {},
     "output_type": "execute_result"
    }
   ],
   "source": [
    "n_classes = len(set(y))\n",
    "n_classes"
   ]
  },
  {
   "cell_type": "code",
   "execution_count": 19,
   "id": "4a614fb6",
   "metadata": {},
   "outputs": [
    {
     "data": {
      "text/plain": [
       "array([0, 0, 0, 0, 0, 0, 0, 0, 0, 0, 0, 0, 0, 0, 0, 0, 0, 0, 0, 1, 1, 1,\n",
       "       0, 0, 0, 0, 0, 0, 0, 0, 0, 0, 0, 0, 0, 0, 0, 1, 0, 0, 0, 0, 0, 0,\n",
       "       0, 0, 1, 0, 1, 1, 1, 1, 1, 0, 0, 1, 0, 0, 1, 1, 1, 1, 0, 1, 0, 0,\n",
       "       1, 1, 1, 1, 0, 1, 0, 0, 1, 0, 1, 0, 0, 1, 1, 1, 0, 0, 1, 0, 0, 0,\n",
       "       1, 1, 1, 0, 1, 1, 0, 0, 1, 1, 1, 0, 0, 1, 1, 1, 1, 0, 1, 1, 0, 1,\n",
       "       1, 1, 1, 1, 1, 1, 1, 0, 0, 0, 1, 0, 0, 1, 1, 1, 0, 0, 1, 0, 1, 0,\n",
       "       0, 1, 0, 0, 1, 1, 0, 1, 1, 0, 1, 1, 1, 1, 0, 1, 1, 1, 1, 1, 1, 1,\n",
       "       1, 1, 0, 1, 1, 1, 1, 0, 0, 1, 0, 1, 1, 0, 0, 1, 1, 0, 0, 1, 1, 1,\n",
       "       1, 0, 1, 1, 0, 0, 0, 1, 0, 1, 0, 1, 1, 1, 0, 1, 1, 0, 0, 1, 0, 0,\n",
       "       0, 0, 1, 0, 0, 0, 1, 0, 1, 0, 1, 1, 0, 1, 0, 0, 0, 0, 1, 1, 0, 0,\n",
       "       1, 1, 1, 0, 1, 1, 1, 1, 1, 0, 0, 1, 1, 0, 1, 1, 0, 0, 1, 0, 1, 1,\n",
       "       1, 1, 0, 1, 1, 1, 1, 1, 0, 1, 0, 0, 0, 0, 0, 0, 0, 0, 0, 0, 0, 0,\n",
       "       0, 0, 1, 1, 1, 1, 1, 1, 0, 1, 0, 1, 1, 0, 1, 1, 0, 1, 0, 0, 1, 1,\n",
       "       1, 1, 1, 1, 1, 1, 1, 1, 1, 1, 1, 0, 1, 1, 0, 1, 0, 1, 1, 1, 1, 1,\n",
       "       1, 1, 1, 1, 1, 1, 1, 1, 1, 0, 1, 1, 1, 0, 1, 0, 1, 1, 1, 1, 0, 0,\n",
       "       0, 1, 1, 1, 1, 0, 1, 0, 1, 0, 1, 1, 1, 0, 1, 1, 1, 1, 1, 1, 1, 0,\n",
       "       0, 0, 1, 1, 1, 1, 1, 1, 1, 1, 1, 1, 1, 0, 0, 1, 0, 0, 0, 1, 0, 0,\n",
       "       1, 1, 1, 1, 1, 0, 1, 1, 1, 1, 1, 0, 1, 1, 1, 0, 1, 1, 0, 0, 1, 1,\n",
       "       1, 1, 1, 1, 0, 1, 1, 1, 1, 1, 1, 1, 0, 1, 1, 1, 1, 1, 0, 1, 1, 0,\n",
       "       1, 1, 1, 1, 1, 1, 1, 1, 1, 1, 1, 1, 0, 1, 0, 0, 1, 0, 1, 1, 1, 1,\n",
       "       1, 0, 1, 1, 0, 1, 0, 1, 1, 0, 1, 0, 1, 1, 1, 1, 1, 1, 1, 1, 0, 0,\n",
       "       1, 1, 1, 1, 1, 1, 0, 1, 1, 1, 1, 1, 1, 1, 1, 1, 1, 0, 1, 1, 1, 1,\n",
       "       1, 1, 1, 0, 1, 0, 1, 1, 0, 1, 1, 1, 1, 1, 0, 0, 1, 0, 1, 0, 1, 1,\n",
       "       1, 1, 1, 0, 1, 1, 0, 1, 0, 1, 0, 0, 1, 1, 1, 0, 1, 1, 1, 1, 1, 1,\n",
       "       1, 1, 1, 1, 1, 0, 1, 0, 0, 1, 1, 1, 1, 1, 1, 1, 1, 1, 1, 1, 1, 1,\n",
       "       1, 1, 1, 1, 1, 1, 1, 1, 1, 1, 1, 1, 0, 0, 0, 0, 0, 0, 1])"
      ]
     },
     "execution_count": 19,
     "metadata": {},
     "output_type": "execute_result"
    }
   ],
   "source": [
    "y"
   ]
  },
  {
   "cell_type": "code",
   "execution_count": 20,
   "id": "881ced51",
   "metadata": {},
   "outputs": [],
   "source": [
    "@hd.run\n",
    "def train(class_hvs, hv_matrix, labels, N):\n",
    "    for idx in range(N): # Iterate through each image\n",
    "        class_hvs[labels[idx]] += hv_matrix[idx]\n",
    "    return class_hvs"
   ]
  },
  {
   "cell_type": "code",
   "execution_count": 21,
   "id": "7aad7dcb",
   "metadata": {},
   "outputs": [],
   "source": [
    "class_hvs = hd.hypermatrix(n_classes)"
   ]
  },
  {
   "cell_type": "code",
   "execution_count": 22,
   "id": "a1ed0715",
   "metadata": {},
   "outputs": [
    {
     "data": {
      "text/plain": [
       "(2, 10000)"
      ]
     },
     "execution_count": 22,
     "metadata": {},
     "output_type": "execute_result"
    }
   ],
   "source": [
    "class_hvs.to_numpy().shape"
   ]
  },
  {
   "cell_type": "code",
   "execution_count": 23,
   "id": "7b107aff",
   "metadata": {},
   "outputs": [
    {
     "data": {
      "text/plain": [
       "array([0, 0, 1, 1, 0, 0, 1, 1, 1, 0, 0, 1, 1, 0, 0, 1, 0, 1, 1, 1, 0, 1,\n",
       "       1, 0, 1, 0, 0, 0, 0, 0, 0, 1, 1, 1, 1, 1, 1, 1, 1, 0, 0, 1, 0, 0,\n",
       "       1, 0, 0, 1, 1, 1, 0, 1, 1, 0, 1, 1, 0, 1, 0, 1, 1, 1, 0, 1, 1, 1,\n",
       "       0, 1, 0, 0, 1, 1, 0, 0, 0, 1, 1, 1, 0, 1, 1, 1, 0, 1, 0, 1, 1, 0,\n",
       "       1, 0, 0, 0, 1, 0, 1, 1, 1, 1, 0, 0, 1, 1, 1, 1, 1, 1, 1, 0, 1, 1,\n",
       "       1, 1, 0, 1, 1, 1, 1, 1, 1, 0, 1, 1, 1, 1, 1, 1, 0, 0, 0, 1, 1, 0,\n",
       "       1, 0, 1, 1, 1, 1, 0, 1, 1, 0, 1, 1, 1, 0, 1, 0, 0, 1, 1, 1, 0, 1,\n",
       "       1, 1, 1, 0, 1, 1, 1, 1, 1, 0, 1, 0, 0, 1, 1, 0, 1, 1, 1, 1, 1, 1,\n",
       "       1, 0, 0, 0, 1, 1, 0, 1, 1, 0, 1, 0, 1, 0, 1, 0, 1, 1, 0, 1, 1, 1,\n",
       "       0, 1, 0, 1, 0, 1, 0, 1, 1, 0, 1, 1, 1, 1, 0, 1, 1, 1, 0, 1, 1, 0,\n",
       "       1, 1, 0, 1, 1, 1, 1, 1, 1, 1, 0, 1, 1, 1, 0, 1, 0, 1, 1, 1, 0, 1,\n",
       "       0, 0, 1, 1, 0, 1, 0, 0, 0, 1, 1, 1, 0, 1, 1, 0, 1, 0, 1, 1, 1, 0,\n",
       "       1, 0, 1, 1, 0, 0, 1, 1, 0, 1, 0, 0, 1, 0, 0, 1, 1, 0, 0, 0, 1, 1,\n",
       "       1, 1, 0, 1, 0, 0, 0, 0, 1, 1, 1, 1, 1, 1, 1, 1, 0, 0, 1, 1, 0, 1,\n",
       "       1, 1, 1, 1, 0, 1, 1, 0, 0, 1, 0, 1, 0, 1, 1, 1, 1, 1, 1, 0, 1, 1,\n",
       "       0, 1, 1, 1, 1, 1, 1, 0, 1, 1, 0, 1, 0, 0, 0, 1, 0, 1, 1, 0, 0, 0,\n",
       "       1, 1, 1, 1, 1, 1, 1, 0, 1, 1, 1, 0, 1, 1, 0, 0, 1, 0, 1, 0, 0, 1,\n",
       "       1, 0, 1, 0, 0, 1, 0, 0, 1, 1, 0, 1, 0, 1, 1, 0, 1, 1, 0, 0, 0, 1,\n",
       "       1, 1, 0, 0, 1, 0, 0, 1, 1, 1, 0, 1, 0, 0, 0, 0, 1, 1, 0, 1, 1, 0,\n",
       "       0, 0, 0, 0, 0, 1, 1, 1, 1, 1, 1, 1, 0, 0, 0, 0, 1, 1, 1, 1, 0, 1,\n",
       "       0, 1, 1, 1, 1, 1, 0, 0, 0, 1, 1, 0, 1, 1, 0, 0, 0, 0, 1, 1, 0, 0,\n",
       "       1, 1, 1, 0, 0, 0, 1, 1, 0, 1, 1, 1, 1, 0, 1, 1, 1, 1, 1, 1, 1, 1,\n",
       "       1, 0, 1, 1, 1, 1, 1, 1, 0, 1, 1, 0, 1, 1, 0, 0, 0, 1, 0, 0, 1, 0,\n",
       "       1, 1, 1, 1, 0, 1])"
      ]
     },
     "execution_count": 23,
     "metadata": {},
     "output_type": "execute_result"
    }
   ],
   "source": [
    "y_train"
   ]
  },
  {
   "cell_type": "code",
   "execution_count": 24,
   "id": "b0065cae",
   "metadata": {
    "scrolled": true
   },
   "outputs": [
    {
     "data": {
      "text/plain": [
       "(512, 10000)"
      ]
     },
     "execution_count": 24,
     "metadata": {},
     "output_type": "execute_result"
    }
   ],
   "source": [
    "hv_matrix.to_numpy().shape"
   ]
  },
  {
   "cell_type": "code",
   "execution_count": 25,
   "id": "f457d779",
   "metadata": {},
   "outputs": [],
   "source": [
    "y_train = np.array(y_train, dtype = np.int32)\n",
    "y_test = np.array(y_test, dtype = np.int32)"
   ]
  },
  {
   "cell_type": "markdown",
   "id": "423b3cac",
   "metadata": {},
   "source": [
    "# One Shot Learning"
   ]
  },
  {
   "cell_type": "code",
   "execution_count": 26,
   "id": "309e1cb3",
   "metadata": {},
   "outputs": [],
   "source": [
    "@hd.run\n",
    "def one_shot_train(class_hvs, hv_matrix, labels, N):\n",
    "    for idx in range(N): # Iterate through each image\n",
    "        class_hvs[labels[idx]] += hv_matrix[idx]\n",
    "    return class_hvs"
   ]
  },
  {
   "cell_type": "code",
   "execution_count": 27,
   "id": "e6f50aba",
   "metadata": {},
   "outputs": [
    {
     "name": "stdout",
     "output_type": "stream",
     "text": [
      "\u001b[91m[ERROR]\tjit.date_type_mutator\t\n",
      "<class '_ast.Module'> : \n",
      "  <class '_ast.For'> :  <RPT: N>\n",
      "    <class '_ast.Assign'> :  [__ARG__class_hvs : __ARG__class_hvs + __ARG__hv_matrix]\n",
      "\n",
      "\u001b[0m{'idx': <class 'int'>, 'N': <class 'int'>, 'class_hvs': 'hypermat_type', 'labels': 'np_int_array_type', 'hv_matrix': 'hypermat_type', '__ARG__hv_matrix': 'float*', '__ARG__class_hvs': 'float*', '__ARG__labels': 'int*', '__ARG__labels__STRIDE__': 'const int', 'hv_matrix_idx_ead026f6': <class 'float'>, 'labels_idx_b9c77ce4': <class 'int'>, 'class_hvs_idx_labels_df62a0b1': <class 'float'>}\n",
      "17 57 29.82456140350877\n"
     ]
    }
   ],
   "source": [
    "\n",
    "class_hvs = hd.hypermatrix(n_classes)\n",
    "\n",
    "class_hvs = one_shot_train(class_hvs, hv_matrix, y_train, N)\n",
    "\n",
    "validate(y_test, hd.search(class_hvs, hv_matrix_test).to_numpy())\n"
   ]
  },
  {
   "cell_type": "code",
   "execution_count": 28,
   "id": "26240c58",
   "metadata": {},
   "outputs": [],
   "source": [
    "@hd.run\n",
    "def single_pass(hv_matrix, labels, N, n_classes):\n",
    "    class_hvss = hd.hypermatrix(n_classes)\n",
    "\n",
    "    for idx in range(N):\n",
    "        class_hvss[labels[idx]] += hv_matrix[idx]\n",
    "\n",
    "    return class_hvss"
   ]
  },
  {
   "cell_type": "code",
   "execution_count": 29,
   "id": "8663e247",
   "metadata": {
    "scrolled": true
   },
   "outputs": [
    {
     "name": "stdout",
     "output_type": "stream",
     "text": [
      "\u001b[91m[ERROR]\tjit.date_type_mutator\t\n",
      "<class '_ast.Module'> : \n",
      "  <class '_ast.For'> :  <RPT: N>\n",
      "    <class '_ast.Assign'> :  [__ARG__class_hvss : __ARG__class_hvss + __ARG__hv_matrix]\n",
      "\n",
      "\u001b[0m{'idx': <class 'int'>, 'N': <class 'int'>, 'class_hvss': 'hypermat_type', 'labels': 'np_int_array_type', 'hv_matrix': 'hypermat_type', '__ARG__class_hvss': 'float*', '__ARG__hv_matrix': 'float*', '__ARG__labels': 'int*', '__ARG__labels__STRIDE__': 'const int', 'hv_matrix_idx_ead026f6': <class 'float'>, 'labels_idx_b9c77ce4': <class 'int'>, 'class_hvss_idx_labels_1b9b16ff': <class 'float'>}\n"
     ]
    }
   ],
   "source": [
    "# with hd.utils.timing(\"Single pass\"):\n",
    "class_hvss = single_pass(hv_matrix, y_train, N, n_classes)\n",
    "#     class_hvs.debug_print_values()"
   ]
  },
  {
   "cell_type": "code",
   "execution_count": 30,
   "id": "cf4ca298",
   "metadata": {},
   "outputs": [],
   "source": [
    "def validate(labels, pred_labels):\n",
    "    n_correct = (pred_labels == labels).sum()\n",
    "    n_labels = len(labels)\n",
    "    print(n_correct, n_labels, n_correct / float(n_labels) * 100)\n"
   ]
  },
  {
   "cell_type": "code",
   "execution_count": 31,
   "id": "ca314b63",
   "metadata": {},
   "outputs": [],
   "source": [
    "@hd.run\n",
    "def retrain(class_hvss, hv_matrix, labels, N, n_classes):\n",
    "    search_results = hd.search(class_hvss, hv_matrix)\n",
    "\n",
    "    for idx in range(N):\n",
    "        if search_results[idx] != labels[idx]:\n",
    "            class_hvss[labels[idx]] += hv_matrix[idx]\n",
    "            class_hvss[search_results[idx]] -= hv_matrix[idx]\n",
    "\n",
    "    return class_hvss\n"
   ]
  },
  {
   "cell_type": "code",
   "execution_count": 32,
   "id": "ef7a68eb",
   "metadata": {},
   "outputs": [
    {
     "name": "stdout",
     "output_type": "stream",
     "text": [
      "\u001b[91m[ERROR]\tjit.date_type_mutator\t\n",
      "<class '_ast.Module'> : \n",
      "  <class '_ast.For'> :  <RPT: N>\n",
      "    <class '_ast.Assign'> :  [hv_matrix_idx_ead026f6 : __ARG__hv_matrix]\n",
      "    <class '_ast.If'> : \n",
      "      then : \n",
      "        <class '_ast.Assign'> :  [__ARG__class_hvss : __ARG__class_hvss + hv_matrix_idx_ead026f6]\n",
      "        <class '_ast.Assign'> :  [__ARG__class_hvss : __ARG__class_hvss + hv_matrix_idx_ead026f6]\n",
      "      else : \n",
      "\n",
      "\u001b[0m{'idx': <class 'int'>, 'N': <class 'int'>, 'search_results': 'np_int_array_type', 'labels': 'np_int_array_type', 'class_hvss': 'hypermat_type', 'hv_matrix': 'hypermat_type', '__ARG__search_results': 'int*', '__ARG__search_results__STRIDE__': 'const int', '__ARG__class_hvss': 'float*', '__ARG__hv_matrix': 'float*', '__ARG__labels': 'int*', '__ARG__labels__STRIDE__': 'const int', 'search_results_idx_b85d35f6': <class 'int'>, 'labels_idx_b9c77ce4': <class 'int'>, 'hv_matrix_idx_ead026f6': <class 'float'>, 'class_hvss_idx_labels_1b9b16ff': <class 'float'>, 'class_hvss_idx_search_results_855edd5c': <class 'float'>}\n",
      "Retrain itereation: 0\t0.4933757781982422\n",
      "40 57 70.17543859649122\n",
      "Retrain itereation: 1\t0.009951353073120117\n",
      "40 57 70.17543859649122\n",
      "Retrain itereation: 2\t0.007968425750732422\n",
      "17 57 29.82456140350877\n",
      "Retrain itereation: 3\t0.008146047592163086\n",
      "40 57 70.17543859649122\n",
      "Retrain itereation: 4\t0.007739543914794922\n",
      "17 57 29.82456140350877\n",
      "Retrain itereation: 5\t0.007337331771850586\n",
      "40 57 70.17543859649122\n",
      "Retrain itereation: 6\t0.007459163665771484\n",
      "40 57 70.17543859649122\n",
      "Retrain itereation: 7\t0.007989883422851562\n",
      "40 57 70.17543859649122\n",
      "Retrain itereation: 8\t0.0074045658111572266\n",
      "17 57 29.82456140350877\n",
      "Retrain itereation: 9\t0.0075397491455078125\n",
      "17 57 29.82456140350877\n",
      "Retrain itereation: 10\t0.007750511169433594\n",
      "40 57 70.17543859649122\n",
      "Retrain itereation: 11\t0.007524728775024414\n",
      "40 57 70.17543859649122\n",
      "Retrain itereation: 12\t0.007273674011230469\n",
      "17 57 29.82456140350877\n",
      "Retrain itereation: 13\t0.007663249969482422\n",
      "40 57 70.17543859649122\n",
      "Retrain itereation: 14\t0.0075836181640625\n",
      "40 57 70.17543859649122\n",
      "Retrain itereation: 15\t0.0076351165771484375\n",
      "17 57 29.82456140350877\n",
      "Retrain itereation: 16\t0.007510662078857422\n",
      "40 57 70.17543859649122\n",
      "Retrain itereation: 17\t0.00772404670715332\n",
      "40 57 70.17543859649122\n",
      "Retrain itereation: 18\t0.007561922073364258\n",
      "17 57 29.82456140350877\n",
      "Retrain itereation: 19\t0.007441997528076172\n",
      "40 57 70.17543859649122\n",
      "Retrain itereation: 20\t0.007395029067993164\n",
      "40 57 70.17543859649122\n",
      "Retrain itereation: 21\t0.007503986358642578\n",
      "17 57 29.82456140350877\n",
      "Retrain itereation: 22\t0.007852554321289062\n",
      "40 57 70.17543859649122\n",
      "Retrain itereation: 23\t0.007403135299682617\n",
      "17 57 29.82456140350877\n",
      "Retrain itereation: 24\t0.007581472396850586\n",
      "40 57 70.17543859649122\n",
      "Retrain itereation: 25\t0.00730586051940918\n",
      "40 57 70.17543859649122\n",
      "Retrain itereation: 26\t0.0077342987060546875\n",
      "17 57 29.82456140350877\n",
      "Retrain itereation: 27\t0.0076291561126708984\n",
      "40 57 70.17543859649122\n",
      "Retrain itereation: 28\t0.0077381134033203125\n",
      "17 57 29.82456140350877\n",
      "Retrain itereation: 29\t0.00748753547668457\n",
      "40 57 70.17543859649122\n",
      "Retrain itereation: 30\t0.007222890853881836\n",
      "40 57 70.17543859649122\n",
      "Retrain itereation: 31\t0.007327556610107422\n",
      "17 57 29.82456140350877\n",
      "Retrain itereation: 32\t0.007441043853759766\n",
      "40 57 70.17543859649122\n",
      "Retrain itereation: 33\t0.007504463195800781\n",
      "40 57 70.17543859649122\n",
      "Retrain itereation: 34\t0.008234739303588867\n",
      "17 57 29.82456140350877\n",
      "Retrain itereation: 35\t0.0076024532318115234\n",
      "40 57 70.17543859649122\n",
      "Retrain itereation: 36\t0.008178472518920898\n",
      "17 57 29.82456140350877\n",
      "Retrain itereation: 37\t0.007401466369628906\n",
      "40 57 70.17543859649122\n",
      "Retrain itereation: 38\t0.007143974304199219\n",
      "40 57 70.17543859649122\n",
      "Retrain itereation: 39\t0.0071904659271240234\n",
      "17 57 29.82456140350877\n",
      "Retrain itereation: 40\t0.006968021392822266\n",
      "40 57 70.17543859649122\n",
      "Retrain itereation: 41\t0.007097005844116211\n",
      "40 57 70.17543859649122\n",
      "Retrain itereation: 42\t0.007141590118408203\n",
      "17 57 29.82456140350877\n",
      "Retrain itereation: 43\t0.00701904296875\n",
      "40 57 70.17543859649122\n",
      "Retrain itereation: 44\t0.006918430328369141\n",
      "40 57 70.17543859649122\n",
      "Retrain itereation: 45\t0.007130622863769531\n",
      "17 57 29.82456140350877\n",
      "Retrain itereation: 46\t0.007029533386230469\n",
      "40 57 70.17543859649122\n",
      "Retrain itereation: 47\t0.007252931594848633\n",
      "17 57 29.82456140350877\n",
      "Retrain itereation: 48\t0.007416725158691406\n",
      "40 57 70.17543859649122\n",
      "Retrain itereation: 49\t0.00730443000793457\n",
      "40 57 70.17543859649122\n",
      "Retrain itereation: 50\t0.0071027278900146484\n",
      "17 57 29.82456140350877\n",
      "Retrain itereation: 51\t0.007269859313964844\n",
      "40 57 70.17543859649122\n",
      "Retrain itereation: 52\t0.006703615188598633\n",
      "17 57 29.82456140350877\n",
      "Retrain itereation: 53\t0.007141590118408203\n",
      "40 57 70.17543859649122\n",
      "Retrain itereation: 54\t0.0072977542877197266\n",
      "40 57 70.17543859649122\n",
      "Retrain itereation: 55\t0.006728410720825195\n",
      "40 57 70.17543859649122\n",
      "Retrain itereation: 56\t0.006786823272705078\n",
      "17 57 29.82456140350877\n",
      "Retrain itereation: 57\t0.006948709487915039\n",
      "40 57 70.17543859649122\n",
      "Retrain itereation: 58\t0.00670170783996582\n",
      "17 57 29.82456140350877\n",
      "Retrain itereation: 59\t0.007063627243041992\n",
      "40 57 70.17543859649122\n",
      "Retrain itereation: 60\t0.006976127624511719\n",
      "40 57 70.17543859649122\n",
      "Retrain itereation: 61\t0.00688934326171875\n",
      "17 57 29.82456140350877\n",
      "Retrain itereation: 62\t0.007473468780517578\n",
      "40 57 70.17543859649122\n",
      "Retrain itereation: 63\t0.006922245025634766\n",
      "17 57 29.82456140350877\n",
      "Retrain itereation: 64\t0.006880760192871094\n",
      "40 57 70.17543859649122\n",
      "Retrain itereation: 65\t0.00713658332824707\n",
      "40 57 70.17543859649122\n",
      "Retrain itereation: 66\t0.007203102111816406\n",
      "17 57 29.82456140350877\n",
      "Retrain itereation: 67\t0.007560253143310547\n",
      "40 57 70.17543859649122\n",
      "Retrain itereation: 68\t0.0072858333587646484\n",
      "17 57 29.82456140350877\n",
      "Retrain itereation: 69\t0.00727391242980957\n",
      "40 57 70.17543859649122\n",
      "Retrain itereation: 70\t0.006760120391845703\n",
      "40 57 70.17543859649122\n",
      "Retrain itereation: 71\t0.007169961929321289\n",
      "17 57 29.82456140350877\n",
      "Retrain itereation: 72\t0.0073146820068359375\n",
      "40 57 70.17543859649122\n",
      "Retrain itereation: 73\t0.006868600845336914\n",
      "40 57 70.17543859649122\n",
      "Retrain itereation: 74\t0.007349729537963867\n",
      "17 57 29.82456140350877\n",
      "Retrain itereation: 75\t0.00701141357421875\n",
      "40 57 70.17543859649122\n",
      "Retrain itereation: 76\t0.0067291259765625\n",
      "17 57 29.82456140350877\n",
      "Retrain itereation: 77\t0.006946086883544922\n",
      "40 57 70.17543859649122\n",
      "Retrain itereation: 78\t0.006927967071533203\n",
      "40 57 70.17543859649122\n",
      "Retrain itereation: 79\t0.0071527957916259766\n",
      "17 57 29.82456140350877\n",
      "Retrain itereation: 80\t0.006910085678100586\n",
      "40 57 70.17543859649122\n",
      "Retrain itereation: 81\t0.006995439529418945\n",
      "40 57 70.17543859649122\n",
      "Retrain itereation: 82\t0.007059335708618164\n",
      "17 57 29.82456140350877\n",
      "Retrain itereation: 83\t0.00711822509765625\n",
      "40 57 70.17543859649122\n",
      "Retrain itereation: 84\t0.006943941116333008\n",
      "40 57 70.17543859649122\n",
      "Retrain itereation: 85\t0.006766080856323242\n",
      "17 57 29.82456140350877\n",
      "Retrain itereation: 86\t0.006851673126220703\n",
      "40 57 70.17543859649122\n",
      "Retrain itereation: 87\t0.0069239139556884766\n",
      "17 57 29.82456140350877\n",
      "Retrain itereation: 88\t0.006884098052978516\n",
      "40 57 70.17543859649122\n",
      "Retrain itereation: 89\t0.006731748580932617\n",
      "40 57 70.17543859649122\n",
      "Retrain itereation: 90\t0.006830930709838867\n",
      "17 57 29.82456140350877\n",
      "Retrain itereation: 91\t0.0068187713623046875\n",
      "40 57 70.17543859649122\n",
      "Retrain itereation: 92\t0.006852865219116211\n",
      "40 57 70.17543859649122\n",
      "Retrain itereation: 93\t0.006684541702270508\n",
      "17 57 29.82456140350877\n",
      "Retrain itereation: 94\t0.0067555904388427734\n",
      "40 57 70.17543859649122\n",
      "Retrain itereation: 95\t0.00677800178527832\n",
      "17 57 29.82456140350877\n",
      "Retrain itereation: 96\t0.006787538528442383\n",
      "40 57 70.17543859649122\n",
      "Retrain itereation: 97\t0.006861448287963867\n",
      "40 57 70.17543859649122\n",
      "Retrain itereation: 98\t0.006834983825683594\n",
      "17 57 29.82456140350877\n",
      "Retrain itereation: 99\t0.0069501399993896484\n",
      "40 57 70.17543859649122\n"
     ]
    }
   ],
   "source": [
    "RETRAIN_ITERATIONS = 100\n",
    "SHOW_STEP_RESULT = True\n",
    "for it in range(RETRAIN_ITERATIONS):\n",
    "    with hd.utils.timing(\"Retrain itereation: %d\" % it):\n",
    "        class_hvss = retrain(class_hvss, hv_matrix, y_train, N, n_classes)\n",
    "\n",
    "    if SHOW_STEP_RESULT and y_test is not None:\n",
    "        validate(y_test, hd.search(class_hvss, hv_matrix_test).to_numpy())"
   ]
  },
  {
   "cell_type": "code",
   "execution_count": 33,
   "id": "11f21b95",
   "metadata": {},
   "outputs": [
    {
     "name": "stdout",
     "output_type": "stream",
     "text": [
      "317 512 61.9140625\n"
     ]
    }
   ],
   "source": [
    "validate(y_train, hd.search(class_hvss, hv_matrix).to_numpy())"
   ]
  },
  {
   "cell_type": "code",
   "execution_count": 34,
   "id": "0f89fe9f",
   "metadata": {},
   "outputs": [
    {
     "name": "stdout",
     "output_type": "stream",
     "text": [
      "17 57 29.82456140350877\n"
     ]
    }
   ],
   "source": [
    "validate(y_test, hd.search(class_hvs, hv_matrix_test).to_numpy())"
   ]
  },
  {
   "cell_type": "code",
   "execution_count": null,
   "id": "d0f03ddb",
   "metadata": {},
   "outputs": [],
   "source": []
  }
 ],
 "metadata": {
  "kernelspec": {
   "display_name": "Python 3 (ipykernel)",
   "language": "python",
   "name": "python3"
  },
  "language_info": {
   "codemirror_mode": {
    "name": "ipython",
    "version": 3
   },
   "file_extension": ".py",
   "mimetype": "text/x-python",
   "name": "python",
   "nbconvert_exporter": "python",
   "pygments_lexer": "ipython3",
   "version": "3.8.0"
  }
 },
 "nbformat": 4,
 "nbformat_minor": 5
}
