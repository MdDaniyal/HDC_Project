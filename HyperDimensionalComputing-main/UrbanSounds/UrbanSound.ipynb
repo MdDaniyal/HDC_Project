{
 "cells": [
  {
   "cell_type": "code",
   "execution_count": 11,
   "id": "569b2bf5",
   "metadata": {},
   "outputs": [],
   "source": [
    "import os\n",
    "import pandas as pd\n",
    "\n",
    "import torch\n",
    "import torchaudio\n",
    "from torch.utils.data import DataLoader\n",
    "from torch.utils.data import Dataset\n",
    "from torchvision import datasets\n",
    "from torchvision.transforms import ToTensor\n",
    "import numpy as np\n",
    "import openhd as hd\n",
    "from torch import nn"
   ]
  },
  {
   "cell_type": "code",
   "execution_count": 12,
   "id": "8d0ced91",
   "metadata": {},
   "outputs": [],
   "source": [
    "!rm -rf ~/.openhd"
   ]
  },
  {
   "cell_type": "code",
   "execution_count": 13,
   "id": "a39b2c14",
   "metadata": {},
   "outputs": [],
   "source": [
    "class UrbanSoundDataset(Dataset):\n",
    "\n",
    "    def __init__(self, annotations_file, audio_dir,transformation,target_sample_rate,num_samples,device):\n",
    "        self.annotations = pd.read_csv(annotations_file)\n",
    "        self.audio_dir = audio_dir\n",
    "        self.device = device\n",
    "        self.transformation = transformation.to(self.device)\n",
    "        self.target_sample_rate = target_sample_rate\n",
    "        self.num_samples = num_samples\n",
    "\n",
    "    def __len__(self):\n",
    "        return len(self.annotations)\n",
    "\n",
    "    def __getitem__(self, index):\n",
    "        audio_sample_path = self._get_audio_sample_path(index)\n",
    "        label = self._get_audio_sample_label(index)\n",
    "        signal, sr = torchaudio.load(audio_sample_path)\n",
    "        signal = signal.to(self.device)\n",
    "        # signal -> (num_channels,samples) -> (2,16000) -> (1,16000)\n",
    "        signal = self._resample_if_necessary(signal,torch.scalar_tensor(sr).cuda())\n",
    "        signal = self._mix_down_if_necessary(signal)\n",
    "        signal = self._cut_if_necessary(signal)\n",
    "        signal = self._right_pad_if_necessary(signal)\n",
    "        signal = self.transformation(signal)\n",
    "        signal = signal.reshape((signal.shape[1]* signal.shape[2]))\n",
    "        return signal, label\n",
    "    \n",
    "    def _cut_if_necessary(self, signal):\n",
    "        # signal -> Tensor -> (1, num_samples) -> (1,50000) -> (1,22050)\n",
    "        if signal.shape[1] > self.num_samples:\n",
    "            signal = signal[:, :self.num_samples]\n",
    "        return signal\n",
    "    \n",
    "    def _right_pad_if_necessary(self, signal):\n",
    "        length_signal = signal.shape[1]\n",
    "        if length_signal < self.num_samples:\n",
    "            # [1,1,1] -> [1,1,1,0,0]\n",
    "            num_missing_samples = self.num_samples - length_signal\n",
    "            last_dim_padding = (0, num_missing_samples)\n",
    "            signal = torch.nn.functional.pad(signal, last_dim_padding)\n",
    "        return signal\n",
    "\n",
    "    def _resample_if_necessary(self, signal, sr):\n",
    "        if sr != self.target_sample_rate:\n",
    "            resampler = torchaudio.transforms.Resample(sr, self.target_sample_rate)\n",
    "            signal = resampler(signal)\n",
    "        return signal\n",
    "    \n",
    "    def _mix_down_if_necessary(self, signal):\n",
    "        if signal.shape[0] > 1: # (2,16000)\n",
    "            signal = torch.mean(signal, dim=0, keepdim=True)\n",
    "        return signal\n",
    "\n",
    "\n",
    "    def _get_audio_sample_path(self, index):\n",
    "        fold = f\"fold{self.annotations.iloc[index, 5]}\"\n",
    "        path = os.path.join(self.audio_dir, fold, self.annotations.iloc[\n",
    "            index, 0])\n",
    "        return path\n",
    "\n",
    "    def _get_audio_sample_label(self, index):\n",
    "        return self.annotations.iloc[index, 6]\n"
   ]
  },
  {
   "cell_type": "code",
   "execution_count": 14,
   "id": "8553fc93",
   "metadata": {},
   "outputs": [],
   "source": [
    "ANNOTATIONS_FILE = './UrbanSound8K/metadata/UrbanSound8K.csv'\n",
    "AUDIO_DIR = './UrbanSound8K/audio'\n",
    "SAMPLE_RATE = 22050\n",
    "NUM_SAMPLES = 22050"
   ]
  },
  {
   "cell_type": "code",
   "execution_count": 15,
   "id": "e21cd084",
   "metadata": {},
   "outputs": [],
   "source": [
    "# if torch.cuda.is_available():\n",
    "#     device = 'cuda'\n",
    "# else:\n",
    "#     device = 'cpu'\n",
    "# print(f\"Using device {device}\")\n",
    "    \n",
    "device = 'cpu'"
   ]
  },
  {
   "cell_type": "code",
   "execution_count": 16,
   "id": "03ce7373",
   "metadata": {},
   "outputs": [],
   "source": [
    "mel_spectogram = torchaudio.transforms.MelSpectrogram(\n",
    "    sample_rate=SAMPLE_RATE,\n",
    "    n_fft=1024, #frame size\n",
    "    hop_length=512,\n",
    "    n_mels=64\n",
    ")"
   ]
  },
  {
   "cell_type": "code",
   "execution_count": 17,
   "id": "6244aa03",
   "metadata": {},
   "outputs": [],
   "source": [
    "usd = UrbanSoundDataset(ANNOTATIONS_FILE, AUDIO_DIR,mel_spectogram,SAMPLE_RATE,NUM_SAMPLES,'cpu')\n",
    "# print(f\"There are {len(usd)} samples in the dataset.\")\n",
    "# signal, label = usd[1]"
   ]
  },
  {
   "cell_type": "code",
   "execution_count": 18,
   "id": "681a1a6e",
   "metadata": {},
   "outputs": [],
   "source": [
    "def create_data_loader(train_data, batch_size):\n",
    "    train_dataloader = DataLoader(train_data, batch_size=batch_size)\n",
    "    return train_dataloader"
   ]
  },
  {
   "cell_type": "code",
   "execution_count": 43,
   "id": "6fb3962b",
   "metadata": {},
   "outputs": [],
   "source": [
    "train_dataloader = create_data_loader(usd, 128)"
   ]
  },
  {
   "cell_type": "code",
   "execution_count": 20,
   "id": "af1f68f4",
   "metadata": {},
   "outputs": [],
   "source": [
    "feature_matrix, labels= next(iter(train_dataloader))\n",
    "\n",
    "feature_matrix = np.array(feature_matrix, dtype = np.float32)\n",
    "\n",
    "feature_matrix = hd.utils.MatrixNormalizer().norm(feature_matrix)"
   ]
  },
  {
   "cell_type": "code",
   "execution_count": 23,
   "id": "ddd51491",
   "metadata": {},
   "outputs": [
    {
     "data": {
      "text/plain": [
       "array([[4.9270888e-08, 3.5907703e-09, 1.8523517e-08, ..., 0.0000000e+00,\n",
       "        0.0000000e+00, 0.0000000e+00],\n",
       "       [5.3964677e-06, 1.0328251e-05, 2.0932032e-06, ..., 4.5639084e-07,\n",
       "        3.8011061e-07, 6.2770800e-07],\n",
       "       [1.6010954e-06, 1.2469583e-06, 1.5438469e-05, ..., 6.5716314e-08,\n",
       "        1.8070310e-07, 5.2935985e-07],\n",
       "       ...,\n",
       "       [3.8166851e-05, 2.5097384e-06, 1.4485910e-05, ..., 3.0962062e-07,\n",
       "        1.2716031e-07, 1.3239450e-07],\n",
       "       [1.8354552e-04, 8.2021143e-05, 9.3732097e-06, ..., 3.3753000e-07,\n",
       "        1.9104503e-07, 2.4021546e-07],\n",
       "       [9.4476800e-06, 4.9112616e-05, 2.6623686e-05, ..., 4.2322233e-07,\n",
       "        2.4372088e-07, 1.3396875e-07]], dtype=float32)"
      ]
     },
     "execution_count": 23,
     "metadata": {},
     "output_type": "execute_result"
    }
   ],
   "source": [
    "feature_matrix"
   ]
  },
  {
   "cell_type": "code",
   "execution_count": 24,
   "id": "5017e5b3",
   "metadata": {},
   "outputs": [
    {
     "data": {
      "text/plain": [
       "(4096, 2816)"
      ]
     },
     "execution_count": 24,
     "metadata": {},
     "output_type": "execute_result"
    }
   ],
   "source": [
    "N = feature_matrix.shape[0]\n",
    "F = feature_matrix.shape[1]\n",
    "N, F"
   ]
  },
  {
   "cell_type": "code",
   "execution_count": 25,
   "id": "0ec051bb",
   "metadata": {},
   "outputs": [],
   "source": [
    "labels = np.array(labels, dtype = np.int32)"
   ]
  },
  {
   "cell_type": "code",
   "execution_count": 26,
   "id": "876bbda6",
   "metadata": {},
   "outputs": [],
   "source": [
    "n_classes = 10"
   ]
  },
  {
   "cell_type": "code",
   "execution_count": null,
   "id": "684aa71a",
   "metadata": {},
   "outputs": [],
   "source": []
  },
  {
   "cell_type": "code",
   "execution_count": 27,
   "id": "b3db1709",
   "metadata": {},
   "outputs": [],
   "source": [
    "Q = 10\n",
    "D = 10000\n",
    "hd.init(D=D, context=globals())\n"
   ]
  },
  {
   "cell_type": "code",
   "execution_count": 28,
   "id": "0df16eeb",
   "metadata": {},
   "outputs": [],
   "source": [
    "@hd.run\n",
    "def create_random_bases():\n",
    "    id_base = hd.draw_random_hypervector()\n",
    "    level_base = hd.draw_random_hypervector()\n",
    "    return id_base, level_base\n",
    "\n",
    "\n",
    "@hd.run\n",
    "def create_ids(F, id_base):\n",
    "    id_hvs = hd.hypermatrix(F) # np.zeros(F, N) (not the empty list) \n",
    "    for f in range(F):\n",
    "        id_hvs[f] = hd.permute(id_base, f)\n",
    "\n",
    "    return id_hvs\n",
    "\n",
    "@hd.run\n",
    "def create_levels(Q, level_base):\n",
    "    level_hvs = hd.hypermatrix(Q+1) # np.zeros((Q+1), N) (not the empty list)\n",
    "    for q in range(Q+1):\n",
    "        idx = int(q/float(Q) * D) / 2\n",
    "        level_hvs[q] = hd.flip(level_base, idx)\n",
    "        level_hvs[q] = hd.shuffle(level_hvs[q], 0)\n",
    "\n",
    "    return level_hvs"
   ]
  },
  {
   "cell_type": "code",
   "execution_count": 29,
   "id": "6c9f5473",
   "metadata": {},
   "outputs": [
    {
     "name": "stdout",
     "output_type": "stream",
     "text": [
      "\u001b[91m[ERROR]\tjit.date_type_mutator\t\n",
      "<class '_ast.Module'> : \n",
      "  <class '_ast.Assign'> :  [__ARG__id_base : __one__]\n",
      "  <class '_ast.Assign'> :  [__ARG__level_base : __one__]\n",
      "\n",
      "\u001b[0m{'id_base': 'hypervec_type', 'level_base': 'hypervec_type', '__ARG__id_base': 'float*', '__ARG__level_base': 'float*', 'id_base_22b19319': <class 'float'>, 'level_base_5541502b': <class 'float'>}\n",
      "\u001b[91m[ERROR]\tjit.date_type_mutator\t\n",
      "<class '_ast.Module'> : \n",
      "  <class '_ast.For'> :  <RPT: F>\n",
      "    <class '_ast.Assign'> :  [__ARG__id_hvs : __ARG__id_base]\n",
      "\n",
      "\u001b[0m{'f': <class 'int'>, 'F': <class 'int'>, 'id_hvs': 'hypermat_type', 'id_base': 'hypervec_type', '__ARG__id_base': 'float*', '__ARG__id_hvs': 'float*', 'id_base_f_16a56737': <class 'float'>, 'id_hvs_f_00177a23': <class 'float'>}\n",
      "\u001b[91m[ERROR]\tjit.date_type_mutator\t\n",
      "<class '_ast.Module'> : \n",
      "  <class '_ast.Assign'> :  [level_hvs_q_7acb546c : __ARG__level_base]\n",
      "  <class '_ast.Assign'> :  [__ARG__level_hvs : level_hvs_q_7acb546c]\n",
      "\n",
      "\u001b[0m{'idx': <class 'int'>, 'q': 'int', 'Q': <class 'int'>, 'D': <class 'int'>, 'level_hvs': 'hypermat_type', 'level_base': 'hypervec_type', '__ARG__level_base': 'float*', '__ARG__level_hvs': 'float*', 'level_base_5541502b': <class 'float'>, 'level_hvs_q_7acb546c': <class 'float'>}\n",
      "Base hypervectors\t1.0291411876678467\n"
     ]
    }
   ],
   "source": [
    "with hd.utils.timing(\"Base hypervectors\"):\n",
    "    id_base, level_base = create_random_bases()\n",
    "    id_hvs = create_ids(F, id_base)\n",
    "    level_hvs = create_levels(Q, level_base)\n"
   ]
  },
  {
   "cell_type": "code",
   "execution_count": 30,
   "id": "3a196f89",
   "metadata": {},
   "outputs": [],
   "source": [
    "def preprocesser(\n",
    "        org_feature, cnv_feature, # Predefined argument (single feature)\n",
    "        Q, level_hvs, id_hvs): # arguments passed by args\n",
    "    cnv_feature = int(org_feature * Q)\n",
    "\n",
    "\n",
    "def encoder(\n",
    "        input_features, output_hypervector, # Predefined arguments\n",
    "        Q, level_hvs, id_hvs): # arguments passed by args\n",
    "    for f in range(F):\n",
    "        output_hypervector += level_hvs[input_features[f]] * id_hvs[f]"
   ]
  },
  {
   "cell_type": "code",
   "execution_count": 31,
   "id": "22d3c2f1",
   "metadata": {},
   "outputs": [
    {
     "name": "stdout",
     "output_type": "stream",
     "text": [
      "\u001b[91m[ERROR]\tjit.date_type_mutator\t\n",
      "<class '_ast.Module'> : \n",
      "  <class '_ast.Assign'> :  [output_hypervector___n_____base_n___2964e176 : __ARG__output_hypervector]\n",
      "  <class '_ast.For'> :  <RPT: F>\n",
      "    <class '_ast.Assign'> :  [output_hypervector___n_____base_n___2964e176 : __ARG__id_hvs*__ARG__level_hvs + output_hypervector___n_____base_n___2964e176]\n",
      "  <class '_ast.Assign'> :  [__ARG__output_hypervector : output_hypervector___n_____base_n___2964e176]\n",
      "\n",
      "\u001b[0m{'__n__': <class 'int'>, '__blockIdx_y__': <class 'int'>, '__base_n__': 'int', '__N__': <class 'int'>, '__blockDim_x__': <class 'int'>, '__F__': <class 'int'>, '__threadIdx_x__': <class 'int'>, 'F_PER_THREAD': <class 'int'>, 'sample_idx_in_stream': <class 'int'>, '__stream__': 'int', '__M__': <class 'int'>, '__f__': <class 'int'>, '__f_idx__': <class 'int'>, 'org_feature': <class 'float'>, 'input_features': 'np_float_array_type', 'cnv_feature': <class 'int'>, 'Q': <class 'int'>, '__shared_features__': 'np_float_array_type', '__d__': <class 'int'>, '__blockIdx_x__': <class 'int'>, '__D__': <class 'int'>, 'f': <class 'int'>, 'F': <class 'int'>, 'output_hypervector': 'hypermat_type', 'level_hvs': 'hypermat_type', 'id_hvs': 'hypermat_type', '__ARG__output_hypervector': 'float*', '__ARG__level_hvs': 'float*', '__ARG__id_hvs': 'float*', '__shared_features___f_fb10dfcf': <class 'float'>, 'level_hvs_f___shared_features___7add4eda': <class 'float'>, 'id_hvs_f_00177a23': <class 'float'>, 'output_hypervector___n_____base_n___2964e176': <class 'float'>, 'input_features_sample_idx_in_stream___f_idx___dc384242': <class 'float'>, '__shared_features_____f_idx___112c42af': <class 'float'>}\n",
      "Encode training\t1.6808514595031738\n"
     ]
    }
   ],
   "source": [
    "with hd.utils.timing(\"Encode training\"):\n",
    "    hv_matrix = hd.encode(\n",
    "            encoder, extra_args = (Q, level_hvs, id_hvs),\n",
    "            feature_matrix = feature_matrix,\n",
    "            preprocess_function = preprocesser # optional\n",
    "            )"
   ]
  },
  {
   "cell_type": "code",
   "execution_count": 32,
   "id": "7fd17e93",
   "metadata": {},
   "outputs": [],
   "source": [
    "@hd.run\n",
    "def single_pass(hv_matrix, labels, N, n_classes):\n",
    "    class_hvs = hd.hypermatrix(n_classes)\n",
    "\n",
    "    for idx in range(N):\n",
    "        class_hvs[labels[idx]] += hv_matrix[idx]\n",
    "\n",
    "    return class_hvs"
   ]
  },
  {
   "cell_type": "code",
   "execution_count": 40,
   "id": "821911a5",
   "metadata": {},
   "outputs": [
    {
     "name": "stdout",
     "output_type": "stream",
     "text": [
      "Single pass\t0.011505365371704102\n"
     ]
    }
   ],
   "source": [
    "with hd.utils.timing(\"Single pass\"):\n",
    "    class_hvs = single_pass(hv_matrix, labels, N, n_classes)\n",
    "    class_hvs.to_numpy()"
   ]
  },
  {
   "cell_type": "code",
   "execution_count": 34,
   "id": "4ec17358",
   "metadata": {},
   "outputs": [],
   "source": [
    "def validate(labels, pred_labels):\n",
    "    n_correct = (pred_labels == labels).sum()\n",
    "    n_labels = len(labels)\n",
    "    print(n_correct, n_labels, n_correct / float(n_labels) * 100)\n"
   ]
  },
  {
   "cell_type": "markdown",
   "id": "201f8f0c",
   "metadata": {},
   "source": [
    "# Guided Training"
   ]
  },
  {
   "cell_type": "code",
   "execution_count": 35,
   "id": "7d6febe1",
   "metadata": {},
   "outputs": [],
   "source": [
    "@hd.run\n",
    "def retrain(class_hvs, hv_matrix, labels, N, n_classes):\n",
    "    search_results = hd.search(class_hvs, hv_matrix)\n",
    "\n",
    "    for idx in range(N):\n",
    "        if search_results[idx] != labels[idx]:\n",
    "            class_hvs[labels[idx]] += hv_matrix[idx]\n",
    "            class_hvs[search_results[idx]] -= hv_matrix[idx]\n",
    "\n",
    "    return class_hvs\n"
   ]
  },
  {
   "cell_type": "code",
   "execution_count": 36,
   "id": "24e15900",
   "metadata": {},
   "outputs": [
    {
     "name": "stdout",
     "output_type": "stream",
     "text": [
      "\u001b[91m[ERROR]\tjit.date_type_mutator\t\n",
      "<class '_ast.Module'> : \n",
      "  <class '_ast.For'> :  <RPT: N>\n",
      "    <class '_ast.Assign'> :  [hv_matrix_idx_ead026f6 : __ARG__hv_matrix]\n",
      "    <class '_ast.If'> : \n",
      "      then : \n",
      "        <class '_ast.Assign'> :  [__ARG__class_hvs : __ARG__class_hvs + hv_matrix_idx_ead026f6]\n",
      "        <class '_ast.Assign'> :  [__ARG__class_hvs : __ARG__class_hvs + hv_matrix_idx_ead026f6]\n",
      "      else : \n",
      "\n",
      "\u001b[0m{'idx': <class 'int'>, 'N': <class 'int'>, 'search_results': 'np_int_array_type', 'labels': 'np_int_array_type', 'class_hvs': 'hypermat_type', 'hv_matrix': 'hypermat_type', '__ARG__class_hvs': 'float*', '__ARG__hv_matrix': 'float*', '__ARG__labels': 'int*', '__ARG__labels__STRIDE__': 'const int', '__ARG__search_results': 'int*', '__ARG__search_results__STRIDE__': 'const int', 'search_results_idx_b85d35f6': <class 'int'>, 'labels_idx_b9c77ce4': <class 'int'>, 'hv_matrix_idx_ead026f6': <class 'float'>, 'class_hvs_idx_labels_df62a0b1': <class 'float'>, 'class_hvs_idx_search_results_572d847d': <class 'float'>}\n",
      "Retrain itereation: 0\t0.6830723285675049\n",
      "1152 4096 28.125\n",
      "Retrain itereation: 1\t0.07502222061157227\n",
      "1433 4096 34.9853515625\n",
      "Retrain itereation: 2\t0.07309675216674805\n",
      "1304 4096 31.8359375\n",
      "Retrain itereation: 3\t0.0731966495513916\n",
      "1079 4096 26.3427734375\n",
      "Retrain itereation: 4\t0.07387876510620117\n",
      "961 4096 23.4619140625\n",
      "Retrain itereation: 5\t0.07343745231628418\n",
      "1247 4096 30.4443359375\n",
      "Retrain itereation: 6\t0.07316756248474121\n",
      "1173 4096 28.6376953125\n",
      "Retrain itereation: 7\t0.07351088523864746\n",
      "1206 4096 29.443359375\n",
      "Retrain itereation: 8\t0.07343864440917969\n",
      "1113 4096 27.1728515625\n",
      "Retrain itereation: 9\t0.07315325736999512\n",
      "961 4096 23.4619140625\n",
      "Retrain itereation: 10\t0.07245159149169922\n",
      "1078 4096 26.318359375\n",
      "Retrain itereation: 11\t0.07359576225280762\n",
      "1174 4096 28.662109375\n",
      "Retrain itereation: 12\t0.07207250595092773\n",
      "1049 4096 25.6103515625\n",
      "Retrain itereation: 13\t0.0722353458404541\n",
      "1202 4096 29.345703125\n",
      "Retrain itereation: 14\t0.07274699211120605\n",
      "1140 4096 27.83203125\n",
      "Retrain itereation: 15\t0.07253098487854004\n",
      "995 4096 24.2919921875\n",
      "Retrain itereation: 16\t0.07256674766540527\n",
      "1074 4096 26.220703125\n",
      "Retrain itereation: 17\t0.07303929328918457\n",
      "1125 4096 27.4658203125\n",
      "Retrain itereation: 18\t0.07233452796936035\n",
      "985 4096 24.0478515625\n",
      "Retrain itereation: 19\t0.07251763343811035\n",
      "1086 4096 26.513671875\n",
      "Retrain itereation: 20\t0.0724945068359375\n",
      "1190 4096 29.052734375\n",
      "Retrain itereation: 21\t0.0728456974029541\n",
      "925 4096 22.5830078125\n",
      "Retrain itereation: 22\t0.07308101654052734\n",
      "978 4096 23.876953125\n",
      "Retrain itereation: 23\t0.07332754135131836\n",
      "978 4096 23.876953125\n",
      "Retrain itereation: 24\t0.07221102714538574\n",
      "849 4096 20.7275390625\n",
      "Retrain itereation: 25\t0.07269954681396484\n",
      "780 4096 19.04296875\n",
      "Retrain itereation: 26\t0.07314109802246094\n",
      "908 4096 22.16796875\n",
      "Retrain itereation: 27\t0.07302570343017578\n",
      "1016 4096 24.8046875\n",
      "Retrain itereation: 28\t0.07299995422363281\n",
      "868 4096 21.19140625\n",
      "Retrain itereation: 29\t0.07350564002990723\n",
      "835 4096 20.3857421875\n",
      "Retrain itereation: 30\t0.07235217094421387\n",
      "945 4096 23.0712890625\n",
      "Retrain itereation: 31\t0.07298755645751953\n",
      "975 4096 23.8037109375\n",
      "Retrain itereation: 32\t0.07305264472961426\n",
      "805 4096 19.6533203125\n",
      "Retrain itereation: 33\t0.07236218452453613\n",
      "807 4096 19.7021484375\n",
      "Retrain itereation: 34\t0.07308697700500488\n",
      "958 4096 23.388671875\n",
      "Retrain itereation: 35\t0.0726320743560791\n",
      "864 4096 21.09375\n",
      "Retrain itereation: 36\t0.07266020774841309\n",
      "606 4096 14.794921875\n",
      "Retrain itereation: 37\t0.07246589660644531\n",
      "888 4096 21.6796875\n",
      "Retrain itereation: 38\t0.07250261306762695\n",
      "1108 4096 27.05078125\n",
      "Retrain itereation: 39\t0.07254886627197266\n",
      "1052 4096 25.68359375\n",
      "Retrain itereation: 40\t0.07268619537353516\n",
      "1015 4096 24.7802734375\n",
      "Retrain itereation: 41\t0.07278919219970703\n",
      "1011 4096 24.6826171875\n",
      "Retrain itereation: 42\t0.07255411148071289\n",
      "1202 4096 29.345703125\n",
      "Retrain itereation: 43\t0.07275247573852539\n",
      "1065 4096 26.0009765625\n",
      "Retrain itereation: 44\t0.07349896430969238\n",
      "904 4096 22.0703125\n",
      "Retrain itereation: 45\t0.07263588905334473\n",
      "939 4096 22.9248046875\n",
      "Retrain itereation: 46\t0.07239151000976562\n",
      "873 4096 21.3134765625\n",
      "Retrain itereation: 47\t0.07252311706542969\n",
      "930 4096 22.705078125\n",
      "Retrain itereation: 48\t0.07322549819946289\n",
      "865 4096 21.1181640625\n",
      "Retrain itereation: 49\t0.07266449928283691\n",
      "963 4096 23.5107421875\n",
      "Retrain itereation: 50\t0.07293033599853516\n",
      "905 4096 22.0947265625\n",
      "Retrain itereation: 51\t0.07290816307067871\n",
      "926 4096 22.607421875\n",
      "Retrain itereation: 52\t0.073333740234375\n",
      "916 4096 22.36328125\n",
      "Retrain itereation: 53\t0.07333517074584961\n",
      "969 4096 23.6572265625\n",
      "Retrain itereation: 54\t0.0727081298828125\n",
      "845 4096 20.6298828125\n",
      "Retrain itereation: 55\t0.07288384437561035\n",
      "896 4096 21.875\n",
      "Retrain itereation: 56\t0.07273626327514648\n",
      "838 4096 20.458984375\n",
      "Retrain itereation: 57\t0.0728459358215332\n",
      "966 4096 23.583984375\n",
      "Retrain itereation: 58\t0.07300639152526855\n",
      "907 4096 22.1435546875\n",
      "Retrain itereation: 59\t0.07305169105529785\n",
      "801 4096 19.5556640625\n",
      "Retrain itereation: 60\t0.0728762149810791\n",
      "863 4096 21.0693359375\n",
      "Retrain itereation: 61\t0.07289457321166992\n",
      "712 4096 17.3828125\n",
      "Retrain itereation: 62\t0.07357358932495117\n",
      "703 4096 17.1630859375\n",
      "Retrain itereation: 63\t0.07332777976989746\n",
      "716 4096 17.48046875\n",
      "Retrain itereation: 64\t0.0728292465209961\n",
      "735 4096 17.9443359375\n",
      "Retrain itereation: 65\t0.07292366027832031\n",
      "801 4096 19.5556640625\n",
      "Retrain itereation: 66\t0.07260870933532715\n",
      "713 4096 17.4072265625\n",
      "Retrain itereation: 67\t0.07243943214416504\n",
      "700 4096 17.08984375\n",
      "Retrain itereation: 68\t0.07289242744445801\n",
      "530 4096 12.939453125\n",
      "Retrain itereation: 69\t0.0728609561920166\n",
      "654 4096 15.966796875\n",
      "Retrain itereation: 70\t0.0729060173034668\n",
      "732 4096 17.87109375\n",
      "Retrain itereation: 71\t0.07258081436157227\n",
      "850 4096 20.751953125\n",
      "Retrain itereation: 72\t0.0725712776184082\n",
      "819 4096 19.9951171875\n",
      "Retrain itereation: 73\t0.07317924499511719\n",
      "564 4096 13.76953125\n",
      "Retrain itereation: 74\t0.07301068305969238\n",
      "793 4096 19.3603515625\n",
      "Retrain itereation: 75\t0.07265830039978027\n",
      "921 4096 22.4853515625\n",
      "Retrain itereation: 76\t0.07279753684997559\n",
      "527 4096 12.8662109375\n",
      "Retrain itereation: 77\t0.07340455055236816\n",
      "838 4096 20.458984375\n",
      "Retrain itereation: 78\t0.07242393493652344\n",
      "897 4096 21.8994140625\n",
      "Retrain itereation: 79\t0.07266616821289062\n",
      "960 4096 23.4375\n",
      "Retrain itereation: 80\t0.07344293594360352\n",
      "808 4096 19.7265625\n",
      "Retrain itereation: 81\t0.07286763191223145\n",
      "622 4096 15.185546875\n",
      "Retrain itereation: 82\t0.07289481163024902\n",
      "709 4096 17.3095703125\n",
      "Retrain itereation: 83\t0.07223892211914062\n",
      "666 4096 16.259765625\n",
      "Retrain itereation: 84\t0.0726461410522461\n",
      "554 4096 13.525390625\n",
      "Retrain itereation: 85\t0.07279610633850098\n",
      "770 4096 18.798828125\n",
      "Retrain itereation: 86\t0.07255411148071289\n",
      "927 4096 22.6318359375\n",
      "Retrain itereation: 87\t0.0723271369934082\n",
      "825 4096 20.1416015625\n",
      "Retrain itereation: 88\t0.07250380516052246\n",
      "636 4096 15.52734375\n",
      "Retrain itereation: 89\t0.07336640357971191\n",
      "591 4096 14.4287109375\n",
      "Retrain itereation: 90\t0.07263898849487305\n",
      "713 4096 17.4072265625\n",
      "Retrain itereation: 91\t0.0733182430267334\n",
      "792 4096 19.3359375\n",
      "Retrain itereation: 92\t0.0729532241821289\n",
      "712 4096 17.3828125\n",
      "Retrain itereation: 93\t0.07269811630249023\n",
      "764 4096 18.65234375\n",
      "Retrain itereation: 94\t0.07277655601501465\n",
      "930 4096 22.705078125\n",
      "Retrain itereation: 95\t0.0725715160369873\n",
      "937 4096 22.8759765625\n",
      "Retrain itereation: 96\t0.07251739501953125\n",
      "911 4096 22.2412109375\n",
      "Retrain itereation: 97\t0.07213401794433594\n",
      "947 4096 23.1201171875\n",
      "Retrain itereation: 98\t0.07282018661499023\n",
      "835 4096 20.3857421875\n",
      "Retrain itereation: 99\t0.07277941703796387\n",
      "754 4096 18.408203125\n"
     ]
    }
   ],
   "source": [
    "RETRAIN_ITERATIONS = 100\n",
    "SHOW_STEP_RESULT = True\n",
    "for it in range(RETRAIN_ITERATIONS):\n",
    "    with hd.utils.timing(\"Retrain itereation: %d\" % it):\n",
    "        class_hvs = retrain(class_hvs, hv_matrix, labels, N, n_classes)\n",
    "\n",
    "    if SHOW_STEP_RESULT and labels is not None:\n",
    "        validate(labels, hd.search(class_hvs, hv_matrix).to_numpy())"
   ]
  },
  {
   "cell_type": "code",
   "execution_count": 41,
   "id": "24ccd1dc",
   "metadata": {},
   "outputs": [],
   "source": [
    "@hd.run\n",
    "def assoc_search(class_hvs, hv_matrix_tst):\n",
    "    ret = hd.search(class_hvs, hv_matrix_tst)\n",
    "    return ret"
   ]
  },
  {
   "cell_type": "code",
   "execution_count": 42,
   "id": "6afddab5",
   "metadata": {},
   "outputs": [
    {
     "name": "stdout",
     "output_type": "stream",
     "text": [
      "Testing with class model\n",
      "\t0.004705667495727539\n",
      "1324 4096 32.32421875\n"
     ]
    }
   ],
   "source": [
    "with hd.utils.timing(\"Testing with class model\\n\"):\n",
    "    search_results = assoc_search(class_hvs, hv_matrix)\n",
    "\n",
    "# search_results.to_numpy()\n",
    "\n",
    "validate(labels, search_results.to_numpy())\n"
   ]
  },
  {
   "cell_type": "markdown",
   "id": "c56e4a8d",
   "metadata": {},
   "source": [
    "# Epoch based training"
   ]
  },
  {
   "cell_type": "code",
   "execution_count": 45,
   "id": "6d75c6b2",
   "metadata": {},
   "outputs": [],
   "source": [
    "@hd.run\n",
    "def epoch_train(class_hvs, hv_matrix, labels, N):\n",
    "    for idx in range(N): # Iterate through each image\n",
    "        class_hvs[labels[idx]] += hv_matrix[idx]\n",
    "    return class_hvs"
   ]
  },
  {
   "cell_type": "code",
   "execution_count": 49,
   "id": "879a4576",
   "metadata": {},
   "outputs": [],
   "source": [
    "BATCH_SIZE = 256\n",
    "from torch.utils.data import DataLoader\n",
    "train_dataloader = create_data_loader(usd, BATCH_SIZE)"
   ]
  },
  {
   "cell_type": "code",
   "execution_count": 50,
   "id": "d16f3eb9",
   "metadata": {},
   "outputs": [
    {
     "name": "stdout",
     "output_type": "stream",
     "text": [
      "\u001b[91m[ERROR]\tjit.date_type_mutator\t\n",
      "<class '_ast.Module'> : \n",
      "  <class '_ast.Assign'> :  [output_hypervector___n_____base_n___2964e176 : __ARG__output_hypervector]\n",
      "  <class '_ast.For'> :  <RPT: F>\n",
      "    <class '_ast.Assign'> :  [output_hypervector___n_____base_n___2964e176 : __ARG__id_hvs*__ARG__level_hvs + output_hypervector___n_____base_n___2964e176]\n",
      "  <class '_ast.Assign'> :  [__ARG__output_hypervector : output_hypervector___n_____base_n___2964e176]\n",
      "\n",
      "\u001b[0m{'__n__': <class 'int'>, '__blockIdx_y__': <class 'int'>, '__base_n__': 'int', '__N__': <class 'int'>, '__blockDim_x__': <class 'int'>, '__F__': <class 'int'>, '__threadIdx_x__': <class 'int'>, 'F_PER_THREAD': <class 'int'>, 'sample_idx_in_stream': <class 'int'>, '__stream__': 'int', '__M__': <class 'int'>, '__f__': <class 'int'>, '__f_idx__': <class 'int'>, 'org_feature': <class 'float'>, 'input_features': 'np_float_array_type', 'cnv_feature': <class 'int'>, 'Q': <class 'int'>, '__shared_features__': 'np_float_array_type', '__d__': <class 'int'>, '__blockIdx_x__': <class 'int'>, '__D__': <class 'int'>, 'f': <class 'int'>, 'F': <class 'int'>, 'output_hypervector': 'hypermat_type', 'level_hvs': 'hypermat_type', 'id_hvs': 'hypermat_type', '__ARG__output_hypervector': 'float*', '__ARG__level_hvs': 'float*', '__ARG__id_hvs': 'float*', '__shared_features___f_fb10dfcf': <class 'float'>, 'level_hvs_f___shared_features___7add4eda': <class 'float'>, 'id_hvs_f_00177a23': <class 'float'>, 'output_hypervector___n_____base_n___2964e176': <class 'float'>, 'input_features_sample_idx_in_stream___f_idx___dc384242': <class 'float'>, '__shared_features_____f_idx___112c42af': <class 'float'>}\n",
      "\u001b[91m[ERROR]\tjit.date_type_mutator\t\n",
      "<class '_ast.Module'> : \n",
      "  <class '_ast.For'> :  <RPT: N>\n",
      "    <class '_ast.Assign'> :  [__ARG__class_hvs : __ARG__class_hvs + __ARG__hv_matrix]\n",
      "\n",
      "\u001b[0m{'idx': <class 'int'>, 'N': <class 'int'>, 'class_hvs': 'hypermat_type', 'labels': 'np_int_array_type', 'hv_matrix': 'hypermat_type', '__ARG__class_hvs': 'float*', '__ARG__hv_matrix': 'float*', '__ARG__labels': 'int*', '__ARG__labels__STRIDE__': 'const int', 'hv_matrix_idx_ead026f6': <class 'float'>, 'labels_idx_b9c77ce4': <class 'int'>, 'class_hvs_idx_labels_df62a0b1': <class 'float'>}\n",
      "166 256 64.84375\n",
      "At epoch  0 :  None\n",
      "188 256 73.4375\n",
      "At epoch  1 :  None\n",
      "184 256 71.875\n",
      "At epoch  2 :  None\n",
      "187 256 73.046875\n",
      "At epoch  3 :  None\n",
      "186 256 72.65625\n",
      "At epoch  4 :  None\n",
      "188 256 73.4375\n",
      "At epoch  5 :  None\n",
      "193 256 75.390625\n",
      "At epoch  6 :  None\n",
      "193 256 75.390625\n",
      "At epoch  7 :  None\n",
      "193 256 75.390625\n",
      "At epoch  8 :  None\n",
      "194 256 75.78125\n",
      "At epoch  9 :  None\n"
     ]
    }
   ],
   "source": [
    "EPOCHS = 10\n",
    "\n",
    "class_hvs = hd.hypermatrix(n_classes)\n",
    "train_performances = []\n",
    "for e in range(EPOCHS):\n",
    "    # Fetch Current Feature batch\n",
    "    feature_matrix, labels= next(iter(train_dataloader))\n",
    "\n",
    "    feature_matrix = np.array(feature_matrix, dtype = np.float32)\n",
    "\n",
    "    feature_matrix = hd.utils.MatrixNormalizer().norm(feature_matrix)\n",
    "    \n",
    "    labels = np.array(labels, dtype = np.int32)\n",
    "    # Encode the signals of this batch\n",
    "    hv_matrix = hd.encode(\n",
    "            encoder, extra_args = (Q, level_hvs, id_hvs),\n",
    "            feature_matrix = feature_matrix,\n",
    "            preprocess_function = preprocesser # optional\n",
    "            )\n",
    "\n",
    "    # add to class_hvs\n",
    "    class_hvs = epoch_train(class_hvs, hv_matrix, labels, BATCH_SIZE)\n",
    "\n",
    "    v = validate(labels, hd.search(class_hvs, hv_matrix).to_numpy())\n",
    "    train_performances.append(v)\n",
    "    print(\"At epoch \",e, \": \", v)"
   ]
  },
  {
   "cell_type": "code",
   "execution_count": 51,
   "id": "de35a1cc",
   "metadata": {},
   "outputs": [
    {
     "name": "stdout",
     "output_type": "stream",
     "text": [
      "Testing with class model\n",
      "\t0.01778268814086914\n",
      "194 256 75.78125\n"
     ]
    }
   ],
   "source": [
    "with hd.utils.timing(\"Testing with class model\\n\"):\n",
    "    search_results = assoc_search(class_hvs, hv_matrix)\n",
    "\n",
    "# search_results.to_numpy()\n",
    "\n",
    "validate(labels, search_results.to_numpy())"
   ]
  },
  {
   "cell_type": "code",
   "execution_count": null,
   "id": "19f2f262",
   "metadata": {},
   "outputs": [],
   "source": []
  }
 ],
 "metadata": {
  "kernelspec": {
   "display_name": "Python 3 (ipykernel)",
   "language": "python",
   "name": "python3"
  },
  "language_info": {
   "codemirror_mode": {
    "name": "ipython",
    "version": 3
   },
   "file_extension": ".py",
   "mimetype": "text/x-python",
   "name": "python",
   "nbconvert_exporter": "python",
   "pygments_lexer": "ipython3",
   "version": "3.8.0"
  }
 },
 "nbformat": 4,
 "nbformat_minor": 5
}
